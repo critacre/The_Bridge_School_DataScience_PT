{
  "nbformat": 4,
  "nbformat_minor": 0,
  "metadata": {
    "kernelspec": {
      "display_name": "Python 3",
      "language": "python",
      "name": "python3"
    },
    "language_info": {
      "codemirror_mode": {
        "name": "ipython",
        "version": 3
      },
      "file_extension": ".py",
      "mimetype": "text/x-python",
      "name": "python",
      "nbconvert_exporter": "python",
      "pygments_lexer": "ipython3",
      "version": "3.8.6"
    },
    "colab": {
      "name": "pra02-pra-numpyCris.ipynb",
      "provenance": [],
      "collapsed_sections": []
    }
  },
  "cells": [
    {
      "cell_type": "markdown",
      "metadata": {
        "id": "aHAMmexakFSm"
      },
      "source": [
        "# Programación 201"
      ]
    },
    {
      "cell_type": "markdown",
      "metadata": {
        "id": "2tFKEL6ZkFSq"
      },
      "source": [
        "Librerías científicas en Python: `NumPy`\n",
        "------------------------------------------------------"
      ]
    },
    {
      "cell_type": "markdown",
      "metadata": {
        "id": "kvltMqpGkFSr"
      },
      "source": [
        "### Ejercicio 1\n",
        "Calculad la norma y el determinante de la siguiente matriz: ```[[1, 0], [2, -1]]```."
      ]
    },
    {
      "cell_type": "code",
      "metadata": {
        "colab": {
          "base_uri": "https://localhost:8080/"
        },
        "id": "NxJvObjYkFSr",
        "outputId": "d8aad48d-910b-446b-9184-32ca3820e9e0"
      },
      "source": [
        "import numpy as np\n",
        "matriz = np.array([[1,0],[2,-1]])\n",
        "\n",
        "np.linalg.det(matriz)\n"
      ],
      "execution_count": null,
      "outputs": [
        {
          "output_type": "execute_result",
          "data": {
            "text/plain": [
              "-1.0"
            ]
          },
          "metadata": {
            "tags": []
          },
          "execution_count": 4
        }
      ]
    },
    {
      "cell_type": "markdown",
      "metadata": {
        "id": "O0Uk0EERkFSs"
      },
      "source": [
        "### Ejercicio 2 \n",
        "Evaluad las funciones arcoseno y arcocoseno en el intervalo [0,1] y con paso (resolución) de 0.1 y guardadlas en dos _arrays_."
      ]
    },
    {
      "cell_type": "code",
      "metadata": {
        "id": "p_xNOjkakFSs"
      },
      "source": [
        "arcocoseno = np.round(np.arccos([0,1]),1)\n",
        "arcoseno = np.round(np.arcsin([0,1]),1)\n"
      ],
      "execution_count": null,
      "outputs": []
    },
    {
      "cell_type": "markdown",
      "metadata": {
        "id": "5_zZZTyEkFSt"
      },
      "source": [
        "### Ejercicio 3\n",
        "Generad una lista de 100 valores enteros aleatorios de 0-9. Realizad los siguientes cálculos utilizando métodos de _numpy_:\n",
        "- Media y desviación estándar de los valores de la lista\n",
        "- Valor máximo y mínimo\n",
        "- Sumad todos los valores de la lista\n",
        "- Conseguid una lista de valores únicos"
      ]
    },
    {
      "cell_type": "code",
      "metadata": {
        "colab": {
          "base_uri": "https://localhost:8080/"
        },
        "id": "4njhukfLkFSu",
        "outputId": "c861d182-eadc-426c-fdcb-218d354167ad"
      },
      "source": [
        "lista = (10*np.random.random(100)).astype(int)\n",
        "lista"
      ],
      "execution_count": null,
      "outputs": [
        {
          "output_type": "execute_result",
          "data": {
            "text/plain": [
              "array([5, 2, 2, 1, 7, 5, 9, 1, 7, 6, 5, 4, 1, 8, 9, 3, 9, 6, 0, 5, 3, 2,\n",
              "       1, 9, 8, 2, 0, 6, 2, 6, 2, 8, 7, 8, 5, 9, 4, 3, 2, 5, 4, 7, 4, 4,\n",
              "       5, 1, 6, 4, 2, 3, 3, 4, 6, 0, 3, 1, 7, 3, 0, 8, 9, 5, 6, 3, 1, 0,\n",
              "       4, 9, 5, 6, 1, 8, 4, 8, 4, 0, 1, 0, 4, 6, 2, 6, 0, 3, 9, 6, 6, 6,\n",
              "       4, 6, 4, 9, 0, 5, 4, 2, 0, 7, 6, 0])"
            ]
          },
          "metadata": {
            "tags": []
          },
          "execution_count": 32
        }
      ]
    },
    {
      "cell_type": "code",
      "metadata": {
        "colab": {
          "base_uri": "https://localhost:8080/"
        },
        "id": "uXACPF0FXLMA",
        "outputId": "49e89dfa-68c1-4d62-9dc8-8c0d17f8e688"
      },
      "source": [
        "#media\n",
        "np.mean(lista)"
      ],
      "execution_count": null,
      "outputs": [
        {
          "output_type": "execute_result",
          "data": {
            "text/plain": [
              "4.67"
            ]
          },
          "metadata": {
            "tags": []
          },
          "execution_count": 30
        }
      ]
    },
    {
      "cell_type": "code",
      "metadata": {
        "colab": {
          "base_uri": "https://localhost:8080/"
        },
        "id": "xl3FLaJzXSdB",
        "outputId": "236a723d-3840-407f-fd9e-e8e094c50617"
      },
      "source": [
        "#desviación típica\n",
        "np.std(lista)"
      ],
      "execution_count": null,
      "outputs": [
        {
          "output_type": "execute_result",
          "data": {
            "text/plain": [
              "2.8497543753804466"
            ]
          },
          "metadata": {
            "tags": []
          },
          "execution_count": 32
        }
      ]
    },
    {
      "cell_type": "code",
      "metadata": {
        "colab": {
          "base_uri": "https://localhost:8080/"
        },
        "id": "KIo1igWAXcvW",
        "outputId": "831dbb79-e460-4877-b144-3694afff8f7a"
      },
      "source": [
        "#valor máximo\n",
        "np.max(lista)"
      ],
      "execution_count": null,
      "outputs": [
        {
          "output_type": "execute_result",
          "data": {
            "text/plain": [
              "9"
            ]
          },
          "metadata": {
            "tags": []
          },
          "execution_count": 33
        }
      ]
    },
    {
      "cell_type": "code",
      "metadata": {
        "colab": {
          "base_uri": "https://localhost:8080/"
        },
        "id": "VlpDFfNDXh5m",
        "outputId": "84a16fd6-8b52-4903-ac78-4059389eed63"
      },
      "source": [
        "#valor mínimo\n",
        "np.min(lista)"
      ],
      "execution_count": null,
      "outputs": [
        {
          "output_type": "execute_result",
          "data": {
            "text/plain": [
              "0"
            ]
          },
          "metadata": {
            "tags": []
          },
          "execution_count": 34
        }
      ]
    },
    {
      "cell_type": "code",
      "metadata": {
        "colab": {
          "base_uri": "https://localhost:8080/"
        },
        "id": "8tMr8O9VXnd2",
        "outputId": "facb369c-3d0b-40f0-ea35-0111088f4253"
      },
      "source": [
        "#sumar todos los valores de la lista\n",
        "sum(lista)"
      ],
      "execution_count": null,
      "outputs": [
        {
          "output_type": "execute_result",
          "data": {
            "text/plain": [
              "467"
            ]
          },
          "metadata": {
            "tags": []
          },
          "execution_count": 35
        }
      ]
    },
    {
      "cell_type": "code",
      "metadata": {
        "colab": {
          "base_uri": "https://localhost:8080/"
        },
        "id": "IXtHeBUOXuEp",
        "outputId": "22eb8bd8-8c1c-4842-9b84-5e404b298a0a"
      },
      "source": [
        "#lista de valores únicos\n",
        "np.unique(lista)"
      ],
      "execution_count": null,
      "outputs": [
        {
          "output_type": "execute_result",
          "data": {
            "text/plain": [
              "array([0, 1, 2, 3, 4, 5, 6, 7, 8, 9])"
            ]
          },
          "metadata": {
            "tags": []
          },
          "execution_count": 36
        }
      ]
    },
    {
      "cell_type": "markdown",
      "metadata": {
        "id": "iyHy0F2OkFSv"
      },
      "source": [
        "### Ejercicio 4\n",
        "Ordenad la matriz bidimensional ```[[5,1,7], [0,7,4], [7,23,1]]``` por filas utilizando como algoritmo de ordenación el [Merge sort](https://en.wikipedia.org/wiki/Merge_sort).\n",
        "\n",
        "**Hint:** No es necesario que implementéis el algoritmo de ordenación a mano, NumPy contiene métodos para realizar diferentes tipos de ordenación sobre diferentes estructuras de datos."
      ]
    },
    {
      "cell_type": "code",
      "metadata": {
        "colab": {
          "base_uri": "https://localhost:8080/"
        },
        "id": "RN81yQWDkFSw",
        "outputId": "c764b46f-8414-4d44-9765-3465b0e824c6"
      },
      "source": [
        "\n",
        "matriz_b = np.array([[5,1,7],[0,7,4],[7,23,1]])\n",
        "matriz_b.sort(axis=-1,kind='mergesort', order= None)\n",
        "print(matriz_b)\n",
        "\n",
        "#DUDA: ¿Por qué si lo pongo todo en una fila no funciona?\n",
        "#matriz_b = np.array([[5,1,7],[0,7,4],[7,23,1]]).sort(axis=-1,kind='mergesort', order= None)"
      ],
      "execution_count": null,
      "outputs": [
        {
          "output_type": "stream",
          "text": [
            "[[ 1  5  7]\n",
            " [ 0  4  7]\n",
            " [ 1  7 23]]\n"
          ],
          "name": "stdout"
        }
      ]
    },
    {
      "cell_type": "markdown",
      "metadata": {
        "id": "zrD_I6RMkFSx"
      },
      "source": [
        "### Ejercicio 5\n",
        "Definid una función que dadas dos matrices, devuelva el valor absoluto de la multiplicación de los determinantes ambas, es decir, dadas A y B, nuestra función devolverá `|det(A) * det(B)|`."
      ]
    },
    {
      "cell_type": "code",
      "metadata": {
        "colab": {
          "base_uri": "https://localhost:8080/"
        },
        "id": "0b0w38xdkFSx",
        "outputId": "f21a031d-0ee9-4952-ed85-bd8575793d42"
      },
      "source": [
        "def mult_deter(A,B):\n",
        "  resultado = np.linalg.det(A)*np.linalg.det(B)\n",
        "  return abs(resultado)\n",
        "\n",
        "A=np.array([[1,0],[2,-1]])\n",
        "B=np.array([[1,0],[2,5]])\n",
        "mult_deter(A,B)\n",
        "\n",
        "#DUDA: No funciona lo siguiente:\n",
        "#if type(A) != 'numpy.ndarray' or type(B) != 'numpy.ndarray':\n",
        "#  print('Los argumentos introducidos no son matrices')"
      ],
      "execution_count": null,
      "outputs": [
        {
          "output_type": "execute_result",
          "data": {
            "text/plain": [
              "5.000000000000001"
            ]
          },
          "metadata": {
            "tags": []
          },
          "execution_count": 60
        }
      ]
    },
    {
      "cell_type": "markdown",
      "metadata": {
        "id": "MY84Xh6DkFSx"
      },
      "source": [
        "### Ejercicio 6\n",
        "Cread una matriz 10x10 que corresponda con la [matriz identidad](https://es.wikipedia.org/wiki/Matriz_identidad) usando generadores básicos de arrays. Cread una matriz identidad 10x10 (esta vez usando generadores especificos de matrices identidad) y comprobad que ambas matrices son iguales\n",
        "\n",
        "**Consideraciones**:\n",
        "- La primera matriz debe crearse usando constructores básicos de arrays, como los presentados en los Notebooks de teoría.\n",
        "* La segunda matriz debe generarse utilizando el generador de matrices identidad de numpy.\n",
        "* La comparación debe devolver True si las matrices son iguales (un único True), False de no ser así."
      ]
    },
    {
      "cell_type": "code",
      "metadata": {
        "colab": {
          "base_uri": "https://localhost:8080/"
        },
        "id": "w_YaaYKokFSy",
        "outputId": "28d7733f-e51a-47b7-b9f3-19a42ac282a8"
      },
      "source": [
        "def matr_identidad(n):\n",
        "  A=np.zeros((n,n))\n",
        "  for i in range(n):\n",
        "    A[i][i] = 1\n",
        "  print('A =',A)    \n",
        "  \n",
        "  B = np.identity(n)\n",
        "  print('B =',B)\n",
        "  print((A == B).all())\n",
        "\n",
        "\n",
        "matr_identidad(5)"
      ],
      "execution_count": null,
      "outputs": [
        {
          "output_type": "stream",
          "text": [
            "A = [[1. 0. 0. 0. 0.]\n",
            " [0. 1. 0. 0. 0.]\n",
            " [0. 0. 1. 0. 0.]\n",
            " [0. 0. 0. 1. 0.]\n",
            " [0. 0. 0. 0. 1.]]\n",
            "B = [[1. 0. 0. 0. 0.]\n",
            " [0. 1. 0. 0. 0.]\n",
            " [0. 0. 1. 0. 0.]\n",
            " [0. 0. 0. 1. 0.]\n",
            " [0. 0. 0. 0. 1.]]\n",
            "True\n"
          ],
          "name": "stdout"
        }
      ]
    },
    {
      "cell_type": "markdown",
      "metadata": {
        "id": "WyLvJicIkFSy"
      },
      "source": [
        "### Ejercicio 7\n",
        "Cread una matriz de 2x6 donde los valores de cada posición `(i, j)` correspondan a `i^2+j` para todo `i` par, `i/j^2` para todo `i` impar."
      ]
    },
    {
      "cell_type": "code",
      "metadata": {
        "colab": {
          "base_uri": "https://localhost:8080/"
        },
        "id": "CvpwKa4XkFSy",
        "outputId": "6fe4fcb3-a130-4b05-ff47-77f2824b3311"
      },
      "source": [
        "for i in range(1,3):\n",
        "  for j in range(1,7):\n",
        "    if (i)%2 == 0:\n",
        "      A[i-1][j-1] = i**2+j\n",
        "    else:\n",
        "      A[i-1][j-1]=i/j**2\n",
        "print(A)"
      ],
      "execution_count": null,
      "outputs": [
        {
          "output_type": "stream",
          "text": [
            "[[ 1.          0.25        0.11111111  0.0625      0.04        0.02777778]\n",
            " [ 5.          6.          7.          8.          9.         10.        ]]\n"
          ],
          "name": "stdout"
        }
      ]
    },
    {
      "cell_type": "code",
      "metadata": {
        "colab": {
          "base_uri": "https://localhost:8080/"
        },
        "id": "lzeMcTsf_0f3",
        "outputId": "6b55d553-4aa9-4fea-97c9-429e770a6031"
      },
      "source": [
        "j = [1,2,3,4,5,6]\n",
        "resultado = np.array([[1/n**2 for n in j],[2**2+n for n in j]])\n",
        "resultado"
      ],
      "execution_count": null,
      "outputs": [
        {
          "output_type": "execute_result",
          "data": {
            "text/plain": [
              "array([[ 1.        ,  0.25      ,  0.11111111,  0.0625    ,  0.04      ,\n",
              "         0.02777778],\n",
              "       [ 5.        ,  6.        ,  7.        ,  8.        ,  9.        ,\n",
              "        10.        ]])"
            ]
          },
          "metadata": {
            "tags": []
          },
          "execution_count": 139
        }
      ]
    },
    {
      "cell_type": "markdown",
      "metadata": {
        "id": "SuCEX6a7kFSy"
      },
      "source": [
        "### Ejercicio 8\n",
        "Cread dos matrices de tamaño 5x5 con números reales aleatorios. Obtened el resultado de multiplicar ambas matrices usando los dos métodos de multiplicación de matrices vistos en el Notebook de teoría. ¿Cuál es la diferencia entre ambos resultados? Cread ahora dos matrices de tamaño 4x5 y 5x5 respectivamente, repetid la operación. Describid cuál de los métodos de multiplicación podéis aplicar y porqué"
      ]
    },
    {
      "cell_type": "code",
      "metadata": {
        "colab": {
          "base_uri": "https://localhost:8080/"
        },
        "id": "4v5pb5AekFSz",
        "outputId": "29139f5a-37ad-4fc2-d305-2ff9c5e85277"
      },
      "source": [
        "A = np.random.random((5,5))\n",
        "B = np.random.random((5,5))\n",
        "#multiplicamos las matrices elemento por elemento:\n",
        "print(A*B)\n",
        "#multiplicamos matriz por matriz\n",
        "print(A.dot(B))"
      ],
      "execution_count": null,
      "outputs": [
        {
          "output_type": "stream",
          "text": [
            "[[0.12462072 0.04991981 0.0617125  0.67193429 0.08886364]\n",
            " [0.08897347 0.474183   0.37353964 0.14262666 0.08359237]\n",
            " [0.00658062 0.17227999 0.12325441 0.85021232 0.17209034]\n",
            " [0.55336601 0.20066955 0.10619073 0.38348729 0.08087978]\n",
            " [0.32572529 0.12800039 0.0935408  0.33887543 0.05254258]]\n",
            "[[1.64112954 1.47241318 1.5212088  1.80507991 0.95142099]\n",
            " [0.7993224  1.07593289 1.2539176  1.65776761 0.63233144]\n",
            " [1.68556334 1.51671018 1.51885069 2.19776094 0.95841233]\n",
            " [1.28977347 1.08072021 1.15943513 1.56340956 0.67670317]\n",
            " [0.96250657 0.58338273 0.64929983 1.09976323 0.27509723]]\n"
          ],
          "name": "stdout"
        }
      ]
    },
    {
      "cell_type": "code",
      "metadata": {
        "colab": {
          "base_uri": "https://localhost:8080/",
          "height": 218
        },
        "id": "DGxfI6aEoG_9",
        "outputId": "75b78123-ae4e-4251-c88c-20e70f51d88e"
      },
      "source": [
        "A = np.random.random((4,5))\n",
        "B = np.random.random((5,5))\n",
        "#multiplicamos las matrices elemento por elemento, como el número de elementos en cada matriz es diferente, nos dará error:\n",
        "print(A*B)\n",
        "#multiplicamos matriz por matriz,  como el nºde columnas de A = nºfilas de B, no hay error\n",
        "print(A.dot(B))"
      ],
      "execution_count": null,
      "outputs": [
        {
          "output_type": "error",
          "ename": "ValueError",
          "evalue": "ignored",
          "traceback": [
            "\u001b[0;31m---------------------------------------------------------------------------\u001b[0m",
            "\u001b[0;31mValueError\u001b[0m                                Traceback (most recent call last)",
            "\u001b[0;32m<ipython-input-91-25a35e2949a3>\u001b[0m in \u001b[0;36m<module>\u001b[0;34m()\u001b[0m\n\u001b[1;32m      1\u001b[0m \u001b[0mA\u001b[0m \u001b[0;34m=\u001b[0m \u001b[0mnp\u001b[0m\u001b[0;34m.\u001b[0m\u001b[0mrandom\u001b[0m\u001b[0;34m.\u001b[0m\u001b[0mrandom\u001b[0m\u001b[0;34m(\u001b[0m\u001b[0;34m(\u001b[0m\u001b[0;36m4\u001b[0m\u001b[0;34m,\u001b[0m\u001b[0;36m5\u001b[0m\u001b[0;34m)\u001b[0m\u001b[0;34m)\u001b[0m\u001b[0;34m\u001b[0m\u001b[0;34m\u001b[0m\u001b[0m\n\u001b[1;32m      2\u001b[0m \u001b[0mB\u001b[0m \u001b[0;34m=\u001b[0m \u001b[0mnp\u001b[0m\u001b[0;34m.\u001b[0m\u001b[0mrandom\u001b[0m\u001b[0;34m.\u001b[0m\u001b[0mrandom\u001b[0m\u001b[0;34m(\u001b[0m\u001b[0;34m(\u001b[0m\u001b[0;36m5\u001b[0m\u001b[0;34m,\u001b[0m\u001b[0;36m5\u001b[0m\u001b[0;34m)\u001b[0m\u001b[0;34m)\u001b[0m\u001b[0;34m\u001b[0m\u001b[0;34m\u001b[0m\u001b[0m\n\u001b[0;32m----> 3\u001b[0;31m \u001b[0mprint\u001b[0m\u001b[0;34m(\u001b[0m\u001b[0mA\u001b[0m\u001b[0;34m*\u001b[0m\u001b[0mB\u001b[0m\u001b[0;34m)\u001b[0m\u001b[0;34m\u001b[0m\u001b[0;34m\u001b[0m\u001b[0m\n\u001b[0m\u001b[1;32m      4\u001b[0m \u001b[0mprint\u001b[0m\u001b[0;34m(\u001b[0m\u001b[0mA\u001b[0m\u001b[0;34m.\u001b[0m\u001b[0mdot\u001b[0m\u001b[0;34m(\u001b[0m\u001b[0mB\u001b[0m\u001b[0;34m)\u001b[0m\u001b[0;34m)\u001b[0m\u001b[0;34m\u001b[0m\u001b[0;34m\u001b[0m\u001b[0m\n",
            "\u001b[0;31mValueError\u001b[0m: operands could not be broadcast together with shapes (4,5) (5,5) "
          ]
        }
      ]
    }
  ]
}