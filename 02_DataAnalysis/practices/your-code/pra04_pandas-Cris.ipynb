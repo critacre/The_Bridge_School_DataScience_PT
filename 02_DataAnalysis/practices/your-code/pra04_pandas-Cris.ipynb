{
  "nbformat": 4,
  "nbformat_minor": 0,
  "metadata": {
    "kernelspec": {
      "display_name": "Python 3",
      "language": "python",
      "name": "python3"
    },
    "language_info": {
      "codemirror_mode": {
        "name": "ipython",
        "version": 3
      },
      "file_extension": ".py",
      "mimetype": "text/x-python",
      "name": "python",
      "nbconvert_exporter": "python",
      "pygments_lexer": "ipython3",
      "version": "3.7.3"
    },
    "colab": {
      "name": "pra04-pandas.ipynb",
      "provenance": [],
      "collapsed_sections": []
    }
  },
  "cells": [
    {
      "cell_type": "markdown",
      "metadata": {
        "id": "h3MI_lqFqsqD"
      },
      "source": [
        "# Programación 201"
      ]
    },
    {
      "cell_type": "markdown",
      "metadata": {
        "id": "Fh1qgWc4qsqH"
      },
      "source": [
        "### Ejercicio 1\n",
        "\n",
        "Carga los datos desde el archivo `netflixtitles.csv` , que puedes encontrar en la carpeta `data`, en un *dataframe*. Este conjunto de datos recoje información sobre películas y séries de TV de Netflix (https://www.kaggle.com/shivamb/netflix-shows) hasta el 2019.  \n",
        "\n",
        "Muestra el número de filas del *dataframe* y los nombres de las columnas.\n",
        "\n",
        "*Consideraciones:*\n",
        "\n",
        "*  Muestra únicamente la información pedida en el enunciado.\n"
      ]
    },
    {
      "cell_type": "code",
      "metadata": {
        "colab": {
          "base_uri": "https://localhost:8080/"
        },
        "id": "TP3L6IU_qsqI",
        "outputId": "a5c11b65-84db-4b3c-8201-c02d9cad02c4"
      },
      "source": [
        "import pandas as pd\n",
        "import numpy as np\n",
        "netflix_df = pd.read_csv('/content/netflixtitles.csv')\n",
        "print('El número de filas del dataframe es:', netflix_df.shape[0])\n",
        "print('Estos son los nombres de las columnas:', netflix_df.columns)\n"
      ],
      "execution_count": 14,
      "outputs": [
        {
          "output_type": "stream",
          "text": [
            "El número de filas del dataframe es: 6234\n",
            "Estos son los nombres de las columnas: Index(['show_id', 'type', 'title', 'director', 'cast', 'country', 'date_added',\n",
            "       'release_year', 'rating', 'duration', 'listed_in', 'description'],\n",
            "      dtype='object')\n"
          ],
          "name": "stdout"
        }
      ]
    },
    {
      "cell_type": "markdown",
      "metadata": {
        "id": "x9yxQbmQqsqI"
      },
      "source": [
        "### Ejercicio 2\n",
        "\n",
        "Agrupa los datos cargados en el ejercicio 1 por **año** y, para cada año, muestra el número total de películas (*Movies*) y series de TV (*TV Show*) por separado. \n",
        "\n",
        "**Nota:** Al Notebook de teoría hemos visto cómo calcular la media de una agrupación de datos. Para resolver este ejercicio necesitarás investigar cómo contar (*count*) todos los valores de una columna en una agrupación. Te puede ser de utilidad la función [aggregate](https://pandas.pydata.org/pandas-docs/stable/reference/api/pandas.DataFrame.aggregate.html) de pandas, la que nos permite aplicar diferentes funciones a una columna en un ```groupby```.\n"
      ]
    },
    {
      "cell_type": "code",
      "metadata": {
        "colab": {
          "base_uri": "https://localhost:8080/",
          "height": 455
        },
        "id": "L3eUcmu0qsqJ",
        "outputId": "5d684a7d-f360-4314-8bf0-131bae13116b"
      },
      "source": [
        "netflix_df_ordered = netflix_df.groupby(['release_year', 'type']).agg({'show_id': 'count'})\n",
        "netflix_df_ordered"
      ],
      "execution_count": 15,
      "outputs": [
        {
          "output_type": "execute_result",
          "data": {
            "text/html": [
              "<div>\n",
              "<style scoped>\n",
              "    .dataframe tbody tr th:only-of-type {\n",
              "        vertical-align: middle;\n",
              "    }\n",
              "\n",
              "    .dataframe tbody tr th {\n",
              "        vertical-align: top;\n",
              "    }\n",
              "\n",
              "    .dataframe thead th {\n",
              "        text-align: right;\n",
              "    }\n",
              "</style>\n",
              "<table border=\"1\" class=\"dataframe\">\n",
              "  <thead>\n",
              "    <tr style=\"text-align: right;\">\n",
              "      <th></th>\n",
              "      <th></th>\n",
              "      <th>show_id</th>\n",
              "    </tr>\n",
              "    <tr>\n",
              "      <th>release_year</th>\n",
              "      <th>type</th>\n",
              "      <th></th>\n",
              "    </tr>\n",
              "  </thead>\n",
              "  <tbody>\n",
              "    <tr>\n",
              "      <th>1925</th>\n",
              "      <th>TV Show</th>\n",
              "      <td>1</td>\n",
              "    </tr>\n",
              "    <tr>\n",
              "      <th>1942</th>\n",
              "      <th>Movie</th>\n",
              "      <td>2</td>\n",
              "    </tr>\n",
              "    <tr>\n",
              "      <th>1943</th>\n",
              "      <th>Movie</th>\n",
              "      <td>3</td>\n",
              "    </tr>\n",
              "    <tr>\n",
              "      <th>1944</th>\n",
              "      <th>Movie</th>\n",
              "      <td>3</td>\n",
              "    </tr>\n",
              "    <tr>\n",
              "      <th>1945</th>\n",
              "      <th>Movie</th>\n",
              "      <td>3</td>\n",
              "    </tr>\n",
              "    <tr>\n",
              "      <th>...</th>\n",
              "      <th>...</th>\n",
              "      <td>...</td>\n",
              "    </tr>\n",
              "    <tr>\n",
              "      <th>2018</th>\n",
              "      <th>TV Show</th>\n",
              "      <td>417</td>\n",
              "    </tr>\n",
              "    <tr>\n",
              "      <th rowspan=\"2\" valign=\"top\">2019</th>\n",
              "      <th>Movie</th>\n",
              "      <td>400</td>\n",
              "    </tr>\n",
              "    <tr>\n",
              "      <th>TV Show</th>\n",
              "      <td>443</td>\n",
              "    </tr>\n",
              "    <tr>\n",
              "      <th rowspan=\"2\" valign=\"top\">2020</th>\n",
              "      <th>Movie</th>\n",
              "      <td>6</td>\n",
              "    </tr>\n",
              "    <tr>\n",
              "      <th>TV Show</th>\n",
              "      <td>19</td>\n",
              "    </tr>\n",
              "  </tbody>\n",
              "</table>\n",
              "<p>115 rows × 1 columns</p>\n",
              "</div>"
            ],
            "text/plain": [
              "                      show_id\n",
              "release_year type            \n",
              "1925         TV Show        1\n",
              "1942         Movie          2\n",
              "1943         Movie          3\n",
              "1944         Movie          3\n",
              "1945         Movie          3\n",
              "...                       ...\n",
              "2018         TV Show      417\n",
              "2019         Movie        400\n",
              "             TV Show      443\n",
              "2020         Movie          6\n",
              "             TV Show       19\n",
              "\n",
              "[115 rows x 1 columns]"
            ]
          },
          "metadata": {
            "tags": []
          },
          "execution_count": 15
        }
      ]
    },
    {
      "cell_type": "markdown",
      "metadata": {
        "id": "r8a44Iy6qsqJ"
      },
      "source": [
        "### Ejercicio 3\n",
        "\n",
        "Muestra las películas estrenadas el _2019_ que tienen una duración superior a _100_ minutos. \n",
        "\n",
        "**Nota:** Al Notebook de teoría hemos visto operaciones básicas de filtrado. Para resolver este ejercicio necesitarás investigar cómo aplicar condiciones más complejas. \n",
        "\n",
        "**Nota 2:** Los valores de la columna de duración (*duration*) son strings, ya que combinan números y letras. Por lo tanto, se tienen que transformar a int una vez se haya construido el subset de datos de películas. Te puede ser de utilidad la función [astype](https://pandas.pydata.org/pandas-docs/stable/reference/api/pandas.DataFrame.astype.html) de pandas.\n",
        " \n"
      ]
    },
    {
      "cell_type": "code",
      "metadata": {
        "colab": {
          "base_uri": "https://localhost:8080/"
        },
        "id": "49aboBfZLlV9",
        "outputId": "284e0868-076f-404e-b288-cf74a0ad9c78"
      },
      "source": [
        "netflix_df.dtypes"
      ],
      "execution_count": 16,
      "outputs": [
        {
          "output_type": "execute_result",
          "data": {
            "text/plain": [
              "show_id          int64\n",
              "type            object\n",
              "title           object\n",
              "director        object\n",
              "cast            object\n",
              "country         object\n",
              "date_added      object\n",
              "release_year     int64\n",
              "rating          object\n",
              "duration        object\n",
              "listed_in       object\n",
              "description     object\n",
              "dtype: object"
            ]
          },
          "metadata": {
            "tags": []
          },
          "execution_count": 16
        }
      ]
    },
    {
      "cell_type": "code",
      "metadata": {
        "colab": {
          "base_uri": "https://localhost:8080/"
        },
        "id": "gssRyaeZL0hC",
        "outputId": "60b5d4a1-148b-48e0-cebd-6d1572757c92"
      },
      "source": [
        "netflix_df.duration"
      ],
      "execution_count": 17,
      "outputs": [
        {
          "output_type": "execute_result",
          "data": {
            "text/plain": [
              "0               90\n",
              "1               94\n",
              "2         1 Season\n",
              "3         1 Season\n",
              "4               99\n",
              "           ...    \n",
              "6229    13 Seasons\n",
              "6230     4 Seasons\n",
              "6231            60\n",
              "6232     2 Seasons\n",
              "6233    10 Seasons\n",
              "Name: duration, Length: 6234, dtype: object"
            ]
          },
          "metadata": {
            "tags": []
          },
          "execution_count": 17
        }
      ]
    },
    {
      "cell_type": "code",
      "metadata": {
        "colab": {
          "base_uri": "https://localhost:8080/",
          "height": 659
        },
        "id": "iaq9BwTqqsqK",
        "outputId": "758fe64e-d95f-4b84-8e19-c9ae81354691"
      },
      "source": [
        "filter1 = netflix_df['type'].isin(['Movie'])\n",
        "filter2 = netflix_df['release_year'].isin(['2019'])\n",
        "movies_2019 = netflix_df[filter1 & filter2]\n",
        "movies_2019.head()"
      ],
      "execution_count": 18,
      "outputs": [
        {
          "output_type": "execute_result",
          "data": {
            "text/html": [
              "<div>\n",
              "<style scoped>\n",
              "    .dataframe tbody tr th:only-of-type {\n",
              "        vertical-align: middle;\n",
              "    }\n",
              "\n",
              "    .dataframe tbody tr th {\n",
              "        vertical-align: top;\n",
              "    }\n",
              "\n",
              "    .dataframe thead th {\n",
              "        text-align: right;\n",
              "    }\n",
              "</style>\n",
              "<table border=\"1\" class=\"dataframe\">\n",
              "  <thead>\n",
              "    <tr style=\"text-align: right;\">\n",
              "      <th></th>\n",
              "      <th>show_id</th>\n",
              "      <th>type</th>\n",
              "      <th>title</th>\n",
              "      <th>director</th>\n",
              "      <th>cast</th>\n",
              "      <th>country</th>\n",
              "      <th>date_added</th>\n",
              "      <th>release_year</th>\n",
              "      <th>rating</th>\n",
              "      <th>duration</th>\n",
              "      <th>listed_in</th>\n",
              "      <th>description</th>\n",
              "    </tr>\n",
              "  </thead>\n",
              "  <tbody>\n",
              "    <tr>\n",
              "      <th>0</th>\n",
              "      <td>81145628</td>\n",
              "      <td>Movie</td>\n",
              "      <td>Norm of the North: King Sized Adventure</td>\n",
              "      <td>Richard Finn, Tim Maltby</td>\n",
              "      <td>Alan Marriott, Andrew Toth, Brian Dobson, Cole...</td>\n",
              "      <td>United States, India, South Korea, China</td>\n",
              "      <td>September 9, 2019</td>\n",
              "      <td>2019</td>\n",
              "      <td>TV-PG</td>\n",
              "      <td>90</td>\n",
              "      <td>Children &amp; Family Movies, Comedies</td>\n",
              "      <td>Before planning an awesome wedding for his gra...</td>\n",
              "    </tr>\n",
              "    <tr>\n",
              "      <th>35</th>\n",
              "      <td>81154455</td>\n",
              "      <td>Movie</td>\n",
              "      <td>Article 15</td>\n",
              "      <td>Anubhav Sinha</td>\n",
              "      <td>Ayushmann Khurrana, Nassar, Manoj Pahwa, Kumud...</td>\n",
              "      <td>India</td>\n",
              "      <td>September 6, 2019</td>\n",
              "      <td>2019</td>\n",
              "      <td>TV-MA</td>\n",
              "      <td>125</td>\n",
              "      <td>Dramas, International Movies, Thrillers</td>\n",
              "      <td>The grim realities of caste discrimination com...</td>\n",
              "    </tr>\n",
              "    <tr>\n",
              "      <th>38</th>\n",
              "      <td>81132437</td>\n",
              "      <td>Movie</td>\n",
              "      <td>Kill Me If You Dare</td>\n",
              "      <td>Şenol Sönmez</td>\n",
              "      <td>Murat Boz, Seda Bakan, Açelya Topaloğlu, Özgür...</td>\n",
              "      <td>NaN</td>\n",
              "      <td>September 6, 2019</td>\n",
              "      <td>2019</td>\n",
              "      <td>TV-14</td>\n",
              "      <td>100</td>\n",
              "      <td>Comedies, International Movies, Romantic Movies</td>\n",
              "      <td>Bogged down with money problems, a couple grow...</td>\n",
              "    </tr>\n",
              "    <tr>\n",
              "      <th>44</th>\n",
              "      <td>81176188</td>\n",
              "      <td>Movie</td>\n",
              "      <td>American Factory: A Conversation with the Obamas</td>\n",
              "      <td>NaN</td>\n",
              "      <td>President Barack Obama, Michelle Obama, Julia ...</td>\n",
              "      <td>NaN</td>\n",
              "      <td>September 5, 2019</td>\n",
              "      <td>2019</td>\n",
              "      <td>TV-G</td>\n",
              "      <td>10</td>\n",
              "      <td>Documentaries</td>\n",
              "      <td>Barack and Michelle Obama talk with directors ...</td>\n",
              "    </tr>\n",
              "    <tr>\n",
              "      <th>57</th>\n",
              "      <td>81078908</td>\n",
              "      <td>Movie</td>\n",
              "      <td>The World We Make</td>\n",
              "      <td>Brian Baugh</td>\n",
              "      <td>Caleb Castille, Rose Reid, Kevin Sizemore, Gre...</td>\n",
              "      <td>United States</td>\n",
              "      <td>September 4, 2019</td>\n",
              "      <td>2019</td>\n",
              "      <td>PG</td>\n",
              "      <td>108</td>\n",
              "      <td>Dramas, Romantic Movies</td>\n",
              "      <td>A teenage equestrian and a local football play...</td>\n",
              "    </tr>\n",
              "  </tbody>\n",
              "</table>\n",
              "</div>"
            ],
            "text/plain": [
              "     show_id  ...                                        description\n",
              "0   81145628  ...  Before planning an awesome wedding for his gra...\n",
              "35  81154455  ...  The grim realities of caste discrimination com...\n",
              "38  81132437  ...  Bogged down with money problems, a couple grow...\n",
              "44  81176188  ...  Barack and Michelle Obama talk with directors ...\n",
              "57  81078908  ...  A teenage equestrian and a local football play...\n",
              "\n",
              "[5 rows x 12 columns]"
            ]
          },
          "metadata": {
            "tags": []
          },
          "execution_count": 18
        }
      ]
    },
    {
      "cell_type": "code",
      "metadata": {
        "colab": {
          "base_uri": "https://localhost:8080/"
        },
        "id": "RITr4VRUMTv6",
        "outputId": "9aa9eb0b-1bd6-4d48-82f5-f2513078d39a"
      },
      "source": [
        "duration_int = pd.to_numeric(movies_2019['duration'])\n",
        "duration_int"
      ],
      "execution_count": 19,
      "outputs": [
        {
          "output_type": "execute_result",
          "data": {
            "text/plain": [
              "0        90\n",
              "35      125\n",
              "38      100\n",
              "44       10\n",
              "57      108\n",
              "       ... \n",
              "5451     61\n",
              "5455     91\n",
              "5463     59\n",
              "5464     91\n",
              "5469    118\n",
              "Name: duration, Length: 400, dtype: int64"
            ]
          },
          "metadata": {
            "tags": []
          },
          "execution_count": 19
        }
      ]
    },
    {
      "cell_type": "code",
      "metadata": {
        "colab": {
          "base_uri": "https://localhost:8080/"
        },
        "id": "AIYS4xoPOAdE",
        "outputId": "0823969c-f6c1-492b-c946-074fcfdfec75"
      },
      "source": [
        "movies_2019['duration']=duration_int\n",
        "#DUDA: cómo puedo hacer para que no me aparezca el warning??? con .loc cómo sería?"
      ],
      "execution_count": 143,
      "outputs": [
        {
          "output_type": "stream",
          "text": [
            "/usr/local/lib/python3.7/dist-packages/ipykernel_launcher.py:1: SettingWithCopyWarning: \n",
            "A value is trying to be set on a copy of a slice from a DataFrame.\n",
            "Try using .loc[row_indexer,col_indexer] = value instead\n",
            "\n",
            "See the caveats in the documentation: https://pandas.pydata.org/pandas-docs/stable/user_guide/indexing.html#returning-a-view-versus-a-copy\n",
            "  \"\"\"Entry point for launching an IPython kernel.\n"
          ],
          "name": "stderr"
        }
      ]
    },
    {
      "cell_type": "code",
      "metadata": {
        "colab": {
          "base_uri": "https://localhost:8080/",
          "height": 998
        },
        "id": "UoWIx0Z7RKj9",
        "outputId": "1eaa2b96-6129-42fa-b4fe-6529888de13b"
      },
      "source": [
        "movies_2019[movies_2019['duration']>100]"
      ],
      "execution_count": 21,
      "outputs": [
        {
          "output_type": "execute_result",
          "data": {
            "text/html": [
              "<div>\n",
              "<style scoped>\n",
              "    .dataframe tbody tr th:only-of-type {\n",
              "        vertical-align: middle;\n",
              "    }\n",
              "\n",
              "    .dataframe tbody tr th {\n",
              "        vertical-align: top;\n",
              "    }\n",
              "\n",
              "    .dataframe thead th {\n",
              "        text-align: right;\n",
              "    }\n",
              "</style>\n",
              "<table border=\"1\" class=\"dataframe\">\n",
              "  <thead>\n",
              "    <tr style=\"text-align: right;\">\n",
              "      <th></th>\n",
              "      <th>show_id</th>\n",
              "      <th>type</th>\n",
              "      <th>title</th>\n",
              "      <th>director</th>\n",
              "      <th>cast</th>\n",
              "      <th>country</th>\n",
              "      <th>date_added</th>\n",
              "      <th>release_year</th>\n",
              "      <th>rating</th>\n",
              "      <th>duration</th>\n",
              "      <th>listed_in</th>\n",
              "      <th>description</th>\n",
              "    </tr>\n",
              "  </thead>\n",
              "  <tbody>\n",
              "    <tr>\n",
              "      <th>35</th>\n",
              "      <td>81154455</td>\n",
              "      <td>Movie</td>\n",
              "      <td>Article 15</td>\n",
              "      <td>Anubhav Sinha</td>\n",
              "      <td>Ayushmann Khurrana, Nassar, Manoj Pahwa, Kumud...</td>\n",
              "      <td>India</td>\n",
              "      <td>September 6, 2019</td>\n",
              "      <td>2019</td>\n",
              "      <td>TV-MA</td>\n",
              "      <td>125</td>\n",
              "      <td>Dramas, International Movies, Thrillers</td>\n",
              "      <td>The grim realities of caste discrimination com...</td>\n",
              "    </tr>\n",
              "    <tr>\n",
              "      <th>57</th>\n",
              "      <td>81078908</td>\n",
              "      <td>Movie</td>\n",
              "      <td>The World We Make</td>\n",
              "      <td>Brian Baugh</td>\n",
              "      <td>Caleb Castille, Rose Reid, Kevin Sizemore, Gre...</td>\n",
              "      <td>United States</td>\n",
              "      <td>September 4, 2019</td>\n",
              "      <td>2019</td>\n",
              "      <td>PG</td>\n",
              "      <td>108</td>\n",
              "      <td>Dramas, Romantic Movies</td>\n",
              "      <td>A teenage equestrian and a local football play...</td>\n",
              "    </tr>\n",
              "    <tr>\n",
              "      <th>102</th>\n",
              "      <td>80231903</td>\n",
              "      <td>Movie</td>\n",
              "      <td>In the Shadow of the Moon</td>\n",
              "      <td>Jim Mickle</td>\n",
              "      <td>Boyd Holbrook, Michael C. Hall, Cleopatra Cole...</td>\n",
              "      <td>United States</td>\n",
              "      <td>September 27, 2019</td>\n",
              "      <td>2019</td>\n",
              "      <td>TV-MA</td>\n",
              "      <td>116</td>\n",
              "      <td>Dramas, Sci-Fi &amp; Fantasy, Thrillers</td>\n",
              "      <td>A Philadelphia detective slowly unravels as he...</td>\n",
              "    </tr>\n",
              "    <tr>\n",
              "      <th>109</th>\n",
              "      <td>81177238</td>\n",
              "      <td>Movie</td>\n",
              "      <td>Malaal</td>\n",
              "      <td>Mangesh Hadawale</td>\n",
              "      <td>Meezaan Jaffrey, Sharmin Segal, Chinmaya Surve...</td>\n",
              "      <td>India</td>\n",
              "      <td>September 26, 2019</td>\n",
              "      <td>2019</td>\n",
              "      <td>TV-14</td>\n",
              "      <td>133</td>\n",
              "      <td>International Movies, Romantic Movies</td>\n",
              "      <td>Class divides become thorns in the budding rom...</td>\n",
              "    </tr>\n",
              "    <tr>\n",
              "      <th>119</th>\n",
              "      <td>81186758</td>\n",
              "      <td>Movie</td>\n",
              "      <td>Oh! Baby (Malayalam)</td>\n",
              "      <td>B. V. Nandini Reddy</td>\n",
              "      <td>Samantha Ruth Prabhu, Lakshmi, Rajendraprasad,...</td>\n",
              "      <td>India</td>\n",
              "      <td>September 25, 2019</td>\n",
              "      <td>2019</td>\n",
              "      <td>TV-14</td>\n",
              "      <td>146</td>\n",
              "      <td>Comedies, International Movies, Music &amp; Musicals</td>\n",
              "      <td>A surly septuagenarian gets another chance at ...</td>\n",
              "    </tr>\n",
              "    <tr>\n",
              "      <th>...</th>\n",
              "      <td>...</td>\n",
              "      <td>...</td>\n",
              "      <td>...</td>\n",
              "      <td>...</td>\n",
              "      <td>...</td>\n",
              "      <td>...</td>\n",
              "      <td>...</td>\n",
              "      <td>...</td>\n",
              "      <td>...</td>\n",
              "      <td>...</td>\n",
              "      <td>...</td>\n",
              "      <td>...</td>\n",
              "    </tr>\n",
              "    <tr>\n",
              "      <th>5347</th>\n",
              "      <td>81076749</td>\n",
              "      <td>Movie</td>\n",
              "      <td>Ek Ladki Ko Dekha Toh Aisa Laga</td>\n",
              "      <td>Shelly Chopra Dhar</td>\n",
              "      <td>Anil Kapoor, Sonam Kapoor, Rajkummar Rao, Juhi...</td>\n",
              "      <td>India</td>\n",
              "      <td>April 2, 2019</td>\n",
              "      <td>2019</td>\n",
              "      <td>TV-14</td>\n",
              "      <td>120</td>\n",
              "      <td>Comedies, Dramas, International Movies</td>\n",
              "      <td>As her family seeks to marry her off and a hop...</td>\n",
              "    </tr>\n",
              "    <tr>\n",
              "      <th>5359</th>\n",
              "      <td>81033430</td>\n",
              "      <td>Movie</td>\n",
              "      <td>Music Teacher</td>\n",
              "      <td>Sarthak Dasgupta</td>\n",
              "      <td>Manav Kaul, Amrita Bagchi, Divya Dutta, Neena ...</td>\n",
              "      <td>India</td>\n",
              "      <td>April 19, 2019</td>\n",
              "      <td>2019</td>\n",
              "      <td>TV-14</td>\n",
              "      <td>102</td>\n",
              "      <td>Dramas, Independent Movies, International Movies</td>\n",
              "      <td>A dejected small-town music teacher grapples w...</td>\n",
              "    </tr>\n",
              "    <tr>\n",
              "      <th>5365</th>\n",
              "      <td>81080942</td>\n",
              "      <td>Movie</td>\n",
              "      <td>The Ruthless</td>\n",
              "      <td>Renato De Maria</td>\n",
              "      <td>Riccardo Scamarcio, Sara Serraiocco, Alessio P...</td>\n",
              "      <td>Italy, France</td>\n",
              "      <td>April 19, 2019</td>\n",
              "      <td>2019</td>\n",
              "      <td>TV-MA</td>\n",
              "      <td>111</td>\n",
              "      <td>Dramas, International Movies</td>\n",
              "      <td>A rebellious teen grows up to become one of Mi...</td>\n",
              "    </tr>\n",
              "    <tr>\n",
              "      <th>5385</th>\n",
              "      <td>81013626</td>\n",
              "      <td>Movie</td>\n",
              "      <td>HOMECOMING: A film by Beyoncé</td>\n",
              "      <td>Beyoncé Knowles-Carter</td>\n",
              "      <td>Beyoncé Knowles-Carter</td>\n",
              "      <td>NaN</td>\n",
              "      <td>April 17, 2019</td>\n",
              "      <td>2019</td>\n",
              "      <td>TV-MA</td>\n",
              "      <td>138</td>\n",
              "      <td>Documentaries, Music &amp; Musicals</td>\n",
              "      <td>This intimate, in-depth look at Beyoncé's cele...</td>\n",
              "    </tr>\n",
              "    <tr>\n",
              "      <th>5469</th>\n",
              "      <td>81086434</td>\n",
              "      <td>Movie</td>\n",
              "      <td>706</td>\n",
              "      <td>Shravan Kumar</td>\n",
              "      <td>Divya Dutta, Atul Kulkarni, Mohan Agashe, Anup...</td>\n",
              "      <td>India</td>\n",
              "      <td>April 1, 2019</td>\n",
              "      <td>2019</td>\n",
              "      <td>TV-14</td>\n",
              "      <td>118</td>\n",
              "      <td>Horror Movies, International Movies</td>\n",
              "      <td>When a doctor goes missing, his psychiatrist w...</td>\n",
              "    </tr>\n",
              "  </tbody>\n",
              "</table>\n",
              "<p>134 rows × 12 columns</p>\n",
              "</div>"
            ],
            "text/plain": [
              "       show_id  ...                                        description\n",
              "35    81154455  ...  The grim realities of caste discrimination com...\n",
              "57    81078908  ...  A teenage equestrian and a local football play...\n",
              "102   80231903  ...  A Philadelphia detective slowly unravels as he...\n",
              "109   81177238  ...  Class divides become thorns in the budding rom...\n",
              "119   81186758  ...  A surly septuagenarian gets another chance at ...\n",
              "...        ...  ...                                                ...\n",
              "5347  81076749  ...  As her family seeks to marry her off and a hop...\n",
              "5359  81033430  ...  A dejected small-town music teacher grapples w...\n",
              "5365  81080942  ...  A rebellious teen grows up to become one of Mi...\n",
              "5385  81013626  ...  This intimate, in-depth look at Beyoncé's cele...\n",
              "5469  81086434  ...  When a doctor goes missing, his psychiatrist w...\n",
              "\n",
              "[134 rows x 12 columns]"
            ]
          },
          "metadata": {
            "tags": []
          },
          "execution_count": 21
        }
      ]
    },
    {
      "cell_type": "markdown",
      "metadata": {
        "id": "d55Tkz9AqsqL"
      },
      "source": [
        "### Ejercicio 4\n",
        "\n",
        "Queremos buscar aquellos países donde se estrenaron más de 10 películas al año. Debes mostrar por pantalla el **año**, el **nombre del país** y el **número total de películas** estrenadas en el año correspondiente.\n",
        "\n",
        "**Nota**: Además del contenido de los notebooks de teoría, puedes utilizar lo que has aprendido haciendo el ejercicio 2.\n"
      ]
    },
    {
      "cell_type": "code",
      "metadata": {
        "colab": {
          "base_uri": "https://localhost:8080/",
          "height": 455
        },
        "id": "yZmQQRQbqsqL",
        "outputId": "9d047978-942b-498a-f03f-0de98de39bcd"
      },
      "source": [
        "netflix_df_countries = netflix_df.groupby(['type','release_year','country']).agg({'show_id': 'count'})\n",
        "netflix_df_countries"
      ],
      "execution_count": 22,
      "outputs": [
        {
          "output_type": "execute_result",
          "data": {
            "text/html": [
              "<div>\n",
              "<style scoped>\n",
              "    .dataframe tbody tr th:only-of-type {\n",
              "        vertical-align: middle;\n",
              "    }\n",
              "\n",
              "    .dataframe tbody tr th {\n",
              "        vertical-align: top;\n",
              "    }\n",
              "\n",
              "    .dataframe thead th {\n",
              "        text-align: right;\n",
              "    }\n",
              "</style>\n",
              "<table border=\"1\" class=\"dataframe\">\n",
              "  <thead>\n",
              "    <tr style=\"text-align: right;\">\n",
              "      <th></th>\n",
              "      <th></th>\n",
              "      <th></th>\n",
              "      <th>show_id</th>\n",
              "    </tr>\n",
              "    <tr>\n",
              "      <th>type</th>\n",
              "      <th>release_year</th>\n",
              "      <th>country</th>\n",
              "      <th></th>\n",
              "    </tr>\n",
              "  </thead>\n",
              "  <tbody>\n",
              "    <tr>\n",
              "      <th rowspan=\"5\" valign=\"top\">Movie</th>\n",
              "      <th>1942</th>\n",
              "      <th>United States</th>\n",
              "      <td>2</td>\n",
              "    </tr>\n",
              "    <tr>\n",
              "      <th>1943</th>\n",
              "      <th>United States</th>\n",
              "      <td>3</td>\n",
              "    </tr>\n",
              "    <tr>\n",
              "      <th rowspan=\"2\" valign=\"top\">1944</th>\n",
              "      <th>United States</th>\n",
              "      <td>2</td>\n",
              "    </tr>\n",
              "    <tr>\n",
              "      <th>United States, United Kingdom</th>\n",
              "      <td>1</td>\n",
              "    </tr>\n",
              "    <tr>\n",
              "      <th>1945</th>\n",
              "      <th>United States</th>\n",
              "      <td>3</td>\n",
              "    </tr>\n",
              "    <tr>\n",
              "      <th>...</th>\n",
              "      <th>...</th>\n",
              "      <th>...</th>\n",
              "      <td>...</td>\n",
              "    </tr>\n",
              "    <tr>\n",
              "      <th rowspan=\"5\" valign=\"top\">TV Show</th>\n",
              "      <th rowspan=\"5\" valign=\"top\">2020</th>\n",
              "      <th>China</th>\n",
              "      <td>1</td>\n",
              "    </tr>\n",
              "    <tr>\n",
              "      <th>France</th>\n",
              "      <td>1</td>\n",
              "    </tr>\n",
              "    <tr>\n",
              "      <th>India</th>\n",
              "      <td>1</td>\n",
              "    </tr>\n",
              "    <tr>\n",
              "      <th>United Kingdom</th>\n",
              "      <td>1</td>\n",
              "    </tr>\n",
              "    <tr>\n",
              "      <th>United States</th>\n",
              "      <td>8</td>\n",
              "    </tr>\n",
              "  </tbody>\n",
              "</table>\n",
              "<p>1524 rows × 1 columns</p>\n",
              "</div>"
            ],
            "text/plain": [
              "                                                    show_id\n",
              "type    release_year country                               \n",
              "Movie   1942         United States                        2\n",
              "        1943         United States                        3\n",
              "        1944         United States                        2\n",
              "                     United States, United Kingdom        1\n",
              "        1945         United States                        3\n",
              "...                                                     ...\n",
              "TV Show 2020         China                                1\n",
              "                     France                               1\n",
              "                     India                                1\n",
              "                     United Kingdom                       1\n",
              "                     United States                        8\n",
              "\n",
              "[1524 rows x 1 columns]"
            ]
          },
          "metadata": {
            "tags": []
          },
          "execution_count": 22
        }
      ]
    },
    {
      "cell_type": "code",
      "metadata": {
        "colab": {
          "base_uri": "https://localhost:8080/",
          "height": 1000
        },
        "id": "uiaOhd0UMBaO",
        "outputId": "a2bd0f10-d2ff-47eb-b0fc-6bb7d3ae1d35"
      },
      "source": [
        "movies_countries = netflix_df_countries.loc['Movie']\n",
        "movies_countries_10 = movies_countries[movies_countries['show_id']>10]\n",
        "movies_countries_10"
      ],
      "execution_count": 23,
      "outputs": [
        {
          "output_type": "execute_result",
          "data": {
            "text/html": [
              "<div>\n",
              "<style scoped>\n",
              "    .dataframe tbody tr th:only-of-type {\n",
              "        vertical-align: middle;\n",
              "    }\n",
              "\n",
              "    .dataframe tbody tr th {\n",
              "        vertical-align: top;\n",
              "    }\n",
              "\n",
              "    .dataframe thead th {\n",
              "        text-align: right;\n",
              "    }\n",
              "</style>\n",
              "<table border=\"1\" class=\"dataframe\">\n",
              "  <thead>\n",
              "    <tr style=\"text-align: right;\">\n",
              "      <th></th>\n",
              "      <th></th>\n",
              "      <th>show_id</th>\n",
              "    </tr>\n",
              "    <tr>\n",
              "      <th>release_year</th>\n",
              "      <th>country</th>\n",
              "      <th></th>\n",
              "    </tr>\n",
              "  </thead>\n",
              "  <tbody>\n",
              "    <tr>\n",
              "      <th>1997</th>\n",
              "      <th>United States</th>\n",
              "      <td>17</td>\n",
              "    </tr>\n",
              "    <tr>\n",
              "      <th>1998</th>\n",
              "      <th>United States</th>\n",
              "      <td>12</td>\n",
              "    </tr>\n",
              "    <tr>\n",
              "      <th>2000</th>\n",
              "      <th>United States</th>\n",
              "      <td>14</td>\n",
              "    </tr>\n",
              "    <tr>\n",
              "      <th>2001</th>\n",
              "      <th>United States</th>\n",
              "      <td>13</td>\n",
              "    </tr>\n",
              "    <tr>\n",
              "      <th>2002</th>\n",
              "      <th>United States</th>\n",
              "      <td>12</td>\n",
              "    </tr>\n",
              "    <tr>\n",
              "      <th>2003</th>\n",
              "      <th>United States</th>\n",
              "      <td>14</td>\n",
              "    </tr>\n",
              "    <tr>\n",
              "      <th rowspan=\"2\" valign=\"top\">2004</th>\n",
              "      <th>India</th>\n",
              "      <td>13</td>\n",
              "    </tr>\n",
              "    <tr>\n",
              "      <th>United States</th>\n",
              "      <td>11</td>\n",
              "    </tr>\n",
              "    <tr>\n",
              "      <th rowspan=\"2\" valign=\"top\">2005</th>\n",
              "      <th>India</th>\n",
              "      <td>17</td>\n",
              "    </tr>\n",
              "    <tr>\n",
              "      <th>United States</th>\n",
              "      <td>16</td>\n",
              "    </tr>\n",
              "    <tr>\n",
              "      <th rowspan=\"2\" valign=\"top\">2006</th>\n",
              "      <th>India</th>\n",
              "      <td>17</td>\n",
              "    </tr>\n",
              "    <tr>\n",
              "      <th>United States</th>\n",
              "      <td>24</td>\n",
              "    </tr>\n",
              "    <tr>\n",
              "      <th rowspan=\"2\" valign=\"top\">2007</th>\n",
              "      <th>India</th>\n",
              "      <td>13</td>\n",
              "    </tr>\n",
              "    <tr>\n",
              "      <th>United States</th>\n",
              "      <td>23</td>\n",
              "    </tr>\n",
              "    <tr>\n",
              "      <th rowspan=\"2\" valign=\"top\">2008</th>\n",
              "      <th>India</th>\n",
              "      <td>24</td>\n",
              "    </tr>\n",
              "    <tr>\n",
              "      <th>United States</th>\n",
              "      <td>28</td>\n",
              "    </tr>\n",
              "    <tr>\n",
              "      <th rowspan=\"2\" valign=\"top\">2009</th>\n",
              "      <th>India</th>\n",
              "      <td>24</td>\n",
              "    </tr>\n",
              "    <tr>\n",
              "      <th>United States</th>\n",
              "      <td>29</td>\n",
              "    </tr>\n",
              "    <tr>\n",
              "      <th rowspan=\"2\" valign=\"top\">2010</th>\n",
              "      <th>India</th>\n",
              "      <td>31</td>\n",
              "    </tr>\n",
              "    <tr>\n",
              "      <th>United States</th>\n",
              "      <td>25</td>\n",
              "    </tr>\n",
              "    <tr>\n",
              "      <th rowspan=\"2\" valign=\"top\">2011</th>\n",
              "      <th>India</th>\n",
              "      <td>26</td>\n",
              "    </tr>\n",
              "    <tr>\n",
              "      <th>United States</th>\n",
              "      <td>30</td>\n",
              "    </tr>\n",
              "    <tr>\n",
              "      <th rowspan=\"2\" valign=\"top\">2012</th>\n",
              "      <th>India</th>\n",
              "      <td>33</td>\n",
              "    </tr>\n",
              "    <tr>\n",
              "      <th>United States</th>\n",
              "      <td>40</td>\n",
              "    </tr>\n",
              "    <tr>\n",
              "      <th rowspan=\"2\" valign=\"top\">2013</th>\n",
              "      <th>India</th>\n",
              "      <td>44</td>\n",
              "    </tr>\n",
              "    <tr>\n",
              "      <th>United States</th>\n",
              "      <td>52</td>\n",
              "    </tr>\n",
              "    <tr>\n",
              "      <th rowspan=\"3\" valign=\"top\">2014</th>\n",
              "      <th>India</th>\n",
              "      <td>38</td>\n",
              "    </tr>\n",
              "    <tr>\n",
              "      <th>United Kingdom</th>\n",
              "      <td>13</td>\n",
              "    </tr>\n",
              "    <tr>\n",
              "      <th>United States</th>\n",
              "      <td>59</td>\n",
              "    </tr>\n",
              "    <tr>\n",
              "      <th rowspan=\"4\" valign=\"top\">2015</th>\n",
              "      <th>India</th>\n",
              "      <td>53</td>\n",
              "    </tr>\n",
              "    <tr>\n",
              "      <th>Spain</th>\n",
              "      <td>11</td>\n",
              "    </tr>\n",
              "    <tr>\n",
              "      <th>United Kingdom</th>\n",
              "      <td>18</td>\n",
              "    </tr>\n",
              "    <tr>\n",
              "      <th>United States</th>\n",
              "      <td>104</td>\n",
              "    </tr>\n",
              "    <tr>\n",
              "      <th rowspan=\"6\" valign=\"top\">2016</th>\n",
              "      <th>Canada</th>\n",
              "      <td>15</td>\n",
              "    </tr>\n",
              "    <tr>\n",
              "      <th>India</th>\n",
              "      <td>66</td>\n",
              "    </tr>\n",
              "    <tr>\n",
              "      <th>Mexico</th>\n",
              "      <td>13</td>\n",
              "    </tr>\n",
              "    <tr>\n",
              "      <th>Spain</th>\n",
              "      <td>14</td>\n",
              "    </tr>\n",
              "    <tr>\n",
              "      <th>United Kingdom</th>\n",
              "      <td>35</td>\n",
              "    </tr>\n",
              "    <tr>\n",
              "      <th>United States</th>\n",
              "      <td>185</td>\n",
              "    </tr>\n",
              "    <tr>\n",
              "      <th rowspan=\"5\" valign=\"top\">2017</th>\n",
              "      <th>Canada</th>\n",
              "      <td>20</td>\n",
              "    </tr>\n",
              "    <tr>\n",
              "      <th>India</th>\n",
              "      <td>99</td>\n",
              "    </tr>\n",
              "    <tr>\n",
              "      <th>Spain</th>\n",
              "      <td>18</td>\n",
              "    </tr>\n",
              "    <tr>\n",
              "      <th>United Kingdom</th>\n",
              "      <td>36</td>\n",
              "    </tr>\n",
              "    <tr>\n",
              "      <th>United States</th>\n",
              "      <td>260</td>\n",
              "    </tr>\n",
              "    <tr>\n",
              "      <th rowspan=\"6\" valign=\"top\">2018</th>\n",
              "      <th>Canada</th>\n",
              "      <td>18</td>\n",
              "    </tr>\n",
              "    <tr>\n",
              "      <th>India</th>\n",
              "      <td>79</td>\n",
              "    </tr>\n",
              "    <tr>\n",
              "      <th>South Korea</th>\n",
              "      <td>11</td>\n",
              "    </tr>\n",
              "    <tr>\n",
              "      <th>Spain</th>\n",
              "      <td>23</td>\n",
              "    </tr>\n",
              "    <tr>\n",
              "      <th>United Kingdom</th>\n",
              "      <td>26</td>\n",
              "    </tr>\n",
              "    <tr>\n",
              "      <th>United States</th>\n",
              "      <td>219</td>\n",
              "    </tr>\n",
              "    <tr>\n",
              "      <th rowspan=\"4\" valign=\"top\">2019</th>\n",
              "      <th>India</th>\n",
              "      <td>49</td>\n",
              "    </tr>\n",
              "    <tr>\n",
              "      <th>Spain</th>\n",
              "      <td>11</td>\n",
              "    </tr>\n",
              "    <tr>\n",
              "      <th>United Kingdom</th>\n",
              "      <td>11</td>\n",
              "    </tr>\n",
              "    <tr>\n",
              "      <th>United States</th>\n",
              "      <td>160</td>\n",
              "    </tr>\n",
              "  </tbody>\n",
              "</table>\n",
              "</div>"
            ],
            "text/plain": [
              "                             show_id\n",
              "release_year country                \n",
              "1997         United States        17\n",
              "1998         United States        12\n",
              "2000         United States        14\n",
              "2001         United States        13\n",
              "2002         United States        12\n",
              "2003         United States        14\n",
              "2004         India                13\n",
              "             United States        11\n",
              "2005         India                17\n",
              "             United States        16\n",
              "2006         India                17\n",
              "             United States        24\n",
              "2007         India                13\n",
              "             United States        23\n",
              "2008         India                24\n",
              "             United States        28\n",
              "2009         India                24\n",
              "             United States        29\n",
              "2010         India                31\n",
              "             United States        25\n",
              "2011         India                26\n",
              "             United States        30\n",
              "2012         India                33\n",
              "             United States        40\n",
              "2013         India                44\n",
              "             United States        52\n",
              "2014         India                38\n",
              "             United Kingdom       13\n",
              "             United States        59\n",
              "2015         India                53\n",
              "             Spain                11\n",
              "             United Kingdom       18\n",
              "             United States       104\n",
              "2016         Canada               15\n",
              "             India                66\n",
              "             Mexico               13\n",
              "             Spain                14\n",
              "             United Kingdom       35\n",
              "             United States       185\n",
              "2017         Canada               20\n",
              "             India                99\n",
              "             Spain                18\n",
              "             United Kingdom       36\n",
              "             United States       260\n",
              "2018         Canada               18\n",
              "             India                79\n",
              "             South Korea          11\n",
              "             Spain                23\n",
              "             United Kingdom       26\n",
              "             United States       219\n",
              "2019         India                49\n",
              "             Spain                11\n",
              "             United Kingdom       11\n",
              "             United States       160"
            ]
          },
          "metadata": {
            "tags": []
          },
          "execution_count": 23
        }
      ]
    },
    {
      "cell_type": "markdown",
      "metadata": {
        "id": "qdQL_UTQqsqM"
      },
      "source": [
        "### Ejercicio 5\n",
        "\n",
        "Crea una copia del dataframe original añadiendo una nueva columna que nos indicará por cada fila la duración de la película. Definimos tres niveles:\n",
        "\n",
        "- **short** : si la duración es inferior a 90 minutos. \n",
        "- **medium** : si la duración está entre 90 y 150 minutos.\n",
        "- **long** : si la duración es superior a 150 minutos.\n",
        "\n",
        "Muestra por pantalla aquellas filas que correspondan a una duración corta ( _short_ ). \n",
        "\n",
        "**Nota:** pandas nos ofrece principalmente tres maneras de añadir nuevas columnas a un dataframe existente. Cualquiera de las tres formas son válidas para resolver este ejercicio. Podéis buscar en Internet cómo añadir columnas a un dataframe de pandas, ya que la documentación presenta los tres métodos de forma separada.\n"
      ]
    },
    {
      "cell_type": "code",
      "metadata": {
        "colab": {
          "base_uri": "https://localhost:8080/",
          "height": 1000
        },
        "id": "g5VwDQvpqsqN",
        "outputId": "789aa3fc-31ee-4062-d4ce-06d258046209"
      },
      "source": [
        "netflix_df2 = netflix_df[netflix_df['type'].isin(['Movie'])]\n",
        "netflix_df2['duration']=pd.to_numeric(netflix_df2['duration'])\n",
        "netflix_df2.dtypes\n",
        "netflix_df2['duration_level']= netflix_df2.apply(lambda x: 'short' if int(x['duration']) < 90 else ('medium' if int(x['duration']) < 150 else 'long'), axis=1)\n",
        "netflix_df2[netflix_df2['duration_level'].isin(['short'])]"
      ],
      "execution_count": 24,
      "outputs": [
        {
          "output_type": "stream",
          "text": [
            "/usr/local/lib/python3.7/dist-packages/ipykernel_launcher.py:2: SettingWithCopyWarning: \n",
            "A value is trying to be set on a copy of a slice from a DataFrame.\n",
            "Try using .loc[row_indexer,col_indexer] = value instead\n",
            "\n",
            "See the caveats in the documentation: https://pandas.pydata.org/pandas-docs/stable/user_guide/indexing.html#returning-a-view-versus-a-copy\n",
            "  \n",
            "/usr/local/lib/python3.7/dist-packages/ipykernel_launcher.py:4: SettingWithCopyWarning: \n",
            "A value is trying to be set on a copy of a slice from a DataFrame.\n",
            "Try using .loc[row_indexer,col_indexer] = value instead\n",
            "\n",
            "See the caveats in the documentation: https://pandas.pydata.org/pandas-docs/stable/user_guide/indexing.html#returning-a-view-versus-a-copy\n",
            "  after removing the cwd from sys.path.\n"
          ],
          "name": "stderr"
        },
        {
          "output_type": "execute_result",
          "data": {
            "text/html": [
              "<div>\n",
              "<style scoped>\n",
              "    .dataframe tbody tr th:only-of-type {\n",
              "        vertical-align: middle;\n",
              "    }\n",
              "\n",
              "    .dataframe tbody tr th {\n",
              "        vertical-align: top;\n",
              "    }\n",
              "\n",
              "    .dataframe thead th {\n",
              "        text-align: right;\n",
              "    }\n",
              "</style>\n",
              "<table border=\"1\" class=\"dataframe\">\n",
              "  <thead>\n",
              "    <tr style=\"text-align: right;\">\n",
              "      <th></th>\n",
              "      <th>show_id</th>\n",
              "      <th>type</th>\n",
              "      <th>title</th>\n",
              "      <th>director</th>\n",
              "      <th>cast</th>\n",
              "      <th>country</th>\n",
              "      <th>date_added</th>\n",
              "      <th>release_year</th>\n",
              "      <th>rating</th>\n",
              "      <th>duration</th>\n",
              "      <th>listed_in</th>\n",
              "      <th>description</th>\n",
              "      <th>duration_level</th>\n",
              "    </tr>\n",
              "  </thead>\n",
              "  <tbody>\n",
              "    <tr>\n",
              "      <th>7</th>\n",
              "      <td>80164077</td>\n",
              "      <td>Movie</td>\n",
              "      <td>Fabrizio Copano: Solo pienso en mi</td>\n",
              "      <td>Rodrigo Toro, Francisco Schultz</td>\n",
              "      <td>Fabrizio Copano</td>\n",
              "      <td>Chile</td>\n",
              "      <td>September 8, 2017</td>\n",
              "      <td>2017</td>\n",
              "      <td>TV-MA</td>\n",
              "      <td>60</td>\n",
              "      <td>Stand-Up Comedy</td>\n",
              "      <td>Fabrizio Copano takes audience participation t...</td>\n",
              "      <td>short</td>\n",
              "    </tr>\n",
              "    <tr>\n",
              "      <th>10</th>\n",
              "      <td>80169755</td>\n",
              "      <td>Movie</td>\n",
              "      <td>Joaquín Reyes: Una y no más</td>\n",
              "      <td>José Miguel Contreras</td>\n",
              "      <td>Joaquín Reyes</td>\n",
              "      <td>NaN</td>\n",
              "      <td>September 8, 2017</td>\n",
              "      <td>2017</td>\n",
              "      <td>TV-MA</td>\n",
              "      <td>78</td>\n",
              "      <td>Stand-Up Comedy</td>\n",
              "      <td>Comedian and celebrity impersonator Joaquín Re...</td>\n",
              "      <td>short</td>\n",
              "    </tr>\n",
              "    <tr>\n",
              "      <th>12</th>\n",
              "      <td>80182480</td>\n",
              "      <td>Movie</td>\n",
              "      <td>Krish Trish and Baltiboy</td>\n",
              "      <td>NaN</td>\n",
              "      <td>Damandeep Singh Baggan, Smita Malhotra, Baba S...</td>\n",
              "      <td>NaN</td>\n",
              "      <td>September 8, 2017</td>\n",
              "      <td>2009</td>\n",
              "      <td>TV-Y7</td>\n",
              "      <td>58</td>\n",
              "      <td>Children &amp; Family Movies</td>\n",
              "      <td>A team of minstrels, including a monkey, cat a...</td>\n",
              "      <td>short</td>\n",
              "    </tr>\n",
              "    <tr>\n",
              "      <th>13</th>\n",
              "      <td>80182483</td>\n",
              "      <td>Movie</td>\n",
              "      <td>Krish Trish and Baltiboy: Battle of Wits</td>\n",
              "      <td>Munjal Shroff, Tilak Shetty</td>\n",
              "      <td>Damandeep Singh Baggan, Smita Malhotra, Baba S...</td>\n",
              "      <td>NaN</td>\n",
              "      <td>September 8, 2017</td>\n",
              "      <td>2013</td>\n",
              "      <td>TV-Y7</td>\n",
              "      <td>62</td>\n",
              "      <td>Children &amp; Family Movies</td>\n",
              "      <td>An artisan is cheated of his payment, a lion o...</td>\n",
              "      <td>short</td>\n",
              "    </tr>\n",
              "    <tr>\n",
              "      <th>14</th>\n",
              "      <td>80182596</td>\n",
              "      <td>Movie</td>\n",
              "      <td>Krish Trish and Baltiboy: Best Friends Forever</td>\n",
              "      <td>Munjal Shroff, Tilak Shetty</td>\n",
              "      <td>Damandeep Singh Baggan, Smita Malhotra, Deepak...</td>\n",
              "      <td>NaN</td>\n",
              "      <td>September 8, 2017</td>\n",
              "      <td>2016</td>\n",
              "      <td>TV-Y</td>\n",
              "      <td>65</td>\n",
              "      <td>Children &amp; Family Movies</td>\n",
              "      <td>A cat, monkey and donkey team up to narrate fo...</td>\n",
              "      <td>short</td>\n",
              "    </tr>\n",
              "    <tr>\n",
              "      <th>...</th>\n",
              "      <td>...</td>\n",
              "      <td>...</td>\n",
              "      <td>...</td>\n",
              "      <td>...</td>\n",
              "      <td>...</td>\n",
              "      <td>...</td>\n",
              "      <td>...</td>\n",
              "      <td>...</td>\n",
              "      <td>...</td>\n",
              "      <td>...</td>\n",
              "      <td>...</td>\n",
              "      <td>...</td>\n",
              "      <td>...</td>\n",
              "    </tr>\n",
              "    <tr>\n",
              "      <th>5573</th>\n",
              "      <td>80171439</td>\n",
              "      <td>Movie</td>\n",
              "      <td>The Human Factor: The Untold Story of the Bomb...</td>\n",
              "      <td>Rudradeep Bhattacharjee</td>\n",
              "      <td>NaN</td>\n",
              "      <td>India</td>\n",
              "      <td>April 1, 2017</td>\n",
              "      <td>2013</td>\n",
              "      <td>TV-PG</td>\n",
              "      <td>53</td>\n",
              "      <td>Documentaries, International Movies, Music &amp; M...</td>\n",
              "      <td>A family of Parsi musicians collectively works...</td>\n",
              "      <td>short</td>\n",
              "    </tr>\n",
              "    <tr>\n",
              "      <th>5574</th>\n",
              "      <td>80104237</td>\n",
              "      <td>Movie</td>\n",
              "      <td>The Tenth Man</td>\n",
              "      <td>Daniel Burman</td>\n",
              "      <td>Alan Sabbagh, Julieta Zylberberg, Usher Barilk...</td>\n",
              "      <td>Argentina</td>\n",
              "      <td>April 1, 2017</td>\n",
              "      <td>2016</td>\n",
              "      <td>TV-MA</td>\n",
              "      <td>81</td>\n",
              "      <td>Dramas, International Movies</td>\n",
              "      <td>After spending much of his adult life in New Y...</td>\n",
              "      <td>short</td>\n",
              "    </tr>\n",
              "    <tr>\n",
              "      <th>5577</th>\n",
              "      <td>80085438</td>\n",
              "      <td>Movie</td>\n",
              "      <td>Frank and Cindy</td>\n",
              "      <td>G.J. Echternkamp</td>\n",
              "      <td>NaN</td>\n",
              "      <td>United States</td>\n",
              "      <td>April 1, 2016</td>\n",
              "      <td>2007</td>\n",
              "      <td>TV-MA</td>\n",
              "      <td>70</td>\n",
              "      <td>Documentaries</td>\n",
              "      <td>Frank was a rising pop star when he married Ci...</td>\n",
              "      <td>short</td>\n",
              "    </tr>\n",
              "    <tr>\n",
              "      <th>5579</th>\n",
              "      <td>80011846</td>\n",
              "      <td>Movie</td>\n",
              "      <td>Iverson</td>\n",
              "      <td>Zatella Beatty</td>\n",
              "      <td>Allen Iverson</td>\n",
              "      <td>United States</td>\n",
              "      <td>April 1, 2016</td>\n",
              "      <td>2014</td>\n",
              "      <td>NR</td>\n",
              "      <td>88</td>\n",
              "      <td>Documentaries, Sports Movies</td>\n",
              "      <td>This unfiltered documentary follows the rocky ...</td>\n",
              "      <td>short</td>\n",
              "    </tr>\n",
              "    <tr>\n",
              "      <th>6231</th>\n",
              "      <td>80116008</td>\n",
              "      <td>Movie</td>\n",
              "      <td>Little Baby Bum: Nursery Rhyme Friends</td>\n",
              "      <td>NaN</td>\n",
              "      <td>NaN</td>\n",
              "      <td>NaN</td>\n",
              "      <td>NaN</td>\n",
              "      <td>2016</td>\n",
              "      <td>NaN</td>\n",
              "      <td>60</td>\n",
              "      <td>Movies</td>\n",
              "      <td>Nursery rhymes and original music for children...</td>\n",
              "      <td>short</td>\n",
              "    </tr>\n",
              "  </tbody>\n",
              "</table>\n",
              "<p>1362 rows × 13 columns</p>\n",
              "</div>"
            ],
            "text/plain": [
              "       show_id  ... duration_level\n",
              "7     80164077  ...          short\n",
              "10    80169755  ...          short\n",
              "12    80182480  ...          short\n",
              "13    80182483  ...          short\n",
              "14    80182596  ...          short\n",
              "...        ...  ...            ...\n",
              "5573  80171439  ...          short\n",
              "5574  80104237  ...          short\n",
              "5577  80085438  ...          short\n",
              "5579  80011846  ...          short\n",
              "6231  80116008  ...          short\n",
              "\n",
              "[1362 rows x 13 columns]"
            ]
          },
          "metadata": {
            "tags": []
          },
          "execution_count": 24
        }
      ]
    },
    {
      "cell_type": "markdown",
      "metadata": {
        "id": "srddyHT0qsqN"
      },
      "source": [
        "### Ejercicio 6\n",
        "\n",
        "En este ejercicio trabajaremos con el dataset de Netflix, pero analizando las series de TV. Muestra un gráfico de barras con el número de series de TV americanas agrupadas por categoría (*listed_in*).\n",
        "\n",
        "\n",
        "Consideraciones:\n",
        "\n",
        "- Debes mostrar los datos de manera horizontal (barras horizontales).\n",
        "- El eje de las Y debe incluir las etiquetas de las categorías de las series de TV.\n",
        "- Debe incluir un texto con el número de series por cada categoría del gráfico. El texto debería estar situado a la derecha de cada barra.\n",
        "\n",
        "**Nota**: En el Notebook de teoría hemos visto cómo mostrar gráficos lineares simples con el matplotlib. Para este ejercicio explora las funcionalidades que presenta la librería pandas para generar gráficos a partir de dataframes. También pueden ser de utilidad las funciones [text](https://matplotlib.org/3.1.1/api/_as_gen/matplotlib.pyplot.text.html) o [annotate](https://matplotlib.org/3.1.1/api/_as_gen/matplotlib.pyplot.annotate.html) para mostrar el número de series al lado de cada barra. \n"
      ]
    },
    {
      "cell_type": "code",
      "metadata": {
        "colab": {
          "base_uri": "https://localhost:8080/"
        },
        "id": "7ytrSgKwqsqO",
        "outputId": "5b21e9cf-3573-4145-a1cb-e849cc40573f"
      },
      "source": [
        "import matplotlib.pyplot as plt\n",
        "import seaborn as sns\n",
        "\n",
        "netflix_df['type'].unique()\n",
        "netflix_TVseries = netflix_df[netflix_df['type'].isin(['TV Show'])]\n",
        "american_netflix_TVseries = netflix_TVseries[netflix_TVseries['country'].isin(['United States'])]\n",
        "american_netflix_TVseries.listed_in.unique()"
      ],
      "execution_count": 70,
      "outputs": [
        {
          "output_type": "execute_result",
          "data": {
            "text/plain": [
              "array([\"Kids' TV\", 'Docuseries, Science & Nature TV',\n",
              "       'Romantic TV Shows, TV Comedies, TV Dramas',\n",
              "       'Crime TV Shows, TV Dramas, TV Mysteries', 'TV Comedies',\n",
              "       'Docuseries', \"Kids' TV, TV Comedies\",\n",
              "       'International TV Shows, Reality TV, Spanish-Language TV Shows',\n",
              "       'TV Comedies, TV Dramas, Teen TV Shows', 'TV Comedies, TV Dramas',\n",
              "       'TV Comedies, TV Dramas, TV Mysteries',\n",
              "       'Crime TV Shows, TV Comedies, TV Dramas',\n",
              "       'TV Horror, Teen TV Shows', 'Crime TV Shows, Docuseries',\n",
              "       'Reality TV', 'Stand-Up Comedy & Talk Shows, TV Comedies',\n",
              "       'Crime TV Shows, TV Dramas',\n",
              "       'TV Action & Adventure, TV Dramas, TV Sci-Fi & Fantasy',\n",
              "       'Docuseries, Reality TV',\n",
              "       \"Kids' TV, TV Action & Adventure, TV Dramas\",\n",
              "       'Anime Series, Crime TV Shows',\n",
              "       'Stand-Up Comedy & Talk Shows, TV Mysteries, TV Sci-Fi & Fantasy',\n",
              "       'Reality TV, TV Comedies, TV Horror',\n",
              "       'TV Action & Adventure, TV Comedies, TV Horror',\n",
              "       'TV Dramas, TV Horror, TV Mysteries', 'TV Dramas, TV Thrillers',\n",
              "       'Crime TV Shows, Docuseries, International TV Shows',\n",
              "       'British TV Shows, TV Comedies',\n",
              "       'International TV Shows, Romantic TV Shows, TV Comedies',\n",
              "       'International TV Shows, TV Dramas',\n",
              "       'Docuseries, Stand-Up Comedy & Talk Shows',\n",
              "       'Romantic TV Shows, TV Comedies',\n",
              "       'International TV Shows, TV Comedies, TV Dramas',\n",
              "       'Docuseries, TV Dramas',\n",
              "       'International TV Shows, Romantic TV Shows, Spanish-Language TV Shows',\n",
              "       'TV Dramas',\n",
              "       'Romantic TV Shows, Spanish-Language TV Shows, TV Comedies',\n",
              "       'Docuseries, International TV Shows, Science & Nature TV',\n",
              "       'TV Dramas, TV Sci-Fi & Fantasy',\n",
              "       'Crime TV Shows, Docuseries, TV Mysteries',\n",
              "       'Romantic TV Shows, Spanish-Language TV Shows, TV Dramas',\n",
              "       \"Kids' TV, TV Action & Adventure, TV Comedies\",\n",
              "       'TV Dramas, Teen TV Shows',\n",
              "       'Classic & Cult TV, TV Dramas, TV Sci-Fi & Fantasy',\n",
              "       'Crime TV Shows, TV Dramas, TV Thrillers',\n",
              "       'TV Action & Adventure, TV Horror, TV Sci-Fi & Fantasy',\n",
              "       'TV Comedies, TV Sci-Fi & Fantasy', 'Reality TV, Teen TV Shows',\n",
              "       'Reality TV, Science & Nature TV',\n",
              "       'British TV Shows, Docuseries, Science & Nature TV',\n",
              "       'Crime TV Shows, Docuseries, Science & Nature TV',\n",
              "       'International TV Shows, Spanish-Language TV Shows, TV Comedies',\n",
              "       'TV Action & Adventure, TV Dramas, TV Mysteries',\n",
              "       'International TV Shows, Reality TV',\n",
              "       \"Kids' TV, TV Action & Adventure, TV Sci-Fi & Fantasy\",\n",
              "       'Stand-Up Comedy & Talk Shows',\n",
              "       'Docuseries, International TV Shows, Reality TV',\n",
              "       'Crime TV Shows, TV Dramas, TV Sci-Fi & Fantasy',\n",
              "       'Docuseries, Reality TV, Teen TV Shows',\n",
              "       'Crime TV Shows, TV Action & Adventure, TV Comedies',\n",
              "       'TV Action & Adventure, TV Dramas',\n",
              "       'Crime TV Shows, TV Action & Adventure, TV Dramas',\n",
              "       'TV Action & Adventure, TV Mysteries, TV Sci-Fi & Fantasy',\n",
              "       'TV Shows', 'Romantic TV Shows, TV Dramas',\n",
              "       'Docuseries, TV Comedies',\n",
              "       'Crime TV Shows, Romantic TV Shows, TV Dramas',\n",
              "       'TV Horror, TV Mysteries, TV Sci-Fi & Fantasy',\n",
              "       'Reality TV, TV Comedies',\n",
              "       'Docuseries, International TV Shows, Spanish-Language TV Shows',\n",
              "       'TV Action & Adventure, TV Sci-Fi & Fantasy',\n",
              "       'British TV Shows, Docuseries',\n",
              "       'TV Dramas, TV Sci-Fi & Fantasy, Teen TV Shows',\n",
              "       'TV Horror, TV Mysteries, Teen TV Shows',\n",
              "       'TV Dramas, TV Mysteries, TV Sci-Fi & Fantasy',\n",
              "       'Romantic TV Shows, TV Dramas, TV Sci-Fi & Fantasy',\n",
              "       \"Kids' TV, Reality TV, Science & Nature TV\",\n",
              "       \"Anime Series, Kids' TV\", 'TV Action & Adventure, TV Comedies',\n",
              "       'TV Horror, TV Mysteries, TV Thrillers',\n",
              "       'TV Action & Adventure, TV Comedies, TV Sci-Fi & Fantasy',\n",
              "       'Crime TV Shows, TV Comedies, Teen TV Shows',\n",
              "       'Crime TV Shows, TV Horror, TV Mysteries',\n",
              "       'Classic & Cult TV, TV Action & Adventure, TV Dramas',\n",
              "       'Anime Series, TV Horror, TV Thrillers',\n",
              "       \"Kids' TV, TV Dramas, Teen TV Shows\", 'TV Comedies, Teen TV Shows',\n",
              "       'Crime TV Shows, TV Action & Adventure',\n",
              "       'Docuseries, Reality TV, Science & Nature TV',\n",
              "       \"Kids' TV, TV Thrillers\",\n",
              "       'Classic & Cult TV, TV Action & Adventure, TV Sci-Fi & Fantasy',\n",
              "       'International TV Shows, Reality TV, TV Comedies',\n",
              "       'Docuseries, Science & Nature TV, TV Dramas',\n",
              "       'Classic & Cult TV, TV Action & Adventure, TV Horror',\n",
              "       'TV Dramas, TV Mysteries, TV Thrillers',\n",
              "       'Crime TV Shows, TV Action & Adventure, TV Sci-Fi & Fantasy',\n",
              "       'TV Comedies, TV Horror, TV Thrillers', 'TV Action & Adventure',\n",
              "       \"British TV Shows, Kids' TV, TV Dramas\",\n",
              "       'Docuseries, International TV Shows',\n",
              "       'Crime TV Shows, Spanish-Language TV Shows, TV Action & Adventure',\n",
              "       'Classic & Cult TV, TV Comedies',\n",
              "       'Classic & Cult TV, TV Sci-Fi & Fantasy',\n",
              "       'Classic & Cult TV, Crime TV Shows, TV Dramas',\n",
              "       'Crime TV Shows, TV Action & Adventure, TV Thrillers',\n",
              "       'Crime TV Shows, TV Dramas, TV Horror',\n",
              "       \"Kids' TV, TV Action & Adventure\",\n",
              "       'TV Comedies, TV Sci-Fi & Fantasy, Teen TV Shows',\n",
              "       \"Classic & Cult TV, Kids' TV, TV Comedies\",\n",
              "       'Romantic TV Shows, TV Action & Adventure, TV Dramas',\n",
              "       'TV Comedies, TV Dramas, TV Horror',\n",
              "       \"Kids' TV, TV Comedies, TV Dramas\",\n",
              "       'International TV Shows, TV Action & Adventure, TV Dramas',\n",
              "       'Crime TV Shows, International TV Shows, TV Comedies'],\n",
              "      dtype=object)"
            ]
          },
          "metadata": {
            "tags": []
          },
          "execution_count": 70
        }
      ]
    },
    {
      "cell_type": "code",
      "metadata": {
        "id": "mjlBVURHyYhH"
      },
      "source": [
        "american_netflix_TVseries_listed_in=american_netflix_TVseries[\"listed_in\"].str.split(',', expand=True)\n",
        "#si quisiera tener el dataframe original con las columna listed_in separada en varias columnas por las comas, haría lo siguiente, pero no me hace falta para este ejercicio\n",
        "#american_netflix_TVseries_new=pd.concat([american_netflix_TVseries, american_netflix_TVseries_listed_in], axis=1)\n",
        "#american_netflix_TVseries_new\n",
        "#DUDA: Por qué no podría hacerlo con merge? Me da error la siguiente instrucción:\n",
        "#pd.merge(american_netflix_TVseries, american_netflix_TVseries_listed_in, on='key')"
      ],
      "execution_count": 71,
      "outputs": []
    },
    {
      "cell_type": "code",
      "metadata": {
        "colab": {
          "base_uri": "https://localhost:8080/"
        },
        "id": "xWmhbAuAJ8xV",
        "outputId": "2ebcc63d-68db-412c-c4f0-7539d758c10a"
      },
      "source": [
        "american_netflix_listed_in = american_netflix_TVseries_listed_in.stack().reset_index(-1, drop=True)\n",
        "american_netflix_listed_in"
      ],
      "execution_count": 72,
      "outputs": [
        {
          "output_type": "execute_result",
          "data": {
            "text/plain": [
              "2                   Kids' TV\n",
              "3                   Kids' TV\n",
              "8                 Docuseries\n",
              "8        Science & Nature TV\n",
              "54         Romantic TV Shows\n",
              "                ...         \n",
              "6229             TV Comedies\n",
              "6229     TV Sci-Fi & Fantasy\n",
              "6230             TV Comedies\n",
              "6233       Classic & Cult TV\n",
              "6233             TV Comedies\n",
              "Length: 1033, dtype: object"
            ]
          },
          "metadata": {
            "tags": []
          },
          "execution_count": 72
        }
      ]
    },
    {
      "cell_type": "code",
      "metadata": {
        "colab": {
          "base_uri": "https://localhost:8080/"
        },
        "id": "M7_1xbYeMuUP",
        "outputId": "14cd109f-aaed-481d-ee04-b816d3fa9bde"
      },
      "source": [
        "american_netflix_listed_in.unique()"
      ],
      "execution_count": 98,
      "outputs": [
        {
          "output_type": "execute_result",
          "data": {
            "text/plain": [
              "array([\"Kids' TV\", 'Docuseries', ' Science & Nature TV',\n",
              "       'Romantic TV Shows', ' TV Comedies', ' TV Dramas',\n",
              "       'Crime TV Shows', ' TV Mysteries', 'TV Comedies',\n",
              "       'International TV Shows', ' Reality TV',\n",
              "       ' Spanish-Language TV Shows', ' Teen TV Shows', 'TV Horror',\n",
              "       ' Docuseries', 'Reality TV', 'Stand-Up Comedy & Talk Shows',\n",
              "       'TV Action & Adventure', ' TV Sci-Fi & Fantasy',\n",
              "       ' TV Action & Adventure', 'Anime Series', ' Crime TV Shows',\n",
              "       ' TV Horror', 'TV Dramas', ' TV Thrillers',\n",
              "       ' International TV Shows', 'British TV Shows',\n",
              "       ' Romantic TV Shows', ' Stand-Up Comedy & Talk Shows',\n",
              "       'Classic & Cult TV', 'TV Shows', \" Kids' TV\"], dtype=object)"
            ]
          },
          "metadata": {
            "tags": []
          },
          "execution_count": 98
        }
      ]
    },
    {
      "cell_type": "code",
      "metadata": {
        "colab": {
          "base_uri": "https://localhost:8080/"
        },
        "id": "OThhlO-VlDXY",
        "outputId": "6d911330-70be-4734-ba58-c0a590b33524"
      },
      "source": [
        "type(american_netflix_listed_in)"
      ],
      "execution_count": 100,
      "outputs": [
        {
          "output_type": "execute_result",
          "data": {
            "text/plain": [
              "pandas.core.series.Series"
            ]
          },
          "metadata": {
            "tags": []
          },
          "execution_count": 100
        }
      ]
    },
    {
      "cell_type": "code",
      "metadata": {
        "id": "JlFK1hXWlybV"
      },
      "source": [
        "american_netflix_listed_pd = american_netflix_listed_in.to_frame()"
      ],
      "execution_count": 109,
      "outputs": []
    },
    {
      "cell_type": "code",
      "metadata": {
        "colab": {
          "base_uri": "https://localhost:8080/",
          "height": 497
        },
        "id": "saKK709fLrhk",
        "outputId": "701ed944-bf4d-4a7c-92e9-1931eb97e8ea"
      },
      "source": [
        "#DUDA: No entiendo muy bien ax\n",
        "fig, ax = plt.subplots(figsize = (9, 9))\n",
        "grafica = sns.countplot(y=american_netflix_listed_pd[0], order=american_netflix_listed_pd[0].value_counts().index)\n",
        "y = american_netflix_listed_pd[0].value_counts()    \n",
        "for i, v in enumerate(y):\n",
        "    grafica.text(v + 0.2, i+0.16, str(v), color='black', fontweight='light', fontsize=8)"
      ],
      "execution_count": 124,
      "outputs": [
        {
          "output_type": "display_data",
          "data": {
            "image/png": "[encoded data removed]",
            "text/plain": [
              "<Figure size 648x648 with 1 Axes>"
            ]
          },
          "metadata": {
            "tags": [],
            "needs_background": "light"
          }
        }
      ]
    },
    {
      "cell_type": "code",
      "metadata": {
        "id": "CTurnOw7qDXQ"
      },
      "source": [
        "#DUDA\n",
        "#Con anotate tengo dudas, no he conseguido que me saliera, lo intentaré en otro momento\n",
        "#for p in grafica.patches:\n",
        "#    grafica.annotate(format(p.get_height(), '.1f'), \n",
        "#                   (p.get_width(), p.get_y() + p.get_height() /2.), \n",
        "#                   ha = 'center', va = 'center', \n",
        "#                   xytext = (12, 0), \n",
        "#                   textcoords = 'offset points')\n"
      ],
      "execution_count": null,
      "outputs": []
    },
    {
      "cell_type": "markdown",
      "metadata": {
        "id": "m4BRawukqsqO"
      },
      "source": [
        "### Ejercicio Opcional\n",
        "\n",
        "Python es un lenguaje de programación muy utilizado en el procesamiento de imágenes. En este ejercicio veremos una aplicación de detección de elementos en una imagen de microscopía de escaneo (en inglés: Scanning Element Microscopy (SEM)).\n",
        "\n",
        "En esta imagen se puede ver una muestra de vidrio (gris claro) con algunas burbujas (elementos negros) y granos de arena (gris oscuro). Queremos ser capaces de detectar los diferentes elementos de la muestra a partir de la imagen.\n",
        "\n",
        "Una imagen se puede ver como una matriz bidimensional donde cada elemento de la matriz corresponde al valor de un pixel de la imagen. Por ejemplo, si miramos la matriz de la imagen que os proporcionamos, veremos valores que van de 0 a 255. Así pues, para distinguir los diferentes elementos de la muestra de vidrio, nos tendremos que fijar en el nivel de gris de los píxeles de la imagen a través del histograma. <span style=\"font-family: Courier New; background-color: #f2ae72; color: #000000; padding: 3px; \">EI</span> \n",
        "\n",
        "\n",
        "Parte A: \n",
        "\n",
        "* Para poder identificar mejor los elementos de la muestra de vidrio, primero hemos aplicado un filtro de mediana para reducir el ruido. Grafica ahora la distribución de los píxeles de la imagen inicial y la imagen filtrada. ¿Qué diferencia puedes apreciar entre ambas distribuciones?\n",
        "\n",
        "**Nota:** Utiliza la función [distplot](https://seaborn.pydata.org/generated/seaborn.distplot.html) de la librería Seaborn para visualizar la distribución de los valores píxeles de la imagen.\n",
        "\n",
        "Parte B: \n",
        "\n",
        "* Utilizando los valores del distribution plot de la imagen filtrada, determina unos umbrales que permitan diferenciar los píxeles de arena, los píxeles de vidrio y los píxeles de burbuja.\n",
        "\n",
        "* Una vez que hayas definido los umbrales, muestra por pantalla una imagen donde cada uno de los elementos esté en un color diferente. \n"
      ]
    },
    {
      "cell_type": "code",
      "metadata": {
        "colab": {
          "base_uri": "https://localhost:8080/",
          "height": 1000
        },
        "id": "DaJeNsbhqsqP",
        "outputId": "810b2d93-20e8-4a43-ae60-8c02e4f7df21"
      },
      "source": [
        "import cv2\n",
        "import matplotlib.pyplot as plt\n",
        "import seaborn as sns\n",
        "SEM = cv2.imread('/content/SEM_image.jpg')\n",
        "plt.imshow(SEM)\n",
        "SEM"
      ],
      "execution_count": 181,
      "outputs": [
        {
          "output_type": "execute_result",
          "data": {
            "text/plain": [
              "array([[[134, 134, 134],\n",
              "        [128, 128, 128],\n",
              "        [125, 125, 125],\n",
              "        ...,\n",
              "        [  2,   2,   2],\n",
              "        [  2,   2,   2],\n",
              "        [  2,   2,   2]],\n",
              "\n",
              "       [[132, 132, 132],\n",
              "        [128, 128, 128],\n",
              "        [126, 126, 126],\n",
              "        ...,\n",
              "        [  1,   1,   1],\n",
              "        [  1,   1,   1],\n",
              "        [  1,   1,   1]],\n",
              "\n",
              "       [[131, 131, 131],\n",
              "        [127, 127, 127],\n",
              "        [127, 127, 127],\n",
              "        ...,\n",
              "        [  1,   1,   1],\n",
              "        [  1,   1,   1],\n",
              "        [  1,   1,   1]],\n",
              "\n",
              "       ...,\n",
              "\n",
              "       [[100, 100, 100],\n",
              "        [102, 102, 102],\n",
              "        [103, 103, 103],\n",
              "        ...,\n",
              "        [137, 137, 137],\n",
              "        [137, 137, 137],\n",
              "        [137, 137, 137]],\n",
              "\n",
              "       [[101, 101, 101],\n",
              "        [113, 113, 113],\n",
              "        [116, 116, 116],\n",
              "        ...,\n",
              "        [138, 138, 138],\n",
              "        [138, 138, 138],\n",
              "        [138, 138, 138]],\n",
              "\n",
              "       [[119, 119, 119],\n",
              "        [117, 117, 117],\n",
              "        [111, 111, 111],\n",
              "        ...,\n",
              "        [134, 134, 134],\n",
              "        [138, 138, 138],\n",
              "        [142, 142, 142]]], dtype=uint8)"
            ]
          },
          "metadata": {
            "tags": []
          },
          "execution_count": 181
        },
        {
          "output_type": "display_data",
          "data": {
            "image/png": "[encoded data removed]",
            "text/plain": [
              "<Figure size 432x288 with 1 Axes>"
            ]
          },
          "metadata": {
            "tags": []
          }
        }
      ]
    },
    {
      "cell_type": "code",
      "metadata": {
        "colab": {
          "base_uri": "https://localhost:8080/",
          "height": 1000
        },
        "id": "904lrSGLwE9v",
        "outputId": "42d29f9b-15ff-4061-8fe3-dd92e1aeba11"
      },
      "source": [
        "SEM_fmediana = cv2.medianBlur(SEM,3)\n",
        "plt.imshow(SEM_fmediana)\n",
        "SEM_fmediana"
      ],
      "execution_count": 159,
      "outputs": [
        {
          "output_type": "execute_result",
          "data": {
            "text/plain": [
              "array([[[132, 132, 132],\n",
              "        [128, 128, 128],\n",
              "        [126, 126, 126],\n",
              "        ...,\n",
              "        [  1,   1,   1],\n",
              "        [  2,   2,   2],\n",
              "        [  2,   2,   2]],\n",
              "\n",
              "       [[131, 131, 131],\n",
              "        [128, 128, 128],\n",
              "        [127, 127, 127],\n",
              "        ...,\n",
              "        [  1,   1,   1],\n",
              "        [  1,   1,   1],\n",
              "        [  1,   1,   1]],\n",
              "\n",
              "       [[130, 130, 130],\n",
              "        [127, 127, 127],\n",
              "        [127, 127, 127],\n",
              "        ...,\n",
              "        [  0,   0,   0],\n",
              "        [  1,   1,   1],\n",
              "        [  1,   1,   1]],\n",
              "\n",
              "       ...,\n",
              "\n",
              "       [[101, 101, 101],\n",
              "        [102, 102, 102],\n",
              "        [103, 103, 103],\n",
              "        ...,\n",
              "        [137, 137, 137],\n",
              "        [137, 137, 137],\n",
              "        [137, 137, 137]],\n",
              "\n",
              "       [[102, 102, 102],\n",
              "        [111, 111, 111],\n",
              "        [109, 109, 109],\n",
              "        ...,\n",
              "        [137, 137, 137],\n",
              "        [138, 138, 138],\n",
              "        [138, 138, 138]],\n",
              "\n",
              "       [[117, 117, 117],\n",
              "        [116, 116, 116],\n",
              "        [111, 111, 111],\n",
              "        ...,\n",
              "        [138, 138, 138],\n",
              "        [138, 138, 138],\n",
              "        [138, 138, 138]]], dtype=uint8)"
            ]
          },
          "metadata": {
            "tags": []
          },
          "execution_count": 159
        },
        {
          "output_type": "display_data",
          "data": {
            "image/png": "[encoded data removed]",
            "text/plain": [
              "<Figure size 432x288 with 1 Axes>"
            ]
          },
          "metadata": {
            "tags": []
          }
        }
      ]
    },
    {
      "cell_type": "code",
      "metadata": {
        "id": "IN4N_sHjvdcs"
      },
      "source": [
        "#muestra la imagen cv2. imshow ('Median Filter Processing', procesado_imagen) # guardar imagen en el disco cv2.imwrite ('procesado_imagen.png', procesado_imagen) # pausar la ejecución del script hasta que se presione una tecla en el teclado cv2.waitKey (0)"
      ],
      "execution_count": 160,
      "outputs": []
    },
    {
      "cell_type": "code",
      "metadata": {
        "colab": {
          "base_uri": "https://localhost:8080/",
          "height": 337
        },
        "id": "xdwffPYZqsqP",
        "outputId": "1d124fb6-9eda-4f67-cb63-04c7e608a1b6"
      },
      "source": [
        "sns.set_style(\"darkgrid\")\n",
        "sns.distplot(SEM)"
      ],
      "execution_count": 161,
      "outputs": [
        {
          "output_type": "stream",
          "text": [
            "/usr/local/lib/python3.7/dist-packages/seaborn/distributions.py:2557: FutureWarning: `distplot` is a deprecated function and will be removed in a future version. Please adapt your code to use either `displot` (a figure-level function with similar flexibility) or `histplot` (an axes-level function for histograms).\n",
            "  warnings.warn(msg, FutureWarning)\n"
          ],
          "name": "stderr"
        },
        {
          "output_type": "execute_result",
          "data": {
            "text/plain": [
              "<matplotlib.axes._subplots.AxesSubplot at 0x7f679d502b10>"
            ]
          },
          "metadata": {
            "tags": []
          },
          "execution_count": 161
        },
        {
          "output_type": "display_data",
          "data": {
            "image/png": "[encoded data removed]",
            "text/plain": [
              "<Figure size 432x288 with 1 Axes>"
            ]
          },
          "metadata": {
            "tags": []
          }
        }
      ]
    },
    {
      "cell_type": "code",
      "metadata": {
        "colab": {
          "base_uri": "https://localhost:8080/",
          "height": 337
        },
        "id": "fMCGHecnyHIx",
        "outputId": "f1094b43-b90a-4708-e84e-79a4304a4f8e"
      },
      "source": [
        "sns.distplot(SEM_fmediana)"
      ],
      "execution_count": 162,
      "outputs": [
        {
          "output_type": "stream",
          "text": [
            "/usr/local/lib/python3.7/dist-packages/seaborn/distributions.py:2557: FutureWarning: `distplot` is a deprecated function and will be removed in a future version. Please adapt your code to use either `displot` (a figure-level function with similar flexibility) or `histplot` (an axes-level function for histograms).\n",
            "  warnings.warn(msg, FutureWarning)\n"
          ],
          "name": "stderr"
        },
        {
          "output_type": "execute_result",
          "data": {
            "text/plain": [
              "<matplotlib.axes._subplots.AxesSubplot at 0x7f679d46d690>"
            ]
          },
          "metadata": {
            "tags": []
          },
          "execution_count": 162
        },
        {
          "output_type": "display_data",
          "data": {
            "image/png": "[encoded data removed]",
            "text/plain": [
              "<Figure size 432x288 with 1 Axes>"
            ]
          },
          "metadata": {
            "tags": []
          }
        }
      ]
    },
    {
      "cell_type": "code",
      "metadata": {
        "id": "W4012ZuWx8El"
      },
      "source": [
        "#RESPUESTA: La verdad que mirando las gráficas anteriores no encuentro grandes diferencias estre una y otra.. En las distribuciones sí que se diferencian 3 tonos diferentes: uno arededor del valor 0 (negro: burbujas), otro alrededor de 100 (gris oscuro: arena) y otro alrededor de 140 (gris claro: vidrio), con mayores frecuencias el de 0 y 140\n",
        "#DUDA: cómo puedo hacer para que no me aparezca el warning de antes de la gráfica???"
      ],
      "execution_count": 208,
      "outputs": []
    },
    {
      "cell_type": "code",
      "metadata": {
        "colab": {
          "base_uri": "https://localhost:8080/",
          "height": 251
        },
        "id": "iJWJV2K-V4M6",
        "outputId": "bca63228-0ae7-40e4-a081-b1498af692f8"
      },
      "source": [
        "import cv2 as cv\n",
        "import numpy as np\n",
        "from matplotlib import pyplot as plt\n",
        "ret,thresh1 = cv.threshold(SEM,15,255,cv.THRESH_BINARY)\n",
        "ret,thresh2 = cv.threshold(SEM,90,255,cv.THRESH_BINARY)\n",
        "ret,thresh3 = cv.threshold(SEM,115,255,cv.THRESH_BINARY_INV)\n",
        "titles = ['Original Image','Burbujas','Arena','Vidrio']\n",
        "images = [SEM, thresh1,255-(thresh1-thresh2),thresh3]\n",
        "for i in range(4):\n",
        "    plt.subplot(2,3,i+1),plt.imshow(images[i],'gray',vmin=0,vmax=255)\n",
        "    plt.title(titles[i])\n",
        "    plt.xticks([]),plt.yticks([])\n",
        "plt.show()"
      ],
      "execution_count": 258,
      "outputs": [
        {
          "output_type": "display_data",
          "data": {
            "image/png": "[encoded data removed]",
            "text/plain": [
              "<Figure size 432x288 with 4 Axes>"
            ]
          },
          "metadata": {
            "tags": []
          }
        }
      ]
    },
    {
      "cell_type": "code",
      "metadata": {
        "id": "0dIpa_3SkL8C"
      },
      "source": [
        "#En los dibujos anteriores, lo que no es blanco serán en cada uno de los dibujos correspondiente las burbujas, la arena y el vidrio. La arena no he conseguido que me saliera en negro, sale en gris, y no entiendo por qué. \n",
        "#Falta cambiar los colores negros por colores diferentes segun el dibujo y fusionar las tres imágenes: burbujas, arena y vidrio. Estoy ya un poco bloqueada. Lo intento en otro momento\n"
      ],
      "execution_count": null,
      "outputs": []
    },
    {
      "cell_type": "code",
      "metadata": {
        "colab": {
          "base_uri": "https://localhost:8080/",
          "height": 513
        },
        "id": "cduG_rZPZwGb",
        "outputId": "1e7a1d69-f717-40b9-a288-cb2518eb6086"
      },
      "source": [
        "#DUDA: Si trabajo con SEM_fmediana en el apartado anterior, calculando los threshold, me da error\n",
        "import cv2 as cv\n",
        "import numpy as np\n",
        "from matplotlib import pyplot as plt\n",
        "ret,thresh1 = cv.threshold(SEM_fmediana,15,255,cv.THRESH_BINARY)\n",
        "ret,thresh2 = cv.threshold(SEM_fmediana,90,255,cv.THRESH_BINARY)\n",
        "ret,thresh3 = cv.threshold(SEM_fmediana,115,255,cv.THRESH_BINARY_INV)\n",
        "titles = ['Original Image','Burbujas','Arena','Vidrio']\n",
        "images = [SEM_fmediana, thresh1,255-(thresh1-thresh2),thresh3]\n",
        "for i in range(4):\n",
        "    plt.subplot(2,3,i+1),plt.imshow(images[i],'gray',vmin=0,vmax=255)\n",
        "    plt.title(titles[i])\n",
        "    plt.xticks([]),plt.yticks([])\n",
        "plt.show()"
      ],
      "execution_count": 259,
      "outputs": [
        {
          "output_type": "error",
          "ename": "TypeError",
          "evalue": "ignored",
          "traceback": [
            "\u001b[0;31m---------------------------------------------------------------------------\u001b[0m",
            "\u001b[0;31mTypeError\u001b[0m                                 Traceback (most recent call last)",
            "\u001b[0;32m<ipython-input-259-355bae0ef75b>\u001b[0m in \u001b[0;36m<module>\u001b[0;34m()\u001b[0m\n\u001b[1;32m      9\u001b[0m \u001b[0mimages\u001b[0m \u001b[0;34m=\u001b[0m \u001b[0;34m[\u001b[0m\u001b[0mSEM_fmediana\u001b[0m\u001b[0;34m,\u001b[0m \u001b[0mthresh1\u001b[0m\u001b[0;34m,\u001b[0m\u001b[0;36m255\u001b[0m\u001b[0;34m-\u001b[0m\u001b[0;34m(\u001b[0m\u001b[0mthresh1\u001b[0m\u001b[0;34m-\u001b[0m\u001b[0mthresh2\u001b[0m\u001b[0;34m)\u001b[0m\u001b[0;34m,\u001b[0m\u001b[0mthresh3\u001b[0m\u001b[0;34m]\u001b[0m\u001b[0;34m\u001b[0m\u001b[0;34m\u001b[0m\u001b[0m\n\u001b[1;32m     10\u001b[0m \u001b[0;32mfor\u001b[0m \u001b[0mi\u001b[0m \u001b[0;32min\u001b[0m \u001b[0mrange\u001b[0m\u001b[0;34m(\u001b[0m\u001b[0;36m4\u001b[0m\u001b[0;34m)\u001b[0m\u001b[0;34m:\u001b[0m\u001b[0;34m\u001b[0m\u001b[0;34m\u001b[0m\u001b[0m\n\u001b[0;32m---> 11\u001b[0;31m     \u001b[0mplt\u001b[0m\u001b[0;34m.\u001b[0m\u001b[0msubplot\u001b[0m\u001b[0;34m(\u001b[0m\u001b[0;36m2\u001b[0m\u001b[0;34m,\u001b[0m\u001b[0;36m3\u001b[0m\u001b[0;34m,\u001b[0m\u001b[0mi\u001b[0m\u001b[0;34m+\u001b[0m\u001b[0;36m1\u001b[0m\u001b[0;34m)\u001b[0m\u001b[0;34m,\u001b[0m\u001b[0mplt\u001b[0m\u001b[0;34m.\u001b[0m\u001b[0mimshow\u001b[0m\u001b[0;34m(\u001b[0m\u001b[0mimages\u001b[0m\u001b[0;34m[\u001b[0m\u001b[0mi\u001b[0m\u001b[0;34m]\u001b[0m\u001b[0;34m,\u001b[0m\u001b[0;34m'gray'\u001b[0m\u001b[0;34m,\u001b[0m\u001b[0mvmin\u001b[0m\u001b[0;34m=\u001b[0m\u001b[0;36m0\u001b[0m\u001b[0;34m,\u001b[0m\u001b[0mvmax\u001b[0m\u001b[0;34m=\u001b[0m\u001b[0;36m255\u001b[0m\u001b[0;34m)\u001b[0m\u001b[0;34m\u001b[0m\u001b[0;34m\u001b[0m\u001b[0m\n\u001b[0m\u001b[1;32m     12\u001b[0m     \u001b[0mplt\u001b[0m\u001b[0;34m.\u001b[0m\u001b[0mtitle\u001b[0m\u001b[0;34m(\u001b[0m\u001b[0mtitles\u001b[0m\u001b[0;34m[\u001b[0m\u001b[0mi\u001b[0m\u001b[0;34m]\u001b[0m\u001b[0;34m)\u001b[0m\u001b[0;34m\u001b[0m\u001b[0;34m\u001b[0m\u001b[0m\n\u001b[1;32m     13\u001b[0m     \u001b[0mplt\u001b[0m\u001b[0;34m.\u001b[0m\u001b[0mxticks\u001b[0m\u001b[0;34m(\u001b[0m\u001b[0;34m[\u001b[0m\u001b[0;34m]\u001b[0m\u001b[0;34m)\u001b[0m\u001b[0;34m,\u001b[0m\u001b[0mplt\u001b[0m\u001b[0;34m.\u001b[0m\u001b[0myticks\u001b[0m\u001b[0;34m(\u001b[0m\u001b[0;34m[\u001b[0m\u001b[0;34m]\u001b[0m\u001b[0;34m)\u001b[0m\u001b[0;34m\u001b[0m\u001b[0;34m\u001b[0m\u001b[0m\n",
            "\u001b[0;32m/usr/local/lib/python3.7/dist-packages/matplotlib/pyplot.py\u001b[0m in \u001b[0;36mimshow\u001b[0;34m(X, cmap, norm, aspect, interpolation, alpha, vmin, vmax, origin, extent, shape, filternorm, filterrad, imlim, resample, url, data, **kwargs)\u001b[0m\n\u001b[1;32m   2649\u001b[0m         \u001b[0mfilternorm\u001b[0m\u001b[0;34m=\u001b[0m\u001b[0mfilternorm\u001b[0m\u001b[0;34m,\u001b[0m \u001b[0mfilterrad\u001b[0m\u001b[0;34m=\u001b[0m\u001b[0mfilterrad\u001b[0m\u001b[0;34m,\u001b[0m \u001b[0mimlim\u001b[0m\u001b[0;34m=\u001b[0m\u001b[0mimlim\u001b[0m\u001b[0;34m,\u001b[0m\u001b[0;34m\u001b[0m\u001b[0;34m\u001b[0m\u001b[0m\n\u001b[1;32m   2650\u001b[0m         resample=resample, url=url, **({\"data\": data} if data is not\n\u001b[0;32m-> 2651\u001b[0;31m         None else {}), **kwargs)\n\u001b[0m\u001b[1;32m   2652\u001b[0m     \u001b[0msci\u001b[0m\u001b[0;34m(\u001b[0m\u001b[0m__ret\u001b[0m\u001b[0;34m)\u001b[0m\u001b[0;34m\u001b[0m\u001b[0;34m\u001b[0m\u001b[0m\n\u001b[1;32m   2653\u001b[0m     \u001b[0;32mreturn\u001b[0m \u001b[0m__ret\u001b[0m\u001b[0;34m\u001b[0m\u001b[0;34m\u001b[0m\u001b[0m\n",
            "\u001b[0;32m/usr/local/lib/python3.7/dist-packages/matplotlib/__init__.py\u001b[0m in \u001b[0;36minner\u001b[0;34m(ax, data, *args, **kwargs)\u001b[0m\n\u001b[1;32m   1563\u001b[0m     \u001b[0;32mdef\u001b[0m \u001b[0minner\u001b[0m\u001b[0;34m(\u001b[0m\u001b[0max\u001b[0m\u001b[0;34m,\u001b[0m \u001b[0;34m*\u001b[0m\u001b[0margs\u001b[0m\u001b[0;34m,\u001b[0m \u001b[0mdata\u001b[0m\u001b[0;34m=\u001b[0m\u001b[0;32mNone\u001b[0m\u001b[0;34m,\u001b[0m \u001b[0;34m**\u001b[0m\u001b[0mkwargs\u001b[0m\u001b[0;34m)\u001b[0m\u001b[0;34m:\u001b[0m\u001b[0;34m\u001b[0m\u001b[0;34m\u001b[0m\u001b[0m\n\u001b[1;32m   1564\u001b[0m         \u001b[0;32mif\u001b[0m \u001b[0mdata\u001b[0m \u001b[0;32mis\u001b[0m \u001b[0;32mNone\u001b[0m\u001b[0;34m:\u001b[0m\u001b[0;34m\u001b[0m\u001b[0;34m\u001b[0m\u001b[0m\n\u001b[0;32m-> 1565\u001b[0;31m             \u001b[0;32mreturn\u001b[0m \u001b[0mfunc\u001b[0m\u001b[0;34m(\u001b[0m\u001b[0max\u001b[0m\u001b[0;34m,\u001b[0m \u001b[0;34m*\u001b[0m\u001b[0mmap\u001b[0m\u001b[0;34m(\u001b[0m\u001b[0msanitize_sequence\u001b[0m\u001b[0;34m,\u001b[0m \u001b[0margs\u001b[0m\u001b[0;34m)\u001b[0m\u001b[0;34m,\u001b[0m \u001b[0;34m**\u001b[0m\u001b[0mkwargs\u001b[0m\u001b[0;34m)\u001b[0m\u001b[0;34m\u001b[0m\u001b[0;34m\u001b[0m\u001b[0m\n\u001b[0m\u001b[1;32m   1566\u001b[0m \u001b[0;34m\u001b[0m\u001b[0m\n\u001b[1;32m   1567\u001b[0m         \u001b[0mbound\u001b[0m \u001b[0;34m=\u001b[0m \u001b[0mnew_sig\u001b[0m\u001b[0;34m.\u001b[0m\u001b[0mbind\u001b[0m\u001b[0;34m(\u001b[0m\u001b[0max\u001b[0m\u001b[0;34m,\u001b[0m \u001b[0;34m*\u001b[0m\u001b[0margs\u001b[0m\u001b[0;34m,\u001b[0m \u001b[0;34m**\u001b[0m\u001b[0mkwargs\u001b[0m\u001b[0;34m)\u001b[0m\u001b[0;34m\u001b[0m\u001b[0;34m\u001b[0m\u001b[0m\n",
            "\u001b[0;32m/usr/local/lib/python3.7/dist-packages/matplotlib/cbook/deprecation.py\u001b[0m in \u001b[0;36mwrapper\u001b[0;34m(*args, **kwargs)\u001b[0m\n\u001b[1;32m    356\u001b[0m                 \u001b[0;34mf\"%(removal)s.  If any parameter follows {name!r}, they \"\u001b[0m\u001b[0;34m\u001b[0m\u001b[0;34m\u001b[0m\u001b[0m\n\u001b[1;32m    357\u001b[0m                 f\"should be pass as keyword, not positionally.\")\n\u001b[0;32m--> 358\u001b[0;31m         \u001b[0;32mreturn\u001b[0m \u001b[0mfunc\u001b[0m\u001b[0;34m(\u001b[0m\u001b[0;34m*\u001b[0m\u001b[0margs\u001b[0m\u001b[0;34m,\u001b[0m \u001b[0;34m**\u001b[0m\u001b[0mkwargs\u001b[0m\u001b[0;34m)\u001b[0m\u001b[0;34m\u001b[0m\u001b[0;34m\u001b[0m\u001b[0m\n\u001b[0m\u001b[1;32m    359\u001b[0m \u001b[0;34m\u001b[0m\u001b[0m\n\u001b[1;32m    360\u001b[0m     \u001b[0;32mreturn\u001b[0m \u001b[0mwrapper\u001b[0m\u001b[0;34m\u001b[0m\u001b[0;34m\u001b[0m\u001b[0m\n",
            "\u001b[0;32m/usr/local/lib/python3.7/dist-packages/matplotlib/cbook/deprecation.py\u001b[0m in \u001b[0;36mwrapper\u001b[0;34m(*args, **kwargs)\u001b[0m\n\u001b[1;32m    356\u001b[0m                 \u001b[0;34mf\"%(removal)s.  If any parameter follows {name!r}, they \"\u001b[0m\u001b[0;34m\u001b[0m\u001b[0;34m\u001b[0m\u001b[0m\n\u001b[1;32m    357\u001b[0m                 f\"should be pass as keyword, not positionally.\")\n\u001b[0;32m--> 358\u001b[0;31m         \u001b[0;32mreturn\u001b[0m \u001b[0mfunc\u001b[0m\u001b[0;34m(\u001b[0m\u001b[0;34m*\u001b[0m\u001b[0margs\u001b[0m\u001b[0;34m,\u001b[0m \u001b[0;34m**\u001b[0m\u001b[0mkwargs\u001b[0m\u001b[0;34m)\u001b[0m\u001b[0;34m\u001b[0m\u001b[0;34m\u001b[0m\u001b[0m\n\u001b[0m\u001b[1;32m    359\u001b[0m \u001b[0;34m\u001b[0m\u001b[0m\n\u001b[1;32m    360\u001b[0m     \u001b[0;32mreturn\u001b[0m \u001b[0mwrapper\u001b[0m\u001b[0;34m\u001b[0m\u001b[0;34m\u001b[0m\u001b[0m\n",
            "\u001b[0;32m/usr/local/lib/python3.7/dist-packages/matplotlib/axes/_axes.py\u001b[0m in \u001b[0;36mimshow\u001b[0;34m(self, X, cmap, norm, aspect, interpolation, alpha, vmin, vmax, origin, extent, shape, filternorm, filterrad, imlim, resample, url, **kwargs)\u001b[0m\n\u001b[1;32m   5624\u001b[0m                               resample=resample, **kwargs)\n\u001b[1;32m   5625\u001b[0m \u001b[0;34m\u001b[0m\u001b[0m\n\u001b[0;32m-> 5626\u001b[0;31m         \u001b[0mim\u001b[0m\u001b[0;34m.\u001b[0m\u001b[0mset_data\u001b[0m\u001b[0;34m(\u001b[0m\u001b[0mX\u001b[0m\u001b[0;34m)\u001b[0m\u001b[0;34m\u001b[0m\u001b[0;34m\u001b[0m\u001b[0m\n\u001b[0m\u001b[1;32m   5627\u001b[0m         \u001b[0mim\u001b[0m\u001b[0;34m.\u001b[0m\u001b[0mset_alpha\u001b[0m\u001b[0;34m(\u001b[0m\u001b[0malpha\u001b[0m\u001b[0;34m)\u001b[0m\u001b[0;34m\u001b[0m\u001b[0;34m\u001b[0m\u001b[0m\n\u001b[1;32m   5628\u001b[0m         \u001b[0;32mif\u001b[0m \u001b[0mim\u001b[0m\u001b[0;34m.\u001b[0m\u001b[0mget_clip_path\u001b[0m\u001b[0;34m(\u001b[0m\u001b[0;34m)\u001b[0m \u001b[0;32mis\u001b[0m \u001b[0;32mNone\u001b[0m\u001b[0;34m:\u001b[0m\u001b[0;34m\u001b[0m\u001b[0;34m\u001b[0m\u001b[0m\n",
            "\u001b[0;32m/usr/local/lib/python3.7/dist-packages/matplotlib/image.py\u001b[0m in \u001b[0;36mset_data\u001b[0;34m(self, A)\u001b[0m\n\u001b[1;32m    697\u001b[0m                 or self._A.ndim == 3 and self._A.shape[-1] in [3, 4]):\n\u001b[1;32m    698\u001b[0m             raise TypeError(\"Invalid shape {} for image data\"\n\u001b[0;32m--> 699\u001b[0;31m                             .format(self._A.shape))\n\u001b[0m\u001b[1;32m    700\u001b[0m \u001b[0;34m\u001b[0m\u001b[0m\n\u001b[1;32m    701\u001b[0m         \u001b[0;32mif\u001b[0m \u001b[0mself\u001b[0m\u001b[0;34m.\u001b[0m\u001b[0m_A\u001b[0m\u001b[0;34m.\u001b[0m\u001b[0mndim\u001b[0m \u001b[0;34m==\u001b[0m \u001b[0;36m3\u001b[0m\u001b[0;34m:\u001b[0m\u001b[0;34m\u001b[0m\u001b[0;34m\u001b[0m\u001b[0m\n",
            "\u001b[0;31mTypeError\u001b[0m: Invalid shape () for image data"
          ]
        },
        {
          "output_type": "display_data",
          "data": {
            "image/png": "[encoded data removed]",
            "text/plain": [
              "<Figure size 432x288 with 1 Axes>"
            ]
          },
          "metadata": {
            "tags": []
          }
        }
      ]
    }
  ]
}