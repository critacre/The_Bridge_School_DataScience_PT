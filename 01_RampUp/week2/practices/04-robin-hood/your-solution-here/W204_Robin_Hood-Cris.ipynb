{
  "nbformat": 4,
  "nbformat_minor": 0,
  "metadata": {
    "colab": {
      "name": "W204-Robin_Hood",
      "provenance": []
    },
    "kernelspec": {
      "name": "python3",
      "display_name": "Python 3"
    },
    "language_info": {
      "name": "python"
    }
  },
  "cells": [
    {
      "cell_type": "code",
      "metadata": {
        "id": "73377vvb-oVE"
      },
      "source": [
        "#04 - Robin Hood\n",
        "\n",
        "import random\n",
        "tiros = []\n",
        "total_tiros = int(input('Indica el número de lanzamientos total '))\n",
        "tiros_actuales = 0\n",
        "x = 0\n",
        "y = 0\n",
        "Q1 = 0\n",
        "Q2 = 0\n",
        "Q3 = 0\n",
        "Q4 = 0\n",
        "diana = 0\n",
        "distancia_al_centro = []\n",
        "fuera_de_diana = 0\n",
        "while tiros_actuales < total_tiros:\n",
        "  x = round(random.uniform (-13,13))\n",
        "  y = round(random.uniform (-13,13))\n",
        "  tiros.append ((x,y))\n",
        "  tiros_actuales+=1\n",
        "  if(x==0) and (y==0):\n",
        "    diana=diana + 1\n",
        "  elif (x>=0) and (y>=0):\n",
        "    Q1=Q1+1\n",
        "  elif (x<=0) and (y>=0):\n",
        "    Q2=Q2+1\n",
        "  elif (x<=0) and (y<=0):\n",
        "    Q3=Q3+1\n",
        "  else:\n",
        "    Q4=Q4+1\n",
        "  distancia_al_centro.append(round((x**2+y**2)**(1/2),2))\n",
        "  if (round((x**2+y**2)**(1/2),2)>9):\n",
        "    fuera_de_diana += 1\n",
        "print('Estas son las coordenadas de tus lanzamientos:', tiros)\n",
        "\n",
        "#1. Robin Hood es famoso por acertar a una flecha con otra flecha. ¿Lo ha conseguido?\n",
        "flechas_coincidentes = 0\n",
        "for i in tiros:\n",
        "  if (tiros.count(i)>1):\n",
        "      flechas_coincidentes = flechas_coincidentes + tiros.count(i) - 1\n",
        "      tiros.remove(i)\n",
        "print(flechas_coincidentes)\n",
        "#2. Calcula cuántos flechazos han caido en cada cuadrante.\n",
        "print('Han caido:', Q1, 'flechas en el cuadrante 1,', Q2,'flechas en el cuadrante 2,', Q3, 'flechas en el cuadrante 3,', Q4, 'en el cuarto cuadrante y', diana, 'dianas')\n",
        "#3. Halla el punto más cercano al centro. Calcula su distancia al centro\n",
        "print('La menor distancia al centro en tus lanzamientos ha sido de:', min(distancia_al_centro))\n",
        "#4. Si la diana tiene un radio de 9, calcula el número de flechas que hay que recoger al bosque\n",
        "print('Hay', fuera_de_diana, 'flechas perdidas en el bosque')"
      ],
      "execution_count": null,
      "outputs": []
    }
  ]
}