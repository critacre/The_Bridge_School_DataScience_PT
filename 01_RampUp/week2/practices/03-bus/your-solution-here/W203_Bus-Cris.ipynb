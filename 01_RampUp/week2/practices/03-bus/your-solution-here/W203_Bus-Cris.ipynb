{
  "nbformat": 4,
  "nbformat_minor": 0,
  "metadata": {
    "colab": {
      "name": "W203-Bus",
      "provenance": []
    },
    "kernelspec": {
      "name": "python3",
      "display_name": "Python 3"
    },
    "language_info": {
      "name": "python"
    }
  },
  "cells": [
    {
      "cell_type": "code",
      "metadata": {
        "id": "jVfBzNnL-HZZ"
      },
      "source": [
        "#03 - bus\n",
        "#En cada parada la subida y bajada de pasajeros se representa por una tupla \n",
        "#bus_stop = (in, out)\n",
        "#La sucesión de paradas se representa con una lista estas tuplas.\n",
        "#stops = [(in1, out1), (in2, out2), (in3, out3), (in4, out4)]\n",
        "contador=0\n",
        "N = int(input('Indique el número de paradas de la ruta:'))\n",
        "numero_de_pasajeros = []\n",
        "stops=[]\n",
        "while contador < N:\n",
        "  var_in=int(input(\"Nº de pasajeros que suben en la parada actual: \"))\n",
        "  var_out=int(input(\"Nº de pasajeros que bajan en la parada actual: \"))\n",
        "  bus_stop = (var_in,var_out)\n",
        "  stops.append ((var_in,var_out))\n",
        "  #03.1. Calcula el número de paradas\n",
        "  contador = len (stops)\n",
        "  print('El número de paradas realizadas hasta ahora es', str(contador))\n",
        "  #03.2. Asigna a una variable una lista cuyos elementos sean el número de pasajeros en cada parada (in-out)\n",
        "  #numero_de_pasajeros.append (in-out)\n",
        "  if (contador==1):\n",
        "    numero_de_pasajeros.append (var_in-var_out)\n",
        "  else:\n",
        "    numero_de_pasajeros.append (numero_de_pasajeros[contador-2]+var_in-var_out)\n",
        "  print('Este es el histórico de pasajeros en cada una de las paradas:', numero_de_pasajeros)\n",
        "print('Fin del trayecto')\n",
        "#03.3. Halla el máximo de ocupación del autobús\"\n",
        "max_pasajeros = max(numero_de_pasajeros)\n",
        "print('El número máximo de pasajeros ha sido de', str(max_pasajeros), 'pasajeros')\n",
        "#03.4. Calcula la media de la ocupación. Y la desviación estandard\"\n",
        "suma_total_pasajeros = 0\n",
        "numerador_varianza = 0\n",
        "stop = 0\n",
        "for i in numero_de_pasajeros:\n",
        "  suma_total_pasajeros = suma_total_pasajeros + numero_de_pasajeros[stop]\n",
        "  stop += 1\n",
        "media = round(suma_total_pasajeros / contador,2)\n",
        "stop = 0\n",
        "for i in numero_de_pasajeros:\n",
        "  numerador_varianza = numerador_varianza + (numero_de_pasajeros[stop]-media)**2\n",
        "  stop += 1\n",
        "desviacion_tipica=round((numerador_varianza/contador)**(1/2),2)\n",
        "print('La media de pasajeros en el autobús en la ruta ha sido de', str(media), 'pasajeros y la desviación típica de', desviacion_tipica)\n"
      ],
      "execution_count": null,
      "outputs": []
    }
  ]
}