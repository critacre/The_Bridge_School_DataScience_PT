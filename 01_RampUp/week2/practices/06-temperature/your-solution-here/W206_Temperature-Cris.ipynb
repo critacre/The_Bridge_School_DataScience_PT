{
  "nbformat": 4,
  "nbformat_minor": 0,
  "metadata": {
    "colab": {
      "name": "W206 - Temperature",
      "provenance": []
    },
    "kernelspec": {
      "name": "python3",
      "display_name": "Python 3"
    },
    "language_info": {
      "name": "python"
    }
  },
  "cells": [
    {
      "cell_type": "code",
      "metadata": {
        "id": "0v8XUs2a_67p"
      },
      "source": [
        "#6 - temperature\n",
        "\n",
        "hora = 0\n",
        "temperaturas_C = []\n",
        "suma_temperaturas_C = 0 \n",
        "while hora < 5:\n",
        "  temperatura_F = int(input('Introduce los valores de las temperaturas para cada hora: '))\n",
        "  temperatura_C = round(( temperatura_F - 32) / 1.8,1)\n",
        "  temperaturas_C.append (temperatura_C)\n",
        "  suma_temperaturas_C = suma_temperaturas_C + temperatura_C\n",
        "  hora+=1\n",
        "  temperatura_media_C = suma_temperaturas_C / hora\n",
        "  if (temperatura_media_C > 65) or (temperatura_C > 80) :\n",
        "    print(temperaturas_C)\n",
        "    print ('Cambiar el sistema de refrigeración')\n",
        "    break\n",
        "  elif (temperatura_C >= 70) and (temperaturas_C [hora-2] >= 70) and (temperaturas_C [hora-3] >= 70) and (temperaturas_C [hora-4] >= 70):\n",
        "    print(temperaturas_C)\n",
        "    print ('Cambiar el sistema de refrigeración')\n",
        "    break\n",
        "print(temperaturas_C)\n",
        "print('No es necesario cambiar el sistema de refrigeración')\n",
        "\n",
        "#Me encuentro con el problema de que si la primera temperatura es superior a 65ºC ya me indica que tengo que cambiar el sistema de refrigeración, porque la media va a ser superior a 65ºC"
      ],
      "execution_count": null,
      "outputs": []
    }
  ]
}