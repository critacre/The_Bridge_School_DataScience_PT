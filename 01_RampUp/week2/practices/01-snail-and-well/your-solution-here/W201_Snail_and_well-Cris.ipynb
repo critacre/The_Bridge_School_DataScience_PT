{
  "nbformat": 4,
  "nbformat_minor": 0,
  "metadata": {
    "colab": {
      "name": "W101-Snail_and_well",
      "provenance": []
    },
    "kernelspec": {
      "name": "python3",
      "display_name": "Python 3"
    },
    "language_info": {
      "name": "python"
    }
  },
  "cells": [
    {
      "cell_type": "code",
      "metadata": {
        "id": "0uX99NQZ8__1"
      },
      "source": [
        "#01 - snail and well\n",
        "avance_caracol=0\n",
        "dias=0\n",
        "while avance_caracol<120:\n",
        "  dias=dias+1\n",
        "  avance_caracol=avance_caracol+30\n",
        "  if avance_caracol==120:\n",
        "    print('El caracol ha tardado', dias, 'días en escapar del pozo')\n",
        "  else:\n",
        "    avance_caracol=avance_caracol-20"
      ],
      "execution_count": null,
      "outputs": []
    }
  ]
}