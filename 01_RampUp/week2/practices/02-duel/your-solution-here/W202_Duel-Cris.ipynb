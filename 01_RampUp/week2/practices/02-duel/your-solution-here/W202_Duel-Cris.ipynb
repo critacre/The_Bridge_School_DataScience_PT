{
  "nbformat": 4,
  "nbformat_minor": 0,
  "metadata": {
    "colab": {
      "name": "W202-Duel",
      "provenance": []
    },
    "kernelspec": {
      "name": "python3",
      "display_name": "Python 3"
    },
    "language_info": {
      "name": "python"
    }
  },
  "cells": [
    {
      "cell_type": "code",
      "metadata": {
        "id": "jtzGBhjx9us0"
      },
      "source": [
        "#02 - duel\n",
        "gandalf=[10, 11, 13, 30, 22, 11, 10, 33, 22, 22]\n",
        "saruman=[23, 66, 12, 43, 12, 10, 44, 23, 12, 17]\n",
        "victorias_gandalf=0\n",
        "victorias_saruman=0\n",
        "empates=0\n",
        "contador=0\n",
        "while contador <10:\n",
        "  if gandalf[contador] > saruman [contador]:\n",
        "    victorias_gandalf = victorias_gandalf + 1\n",
        "    contador = contador + 1\n",
        "  elif gandalf[contador] < saruman [contador]:\n",
        "    victorias_saruman = victorias_saruman + 1\n",
        "    contador = contador + 1\n",
        "  else:\n",
        "    empate = empate + 1\n",
        "    contador = contador + 1\n",
        "if victorias_gandalf > victorias_saruman:\n",
        "  print('Gandalf gana')\n",
        "elif victorias_gandalf < victorias_saruman:\n",
        "  print ('Saruman gana')\n",
        "else:\n",
        "  print ('Empate')"
      ],
      "execution_count": null,
      "outputs": []
    }
  ]
}