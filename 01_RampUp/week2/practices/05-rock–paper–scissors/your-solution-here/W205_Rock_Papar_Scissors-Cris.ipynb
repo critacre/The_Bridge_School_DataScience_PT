{
  "nbformat": 4,
  "nbformat_minor": 0,
  "metadata": {
    "colab": {
      "name": "W205-Rock-Papar-Scissors",
      "provenance": [],
      "collapsed_sections": []
    },
    "kernelspec": {
      "name": "python3",
      "display_name": "Python 3"
    },
    "language_info": {
      "name": "python"
    }
  },
  "cells": [
    {
      "cell_type": "code",
      "metadata": {
        "id": "66LOtYrf_BkK"
      },
      "source": [
        "#05 - Rock - paper - scissors - Solucion 1\n",
        "\n",
        "import random\n",
        "eleccion_usuario=input('¿Piedra, papel o tijera? ')\n",
        "eleccion_usuario_lower=eleccion_usuario.lower()\n",
        "opciones = ['piedra', 'papel', 'tijera']\n",
        "eleccion_maquina=random.choice(opciones)\n",
        "if(eleccion_usuario_lower == 'piedra') and (eleccion_maquina == 'piedra'):\n",
        "  print('Empate')\n",
        "elif(eleccion_usuario_lower == 'papel') and (eleccion_maquina == 'papel'):\n",
        "  print('Empate')\n",
        "elif(eleccion_usuario_lower == 'tijera') and (eleccion_maquina == 'tijera'):\n",
        "  print('Empate')\n",
        "elif(eleccion_usuario_lower == 'piedra') and (eleccion_maquina == 'papel'):\n",
        "  print('Ganó la máquina, eligió papel')\n",
        "elif(eleccion_usuario_lower == 'piedra') and (eleccion_maquina == 'tijera'):\n",
        "  print('Ganaste! La máquina eligió tijera')\n",
        "elif(eleccion_usuario_lower == 'papel') and (eleccion_maquina == 'piedra'):\n",
        "  print('Ganaste! La máquina eligió piedra')\n",
        "elif(eleccion_usuario_lower == 'papel') and (eleccion_maquina == 'tijera'):\n",
        "  print('Ganó la máquina, eligió tijera')\n",
        "elif(eleccion_usuario_lower == 'tijera') and (eleccion_maquina == 'papel'):\n",
        "  print('Ganaste! La máquina eligió Papel')\n",
        "elif(eleccion_usuario_lower == 'tijera') and (eleccion_maquina == 'piedra'):\n",
        "  print('Ganó la máquina, eligió piedra')\n",
        "else:\n",
        "  print('Debes elegir entre Piedra, papel o tijera')\n"
      ],
      "execution_count": null,
      "outputs": []
    },
    {
      "cell_type": "code",
      "metadata": {
        "id": "wSdWviSf_ppM"
      },
      "source": [
        "#05 - Rock - paper - scissors - Solucion 2\n",
        "\n",
        "def Comparador(eleccion_usuario_lower, eleccion_maquina):\n",
        "  Ganador = 'Ninguno'\n",
        "  if(eleccion_usuario_lower == 'piedra') and (eleccion_maquina == 'piedra'):\n",
        "    Ganador = 'Enpate'\n",
        "  elif(eleccion_usuario_lower == 'papel') and (eleccion_maquina == 'papel'):\n",
        "    Ganador = 'Enpate'\n",
        "  elif(eleccion_usuario_lower == 'tijera') and (eleccion_maquina == 'tijera'):\n",
        "    Ganador = 'Enpate'\n",
        "  elif(eleccion_usuario_lower == 'piedra') and (eleccion_maquina == 'papel'):\n",
        "    Ganador = 'Máquina'\n",
        "  elif(eleccion_usuario_lower == 'piedra') and (eleccion_maquina == 'tijera'):\n",
        "    Ganador = 'Usuario'\n",
        "  elif(eleccion_usuario_lower == 'papel') and (eleccion_maquina == 'piedra'):\n",
        "    Ganador = 'Usuario'\n",
        "  elif(eleccion_usuario_lower == 'papel') and (eleccion_maquina == 'tijera'):\n",
        "    Ganador = 'Máquina'\n",
        "  elif(eleccion_usuario_lower == 'tijera') and (eleccion_maquina == 'papel'):\n",
        "    Ganador = 'Usuario'\n",
        "  elif(eleccion_usuario_lower == 'tijera') and (eleccion_maquina == 'piedra'):\n",
        "    Ganador = 'Máquina'\n",
        "  else:\n",
        "    Ganador = 'No hay un ganador hasta que no elijas piedra, papel o tijera'\n",
        "\n",
        "  return Ganador\n"
      ],
      "execution_count": null,
      "outputs": []
    },
    {
      "cell_type": "code",
      "metadata": {
        "id": "hs4arHJz_u3r"
      },
      "source": [
        "import random\n",
        "eleccion_usuario=input('¿Piedra, papel o tijera? ')\n",
        "eleccion_usuario_lower=eleccion_usuario.lower()\n",
        "opciones = ['piedra', 'papel', 'tijera']\n",
        "eleccion_maquina=random.choice(opciones)\n",
        "#print('El ganador es:')\n",
        "Comparador(eleccion_usuario_lower, eleccion_maquina)\n",
        "#print('La máquina eligió', eleccion_maquina)\n",
        "\n",
        "#Si quito los comentarios de arriba, no devuelve nada la función, ¿por qué?\n",
        "#Paso al siguiente ejercicio, y si me da tiempo ya amplio este con 5 opciones\""
      ],
      "execution_count": null,
      "outputs": []
    }
  ]
}