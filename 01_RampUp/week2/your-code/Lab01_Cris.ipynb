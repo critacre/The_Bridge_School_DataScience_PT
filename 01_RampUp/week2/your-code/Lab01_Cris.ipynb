{
  "nbformat": 4,
  "nbformat_minor": 0,
  "metadata": {
    "colab": {
      "name": "Lab01-Cris.ipynb",
      "provenance": [],
      "collapsed_sections": [],
      "include_colab_link": true
    },
    "kernelspec": {
      "name": "python3",
      "display_name": "Python 3"
    },
    "language_info": {
      "name": "python"
    }
  },
  "cells": [
    {
      "cell_type": "markdown",
      "metadata": {
        "id": "view-in-github",
        "colab_type": "text"
      },
      "source": [
        "<a href=\"https://colab.research.google.com/github/critacre/The_Bridge_School_DataScience_PT/blob/main/Lab01_Cris.ipynb\" target=\"_parent\"><img src=\"https://colab.research.google.com/assets/colab-badge.svg\" alt=\"Open In Colab\"/></a>"
      ]
    },
    {
      "cell_type": "markdown",
      "metadata": {
        "id": "6emPPi8Zvt30"
      },
      "source": [
        "# Python - intro 101\n",
        "\n",
        "## Lab 1 - Qué va a crear\n",
        "\n",
        "En este desafío, creará un contador de calorías que solicita al usuario lo siguiente:\n",
        "\n",
        "- La fecha actual (en cualquier formato)\n",
        "- Calorías ingeridas en el desayuno\n",
        "- Calorías ingeridas en la comida\n",
        "- Calorías ingeridas en la cena\n",
        "- Calorías ingeridas en tentempiés\n",
        "\n",
        "Después, el programa sumará todas las calorías y les dará formato de mensaje."
      ]
    },
    {
      "cell_type": "code",
      "metadata": {
        "colab": {
          "base_uri": "https://localhost:8080/"
        },
        "id": "mID9DJRxvvU5",
        "outputId": "605200fe-2f8e-4d49-f972-2d607fce4acc"
      },
      "source": [
        "# Creamos las variables del contador\n",
        "print(\"¿Què día es hoy?\")"
      ],
      "execution_count": null,
      "outputs": [
        {
          "output_type": "stream",
          "text": [
            "¿Què día es hoy?\n"
          ],
          "name": "stdout"
        }
      ]
    },
    {
      "cell_type": "code",
      "metadata": {
        "colab": {
          "base_uri": "https://localhost:8080/"
        },
        "id": "GAHuwqUcwEEB",
        "outputId": "d8a9f467-1512-4dd8-b7a9-278e24865d77"
      },
      "source": [
        "# Para la fecha creamos una variable del tipo input()\n",
        "date = input()"
      ],
      "execution_count": null,
      "outputs": [
        {
          "output_type": "stream",
          "text": [
            "18 de mayo de 2021\n"
          ],
          "name": "stdout"
        }
      ]
    },
    {
      "cell_type": "code",
      "metadata": {
        "colab": {
          "base_uri": "https://localhost:8080/",
          "height": 35
        },
        "id": "_hfmKA2iu1R9",
        "outputId": "4648cde1-9af3-4223-cb87-922f87ae8f13"
      },
      "source": [
        "date"
      ],
      "execution_count": null,
      "outputs": [
        {
          "output_type": "execute_result",
          "data": {
            "application/vnd.google.colaboratory.intrinsic+json": {
              "type": "string"
            },
            "text/plain": [
              "'18 de mayo de 2021'"
            ]
          },
          "metadata": {
            "tags": []
          },
          "execution_count": 34
        }
      ]
    },
    {
      "cell_type": "code",
      "metadata": {
        "colab": {
          "base_uri": "https://localhost:8080/"
        },
        "id": "zvc8A-XlwRxC",
        "outputId": "0241b4a4-eeb4-44f1-d936-4ed100c411c0"
      },
      "source": [
        "print(\"Indica las calorias ingeridas en el desayuno\")"
      ],
      "execution_count": null,
      "outputs": [
        {
          "output_type": "stream",
          "text": [
            "Indica las calorias ingeridas en el desayuno\n"
          ],
          "name": "stdout"
        }
      ]
    },
    {
      "cell_type": "code",
      "metadata": {
        "colab": {
          "base_uri": "https://localhost:8080/"
        },
        "id": "XG9qlmvywdDi",
        "outputId": "84357b09-fb95-4e06-9aa8-a532095fc626"
      },
      "source": [
        "breakfast = int(input())"
      ],
      "execution_count": null,
      "outputs": [
        {
          "output_type": "stream",
          "text": [
            "520\n"
          ],
          "name": "stdout"
        }
      ]
    },
    {
      "cell_type": "code",
      "metadata": {
        "colab": {
          "base_uri": "https://localhost:8080/"
        },
        "id": "XuhvBuDwwkBC",
        "outputId": "baa54506-fc1b-43d7-e72b-c8e0ceaab456"
      },
      "source": [
        "breakfast"
      ],
      "execution_count": null,
      "outputs": [
        {
          "output_type": "execute_result",
          "data": {
            "text/plain": [
              "520"
            ]
          },
          "metadata": {
            "tags": []
          },
          "execution_count": 18
        }
      ]
    },
    {
      "cell_type": "code",
      "metadata": {
        "id": "6N8Zj1NPwipJ"
      },
      "source": [
        "# Tiene que recoger los demás datos y sumarlos\n",
        "# AQUI VUESTRO CÓDIGO"
      ],
      "execution_count": null,
      "outputs": []
    },
    {
      "cell_type": "code",
      "metadata": {
        "colab": {
          "base_uri": "https://localhost:8080/"
        },
        "id": "z9y9bzcKTxhv",
        "outputId": "13bfb4e0-eed9-483b-94de-ecfe8e614eb7"
      },
      "source": [
        "print(\"Indica las calorias ingeridas en la comida\")"
      ],
      "execution_count": null,
      "outputs": [
        {
          "output_type": "stream",
          "text": [
            "Indica las calorias ingeridas en la comida\n"
          ],
          "name": "stdout"
        }
      ]
    },
    {
      "cell_type": "code",
      "metadata": {
        "colab": {
          "base_uri": "https://localhost:8080/"
        },
        "id": "PcNMWZxGT6rG",
        "outputId": "feb1d097-a23d-4ba1-b75b-26f88c6bf040"
      },
      "source": [
        "lunch=int(input())"
      ],
      "execution_count": null,
      "outputs": [
        {
          "output_type": "stream",
          "text": [
            "580\n"
          ],
          "name": "stdout"
        }
      ]
    },
    {
      "cell_type": "code",
      "metadata": {
        "colab": {
          "base_uri": "https://localhost:8080/"
        },
        "id": "Sn7DybtaUIkz",
        "outputId": "a73d0032-4226-4401-c260-433c23a56cda"
      },
      "source": [
        "lunch"
      ],
      "execution_count": null,
      "outputs": [
        {
          "output_type": "execute_result",
          "data": {
            "text/plain": [
              "580"
            ]
          },
          "metadata": {
            "tags": []
          },
          "execution_count": 21
        }
      ]
    },
    {
      "cell_type": "code",
      "metadata": {
        "colab": {
          "base_uri": "https://localhost:8080/"
        },
        "id": "bcpYqpkVUM2b",
        "outputId": "6d7677ec-5052-4841-deaf-a1aea9ef7d54"
      },
      "source": [
        "print(\"Indica las calorias ingeridas en la cena\")"
      ],
      "execution_count": null,
      "outputs": [
        {
          "output_type": "stream",
          "text": [
            "Indica las calorias ingeridas en la cena\n"
          ],
          "name": "stdout"
        }
      ]
    },
    {
      "cell_type": "code",
      "metadata": {
        "colab": {
          "base_uri": "https://localhost:8080/"
        },
        "id": "B83lxrglUSJk",
        "outputId": "eea985d4-53e2-4526-f50c-1267700a9fd5"
      },
      "source": [
        "dinner=int(input())"
      ],
      "execution_count": null,
      "outputs": [
        {
          "output_type": "stream",
          "text": [
            "400\n"
          ],
          "name": "stdout"
        }
      ]
    },
    {
      "cell_type": "code",
      "metadata": {
        "colab": {
          "base_uri": "https://localhost:8080/"
        },
        "id": "XDCNauTdUa-4",
        "outputId": "e75e7183-07a9-4871-ce04-6f3a5706eb35"
      },
      "source": [
        "dinner"
      ],
      "execution_count": null,
      "outputs": [
        {
          "output_type": "execute_result",
          "data": {
            "text/plain": [
              "400"
            ]
          },
          "metadata": {
            "tags": []
          },
          "execution_count": 24
        }
      ]
    },
    {
      "cell_type": "code",
      "metadata": {
        "id": "Crw3e9Edw06d"
      },
      "source": [
        "# Sumar \n",
        "#totalCal = # sumamos las variables anteriores"
      ],
      "execution_count": null,
      "outputs": []
    },
    {
      "cell_type": "code",
      "metadata": {
        "id": "l6pzp-52UjWy"
      },
      "source": [
        "totalCal=breakfast+lunch+dinner"
      ],
      "execution_count": null,
      "outputs": []
    },
    {
      "cell_type": "code",
      "metadata": {
        "colab": {
          "base_uri": "https://localhost:8080/"
        },
        "id": "aY4GhKvjXZ2m",
        "outputId": "c4a6a480-844e-41b1-9504-0324d8c26917"
      },
      "source": [
        "totalCal"
      ],
      "execution_count": null,
      "outputs": [
        {
          "output_type": "execute_result",
          "data": {
            "text/plain": [
              "1500"
            ]
          },
          "metadata": {
            "tags": []
          },
          "execution_count": 29
        }
      ]
    },
    {
      "cell_type": "code",
      "metadata": {
        "id": "vkhH1wwLw90S",
        "colab": {
          "base_uri": "https://localhost:8080/"
        },
        "outputId": "46533fe7-e2be-4319-edf5-758407f4b57a"
      },
      "source": [
        "# OUTPUT\n",
        "print(\"El total de las calorías del día : \", date, \" es \", totalCal, \" Calorías\")"
      ],
      "execution_count": null,
      "outputs": [
        {
          "output_type": "stream",
          "text": [
            "El total de las calorías del día :  18 de mayo de 2021  es  1500  Calorías\n"
          ],
          "name": "stdout"
        }
      ]
    },
    {
      "cell_type": "code",
      "metadata": {
        "colab": {
          "base_uri": "https://localhost:8080/"
        },
        "id": "dOm76gGSUh9v",
        "outputId": "2d33d4d2-4e66-4881-d05d-b73032df1efe"
      },
      "source": [
        "# OUTPUT\n",
        "print(\"El total de las calorías del día : \" + date + \" es \" + str(totalCal) + \" Calorías\")"
      ],
      "execution_count": null,
      "outputs": [
        {
          "output_type": "stream",
          "text": [
            "El total de las calorías del día : 18 de mayo de 2021 es 1500 Calorías\n"
          ],
          "name": "stdout"
        }
      ]
    },
    {
      "cell_type": "code",
      "metadata": {
        "id": "DQCB4siBw7bm",
        "colab": {
          "base_uri": "https://localhost:8080/"
        },
        "outputId": "10c0a310-f7e3-4efd-ae58-9c367e5d9d8e"
      },
      "source": [
        "# OUTPUT\n",
        "print(f\"El total de las calorías del día : {date} es {totalCal} Calorías\")"
      ],
      "execution_count": null,
      "outputs": [
        {
          "output_type": "stream",
          "text": [
            "El total de las calorías del día : 18 de mayo de 2021 es 1500 Calorías\n"
          ],
          "name": "stdout"
        }
      ]
    },
    {
      "cell_type": "code",
      "metadata": {
        "id": "cSIznB79wwQz",
        "colab": {
          "base_uri": "https://localhost:8080/"
        },
        "outputId": "111b0bac-ea95-4dea-d311-417ee70b4ee7"
      },
      "source": [
        "# OUTPUT\n",
        "print(\"El total de las calorías del día : %s es %s Calorías\" % (date, totalCal))"
      ],
      "execution_count": null,
      "outputs": [
        {
          "output_type": "stream",
          "text": [
            "El total de las calorías del día : 18 de mayo de 2021 es 1500 Calorías\n"
          ],
          "name": "stdout"
        }
      ]
    },
    {
      "cell_type": "code",
      "metadata": {
        "id": "dyVHq-CKwgX7"
      },
      "source": [
        ""
      ],
      "execution_count": null,
      "outputs": []
    }
  ]
}