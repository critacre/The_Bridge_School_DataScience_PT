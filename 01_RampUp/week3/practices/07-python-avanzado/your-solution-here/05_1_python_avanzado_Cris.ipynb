{
  "nbformat": 4,
  "nbformat_minor": 0,
  "metadata": {
    "kernelspec": {
      "display_name": "Python 3",
      "language": "python",
      "name": "python3"
    },
    "language_info": {
      "codemirror_mode": {
        "name": "ipython",
        "version": 3
      },
      "file_extension": ".py",
      "mimetype": "text/x-python",
      "name": "python",
      "nbconvert_exporter": "python",
      "pygments_lexer": "ipython3",
      "version": "3.8.6"
    },
    "colab": {
      "name": "05.1_python_avanzado_Cris.ipynb",
      "provenance": [],
      "collapsed_sections": [
        "XLxmFZCGX0fC",
        "xwUUmqtBX0fD",
        "IxOPKLY-X0fE",
        "2S8Nn0AnX0fL",
        "ZMtdUEqvX0fL",
        "yz989E6kX0fM",
        "ceDQUy-BX0fR",
        "K_MyUGW_X0fU",
        "8FpV1UyYX0fU",
        "DrwtCewRX0fV",
        "8tXSFG62X0fW",
        "tDgstwz4X0fW",
        "bFhYVIzMX0fW",
        "JUrm9xWRX0fX",
        "Fi2AHthOX0fY"
      ]
    }
  },
  "cells": [
    {
      "cell_type": "markdown",
      "metadata": {
        "id": "WPpIsZ6IX0e6"
      },
      "source": [
        "Programación para *Data Science*\n",
        "============================\n",
        "\n",
        "Intro101 - 05.1: Conceptos avanzados de Python\n",
        "--------------------------------------\n",
        "\n",
        "En este Notebook encontraréis dos conjuntos de ejercicios: un primer conjunto de ejercicios para practicar y que no puntuan, pero que recomendamos intentar resolver y un segundo conjunto que evaluaremos como actividad."
      ]
    },
    {
      "cell_type": "markdown",
      "metadata": {
        "id": "3r8dmrF6X0fB"
      },
      "source": [
        "## Ejercicios para practicar\n",
        "\n",
        "**Los siguientes 3 ejercicios no puntuan**, pero os recomendamos que los intentéis resolver antes de pasar a los ejercicios propios. También podéis encontrar las soluciones a estos ejercicios al final del Notebook. "
      ]
    },
    {
      "cell_type": "markdown",
      "metadata": {
        "id": "XLxmFZCGX0fC"
      },
      "source": [
        "### Ejercicio 1\n",
        "\n",
        "El siguiente ejercicio consiste en pasar un número en base 16 (hexadecimal, 0-9/A-F) a base 10 (decimal). Para hacerlo, debéis crear una **función** que dado un _string_ que representa un número en hexadecimal, por ejemplo, `AE3F`, devuelva el número \n",
        "natural correspondiente. En este caso, el resultado sería `44607`."
      ]
    },
    {
      "cell_type": "code",
      "metadata": {
        "id": "9sSJGmUEYjLV"
      },
      "source": [
        "# Respuesta"
      ],
      "execution_count": null,
      "outputs": []
    },
    {
      "cell_type": "code",
      "metadata": {
        "colab": {
          "base_uri": "https://localhost:8080/"
        },
        "id": "auj17GnjYFDG",
        "outputId": "34bdb4ac-799d-44fa-900a-2809fb8da893"
      },
      "source": [
        "n_base16 = input ('Escriba un número en base hexadecimal: ')\n",
        "n_base10 = []\n",
        "resultado = 0\n",
        "tupla_base10 = ('0','1','2','3','4','5','6','7','8','9')\n",
        "for n in n_base16:\n",
        "  if n in tupla_base10:\n",
        "    n_base10.append(n)\n",
        "  elif n == 'A':\n",
        "    n_base10.append(10)\n",
        "  elif n == 'B':\n",
        "    n_base10.append(11)\n",
        "  elif n == 'C':\n",
        "    n_base10.append(12)\n",
        "  elif n == 'D':\n",
        "    n_base10.append(13)\n",
        "  elif n == 'E':\n",
        "    n_base10.append(14)\n",
        "  elif n == 'F':\n",
        "    n_base10.append(15)\n",
        "  else:\n",
        "    print('Algo raro ha pasado')\n",
        "    break\n",
        "p=len(n_base10)\n",
        "print(n_base10)\n",
        "for n in n_base10:\n",
        "  resultado = resultado + int(n)*16**(p-1)\n",
        "  p=p-1\n",
        "print('El numero hexadecimal es ', str(resultado))\n"
      ],
      "execution_count": null,
      "outputs": [
        {
          "output_type": "stream",
          "text": [
            "Escriba un número en base hexadecimal: DD\n",
            "[13, 13]\n",
            "El numero hexadecimal es  221\n"
          ],
          "name": "stdout"
        }
      ]
    },
    {
      "cell_type": "markdown",
      "metadata": {
        "id": "xwUUmqtBX0fD"
      },
      "source": [
        "### Ejercicio 2\n",
        "\n",
        "Las excepciones son errores detectados en tiempo de ejecución. Pueden y deben ser manejadas por el programador para minimizar el riesgo de que un determinado programa falle de forma no controlada. Escribid, en lenguaje Python, cómo generar y capturar la siguiente excepción: **ZeroDivisionError**."
      ]
    },
    {
      "cell_type": "code",
      "metadata": {
        "id": "xRD6vVGWX0fD"
      },
      "source": [
        "# Respuesta"
      ],
      "execution_count": null,
      "outputs": []
    },
    {
      "cell_type": "code",
      "metadata": {
        "colab": {
          "base_uri": "https://localhost:8080/"
        },
        "id": "zUEprX4OZk2l",
        "outputId": "46194bf9-38c7-4ba6-df3e-8f2c7c19ccc3"
      },
      "source": [
        "def dividir(a:int,b:int)->int:\n",
        "\tif b!=0:\n",
        "\t\treturn a / b\n",
        "\telse:\n",
        "\t\traise ZeroDivisionError\n",
        "\n",
        "try:\n",
        "  a = int(input('Introduce el dividendo: '))\n",
        "  b = int(input('Introduce el divisor: '))\n",
        "  resultado_div = dividir(a,b)\n",
        "  print('El resultado de la división es', resultado_div)\n",
        "except ZeroDivisionError:\n",
        "  print('El divisor no puede ser 0')\n",
        "\n"
      ],
      "execution_count": null,
      "outputs": [
        {
          "output_type": "stream",
          "text": [
            "Introduce el dividendo: 5\n",
            "Introduce el divisor: 1\n",
            "El resultado de la división es 5.0\n"
          ],
          "name": "stdout"
        }
      ]
    },
    {
      "cell_type": "markdown",
      "metadata": {
        "id": "IxOPKLY-X0fE"
      },
      "source": [
        "### Ejercicio 3\n",
        "\n",
        "Completad el código necesario para calcular el número de vocales y de consonantes respectivamente de un texto."
      ]
    },
    {
      "cell_type": "code",
      "metadata": {
        "id": "oLlTJB71X0fE",
        "outputId": "576cc936-0901-48a4-882e-27fd6df6a708"
      },
      "source": [
        "texto = \"Hola a todos!\"\n",
        "print(texto)"
      ],
      "execution_count": null,
      "outputs": [
        {
          "output_type": "stream",
          "text": [
            "Hola a todos!\n"
          ],
          "name": "stdout"
        }
      ]
    },
    {
      "cell_type": "code",
      "metadata": {
        "id": "So8204cZX0fF",
        "outputId": "3fb9e51e-8f23-49ba-ba05-5384dcf29cd0"
      },
      "source": [
        "texto_2 = \"Bienvenidos!\"\n",
        "print(texto_2)"
      ],
      "execution_count": null,
      "outputs": [
        {
          "output_type": "stream",
          "text": [
            "Bienvenidos!\n"
          ],
          "name": "stdout"
        }
      ]
    },
    {
      "cell_type": "code",
      "metadata": {
        "id": "3lkV0jIwX0fJ"
      },
      "source": [
        "def imprime(argumento):\n",
        "    nuevo = argumento + texto_2\n",
        "    print(nuevo)"
      ],
      "execution_count": null,
      "outputs": []
    },
    {
      "cell_type": "code",
      "metadata": {
        "id": "Z4PLBygLX0fJ",
        "outputId": "070a15f2-bcdb-4d88-f30a-9ff286b82ca1"
      },
      "source": [
        "imprime(texto)"
      ],
      "execution_count": null,
      "outputs": [
        {
          "output_type": "stream",
          "text": [
            "Hola a todos!Bienvenidos!\n"
          ],
          "name": "stdout"
        }
      ]
    },
    {
      "cell_type": "code",
      "metadata": {
        "id": "3fFW7GPaX0fJ"
      },
      "source": [
        ""
      ],
      "execution_count": null,
      "outputs": []
    },
    {
      "cell_type": "code",
      "metadata": {
        "id": "ejbONIS1X0fJ",
        "outputId": "4b6adb80-427a-4465-db1e-c9e506adab58"
      },
      "source": [
        "imprime(texto)"
      ],
      "execution_count": null,
      "outputs": [
        {
          "output_type": "stream",
          "text": [
            "Hola a todos!\n"
          ],
          "name": "stdout"
        }
      ]
    },
    {
      "cell_type": "code",
      "metadata": {
        "id": "xH2rTH8RX0fK"
      },
      "source": [
        ""
      ],
      "execution_count": null,
      "outputs": []
    },
    {
      "cell_type": "markdown",
      "metadata": {
        "id": "yw-5i4uWX0fK"
      },
      "source": [
        "Pseudocódigo\n",
        "\n",
        "Dado un texto con n palabras\n",
        "la operación tiene que contar vocales y consonantes\n",
        "\n",
        "SI en el texto existe una vocal\n",
        "    IF:\n",
        "        num_vocales +1\n",
        "    ELSE desde (A AND la Z) OR (ç AND ñ):\n",
        "        num_consonantes +1"
      ]
    },
    {
      "cell_type": "code",
      "metadata": {
        "attributes": {
          "classes": [
            "sourceCode"
          ],
          "id": ""
        },
        "colab": {
          "base_uri": "https://localhost:8080/"
        },
        "id": "jxPQaz1UX0fK",
        "outputId": "c312958c-ed02-43e9-cbc7-a84cb4359b2d"
      },
      "source": [
        "def contar_vocales_y_consonantes(texto):\n",
        "    # Cuenta las vocales contenidas en el string texto y también las consonantes.\n",
        "    num_vocales = 0\n",
        "    num_consonantes = 0\n",
        "\n",
        "    # Código que hay que completar.\n",
        "    #texto = texto.decode('utf-8')\n",
        "    \n",
        "    # Definimos una lista con las vocales en unicode\n",
        "    vocales = [u'a', u'e', u'i', u'o', u'u', u'à', u'á', u'ä', u'ï', u'è', u'é', u'í', u'ï', u'ò', u'ó', u'ú', u'ü']\n",
        "    \n",
        "    for t in texto.lower():\n",
        "        if t in vocales:\n",
        "            num_vocales += 1\n",
        "        elif t > 'a' and t <= 'z' or t == u'ç' or t == u'ñ':\n",
        "            num_consonantes += 1\n",
        "            \n",
        "    return num_vocales, num_consonantes\n",
        "\n",
        "texto = \"Orbiting Earth in the spaceship, I saw how beautiful our planet is. \\\n",
        "            People, let us preserve and increase this beauty, not destroy it!\"\n",
        "\n",
        "num_vocales, num_consonantes = contar_vocales_y_consonantes(texto)\n",
        "print (\"El número de vocales es %d.\" % num_vocales)\n",
        "print (\"El número de consonantes es %d.\" % num_consonantes)"
      ],
      "execution_count": null,
      "outputs": [
        {
          "output_type": "stream",
          "text": [
            "El número de vocales es 44.\n",
            "El número de consonantes es 62.\n"
          ],
          "name": "stdout"
        }
      ]
    },
    {
      "cell_type": "markdown",
      "metadata": {
        "id": "E16CL7B0X0fL"
      },
      "source": [
        "---\n",
        "\n",
        "## Ejercicios y preguntas teóricas\n",
        "\n",
        "A continuación encontraréis los **ejercicios y preguntas teóricas que debéis completar en este módulo intro-101** y que forman parte de la evaluación de esta unidad."
      ]
    },
    {
      "cell_type": "markdown",
      "metadata": {
        "id": "2S8Nn0AnX0fL"
      },
      "source": [
        "### Pregunta 1\n",
        "\n",
        "Las funciones _range_ y _xrange_ pueden utilizarse con la misma finalidad, pero su funcionamiento es diferente. Poned un ejemplo donde sería recomendable intercambiar la función _range_ por la función _xrange_.\n",
        "\n",
        "**Respuesta:**"
      ]
    },
    {
      "cell_type": "markdown",
      "metadata": {
        "id": "QEwLaVKUX0fL"
      },
      "source": [
        "\n",
        "*   En Python 2, la función range(n) devuelve una lista con los valores de 0 a n. La función xrange es muy eficiente en grandes conjuntos de números. Devuelve un objeto xrange, que es iterable y genera los números del rango bajo demanda. En bucles es más rápido y más eficiente en memoria que la función range.<br>\n",
        "<ins>Ejemplo</ins>:<br>\n",
        "x = xrange(1,1000,100)<br>\n",
        "&nbsp;&nbsp;&nbsp;&nbsp;for n in x:<br>\n",
        "&nbsp;&nbsp;&nbsp;&nbsp;&nbsp;&nbsp;&nbsp;&nbsp;print(n)<br>\n",
        "\n",
        "*   En Python 3 no existe la función xrange, y la función range se comportará como la función xrange en Python 2.\n",
        " \n",
        "\n"
      ]
    },
    {
      "cell_type": "markdown",
      "metadata": {
        "id": "ZMtdUEqvX0fL"
      },
      "source": [
        "### Pregunta 2\n",
        "\n",
        "a) Explicad brevemente cada línea de código del siguiente bloque (añadid comentarios en el mismo bloque de código):"
      ]
    },
    {
      "cell_type": "code",
      "metadata": {
        "tags": [],
        "colab": {
          "base_uri": "https://localhost:8080/"
        },
        "id": "VNOgRQeAX0fM",
        "outputId": "19964e0d-18a3-497e-e2c6-b68e945bfc7e"
      },
      "source": [
        "# Añadid vuestros comentarios de código en este mismo bloque\n",
        "\n",
        "def create_generator():   #declaramos una función que construye un objeto generador iterable que se puede recorrer (iterar)\n",
        "    for i in range(10):   #iteración sobre el objeto range, que es un objeto contiene a los números de 0 a 9\n",
        "        yield i           #Una vez generado el objeto, se almacenará en él en la primera iteración un elemento a devolver. En ese momento, el objeto entrará en estado de suspensión y el control de flujo de ejecución pasará otra vez al algoritmo donde se generó la llamada. Cuando se vuelve a llamar al generado, el generador extraerá de la función el segundo valor y lo almacenará en su interior, volviendo a quedar en standby, y así sucesivamente.\n",
        "        \n",
        "num_generator = create_generator() #llamada a la función create_generator\n",
        "for i in num_generator:         #vamos recorriendo el objeto generador, pero en cada iteración vamos obteniendo el valor desde la función. Habrá tantas iteraciones como elementos vaya a almacenar el objeto generador\n",
        "    print(\"Primera iteración: número generado =\", i) #imprime el texto \"Primera iteración: número generado\" y el valor almacenado\n",
        "\n",
        "for j in num_generator:          #aquí debería seguir recorriendo el objeto generador, pero cuando llegue aquí el algoritmo, ya se habrá recorrido todo el objeto generador, y no se podrá continuar salvo que se resetee (no es el caso de este algoritmo tal y como se ha programado)\n",
        "  print(\"Segunda iteración: número generado =\", j) #En caso de se realizaran las iteraciones, imprimiría el texto \"Segunda iteración: número generado\" y el valor almacenado"
      ],
      "execution_count": null,
      "outputs": [
        {
          "output_type": "stream",
          "text": [
            "Primera iteración: número generado = 0\n",
            "Primera iteración: número generado = 1\n",
            "Primera iteración: número generado = 2\n",
            "Primera iteración: número generado = 3\n",
            "Primera iteración: número generado = 4\n",
            "Primera iteración: número generado = 5\n",
            "Primera iteración: número generado = 6\n",
            "Primera iteración: número generado = 7\n",
            "Primera iteración: número generado = 8\n",
            "Primera iteración: número generado = 9\n"
          ],
          "name": "stdout"
        }
      ]
    },
    {
      "cell_type": "markdown",
      "metadata": {
        "id": "QL0BlNcKX0fM"
      },
      "source": [
        "b) Explicad brevemente la salida por pantalla que observamos al ejecutar el código anterior.\n",
        "\n",
        "\n",
        "**Respuesta**"
      ]
    },
    {
      "cell_type": "markdown",
      "metadata": {
        "id": "Cum12PsvX0fM"
      },
      "source": [
        "Escribid vuestra respuesta aquí"
      ]
    },
    {
      "cell_type": "markdown",
      "metadata": {
        "id": "yz989E6kX0fM"
      },
      "source": [
        "### Ejercicio 1\n",
        "\n",
        "Escribid una función que dada una lista de planetas del sistema solar, pregunte al usuario que introduzca una posición y muestre el plante correspondiente a dicha posición. Por ejemplo, si tenemos la siguiente lista: `['Mercurio', 'Venus', 'Tierra', 'Marte']` y el usuario nos ha introducido la posición `3`, hemos de mostrar como resultado por pantalla: `Tierra`.\n",
        "\n",
        "Consideraciones:\n",
        "\n",
        "- La posición que introduzca el usuario tiene que ser un número entero estrictamente positivo.\n",
        "- La función debe controlar el acceso a una posición fuera de la lista mediante una **excepción**. Por ejemplo, en el caso anterior debemos mostrar una mensaje de error si el usuario pide acceder a la posición 10.\n"
      ]
    },
    {
      "cell_type": "code",
      "metadata": {
        "colab": {
          "base_uri": "https://localhost:8080/"
        },
        "id": "IX7LUpiwX0fN",
        "outputId": "1b84584e-66cb-49ac-89c8-7df03414d6fd"
      },
      "source": [
        "# Respuesta\n",
        "planetas = ['Mercurio', 'Venus', 'Tierra', 'Marte']\n",
        "planetas"
      ],
      "execution_count": null,
      "outputs": [
        {
          "output_type": "execute_result",
          "data": {
            "text/plain": [
              "['Mercurio', 'Venus', 'Tierra', 'Marte']"
            ]
          },
          "metadata": {
            "tags": []
          },
          "execution_count": 1
        }
      ]
    },
    {
      "cell_type": "code",
      "metadata": {
        "colab": {
          "base_uri": "https://localhost:8080/"
        },
        "id": "EYc5GSLPX0fO",
        "outputId": "c53200c8-63d4-4110-d430-79e44e8b857e"
      },
      "source": [
        "type(planetas)"
      ],
      "execution_count": null,
      "outputs": [
        {
          "output_type": "execute_result",
          "data": {
            "text/plain": [
              "list"
            ]
          },
          "metadata": {
            "tags": []
          },
          "execution_count": 2
        }
      ]
    },
    {
      "cell_type": "code",
      "metadata": {
        "colab": {
          "base_uri": "https://localhost:8080/"
        },
        "id": "dKiBIUp2X0fP",
        "outputId": "715a3aa8-7499-4e10-9527-6a44ba966e98"
      },
      "source": [
        "len(planetas)"
      ],
      "execution_count": null,
      "outputs": [
        {
          "output_type": "execute_result",
          "data": {
            "text/plain": [
              "4"
            ]
          },
          "metadata": {
            "tags": []
          },
          "execution_count": 3
        }
      ]
    },
    {
      "cell_type": "code",
      "metadata": {
        "colab": {
          "base_uri": "https://localhost:8080/",
          "height": 35
        },
        "id": "sxG9YEM2X0fP",
        "outputId": "e69ff000-e755-4b72-cae5-9365244277f3"
      },
      "source": [
        "planetas[0]"
      ],
      "execution_count": null,
      "outputs": [
        {
          "output_type": "execute_result",
          "data": {
            "application/vnd.google.colaboratory.intrinsic+json": {
              "type": "string"
            },
            "text/plain": [
              "'Mercurio'"
            ]
          },
          "metadata": {
            "tags": []
          },
          "execution_count": 4
        }
      ]
    },
    {
      "cell_type": "code",
      "metadata": {
        "colab": {
          "base_uri": "https://localhost:8080/",
          "height": 35
        },
        "id": "0lQBHWoBX0fP",
        "outputId": "6f1cfe9c-3c11-496f-ef8a-46fa40ba8a38"
      },
      "source": [
        "planetas[1]"
      ],
      "execution_count": null,
      "outputs": [
        {
          "output_type": "execute_result",
          "data": {
            "application/vnd.google.colaboratory.intrinsic+json": {
              "type": "string"
            },
            "text/plain": [
              "'Venus'"
            ]
          },
          "metadata": {
            "tags": []
          },
          "execution_count": 5
        }
      ]
    },
    {
      "cell_type": "code",
      "metadata": {
        "colab": {
          "base_uri": "https://localhost:8080/"
        },
        "id": "k-nJC4idX0fQ",
        "outputId": "fd513aa0-326a-40cf-cbe5-7d2ea91ef022"
      },
      "source": [
        "for planeta in planetas:\n",
        "    print(planeta)"
      ],
      "execution_count": null,
      "outputs": [
        {
          "output_type": "stream",
          "text": [
            "Mercurio\n",
            "Venus\n",
            "Tierra\n",
            "Marte\n"
          ],
          "name": "stdout"
        }
      ]
    },
    {
      "cell_type": "code",
      "metadata": {
        "colab": {
          "base_uri": "https://localhost:8080/"
        },
        "id": "57YeOQz-X0fQ",
        "outputId": "18fee170-e731-432f-b10b-dc8121b7abbd"
      },
      "source": [
        "for i, planeta in enumerate(planetas):\n",
        "    print(i, planeta)"
      ],
      "execution_count": null,
      "outputs": [
        {
          "output_type": "stream",
          "text": [
            "0 Mercurio\n",
            "1 Venus\n",
            "2 Tierra\n",
            "3 Marte\n"
          ],
          "name": "stdout"
        }
      ]
    },
    {
      "cell_type": "code",
      "metadata": {
        "id": "80w1hRyeX0fQ"
      },
      "source": [
        "# Respuesta"
      ],
      "execution_count": null,
      "outputs": []
    },
    {
      "cell_type": "code",
      "metadata": {
        "id": "CxGyNOLshw_r"
      },
      "source": [
        "def planeta_por_posicion(planetas):\n",
        "  l=len(planetas)\n",
        "  intentos = 0\n",
        "  while intentos < 4:\n",
        "    posicion = input('Indica la posición: ')\n",
        "    try:\n",
        "      posicion = int(posicion)\n",
        "      intentos = 4\n",
        "    except:\n",
        "      print('Introduce por favor un número entero de 0 a ', l)\n",
        "      intentos = intentos + 1\n",
        "  \n",
        "  if posicion >=0  and posicion<=l:\n",
        "    print('El planeta en posición ',posicion, 'es ', planetas[posicion-1])\n",
        "  elif posicion<0 or posicion>posicion-1:\n",
        "    raise ValueError\n",
        "  return\n",
        "    "
      ],
      "execution_count": null,
      "outputs": []
    },
    {
      "cell_type": "code",
      "metadata": {
        "colab": {
          "base_uri": "https://localhost:8080/"
        },
        "id": "M8BgEh3iuPNz",
        "outputId": "28154c63-2fbb-4933-f3ee-43d97fae2c0e"
      },
      "source": [
        "planetas = ['Marte','Saturno','Plutón']\n",
        "intentos = 0\n",
        "l=len(planetas)\n",
        "while intentos <4:\n",
        "  try:\n",
        "    planeta_por_posicion(planetas)\n",
        "    break\n",
        "  except ValueError:\n",
        "    print('El número introducido no está entre 0 y ', l)\n",
        "    intentos = intentos + 1"
      ],
      "execution_count": null,
      "outputs": [
        {
          "output_type": "stream",
          "text": [
            "Indica la posición: h\n",
            "Introduce por favor un número entero de 0 a  3\n",
            "Indica la posición: 2\n",
            "El planeta en posición  2 es  Saturno\n"
          ],
          "name": "stdout"
        }
      ]
    },
    {
      "cell_type": "markdown",
      "metadata": {
        "id": "ceDQUy-BX0fR"
      },
      "source": [
        "### Ejercicio 2\n",
        "\n",
        "Dada una lista de planetas del sistema solar, determinad cuales de estos planetas tienen una masa superior a la de la Tierra. Por ejemplo, si la lista inicial es `['Venus', 'Marte', 'Saturno']`, el resultado que mostraríamos por pantalla sería `['Saturno']` ya que el planeta Saturno tiene una masa `95.2` veces superior a la Tierra.\n",
        "\n",
        "Consideraciones:\n",
        "\n",
        "- Debéis tener en cuenta que el nombre de los planetas que nos pasan por parámetro puede estar en minúsculas, mayúsculas o una combinación de ambas.\n",
        "- Podéis asumir que no habrá acentos en el nombre de los planetas.\n",
        "- Debéis determinar aquellos planetas que tiene una massa estrictamente superior a la de la Tierra.\n",
        "- No habrá planetas repetidos en la lista que nos pasan por parámetro.\n"
      ]
    },
    {
      "cell_type": "code",
      "metadata": {
        "id": "oFvrY6cHX0fR"
      },
      "source": [
        "masas = {'Mercurio': 0.06, 'Venus': 0.82, 'Tierra': 1, 'Marte': 0.11, 'Jupiter': 317.8, \n",
        "          'Saturno': 95.2, 'Urano': 14.6, 'Neptuno': 17.2, 'Pluto': 0.0022}"
      ],
      "execution_count": null,
      "outputs": []
    },
    {
      "cell_type": "code",
      "metadata": {
        "colab": {
          "base_uri": "https://localhost:8080/"
        },
        "id": "H2s9jr9TX0fR",
        "outputId": "4e2b017a-468d-4e83-d9a1-24ac72b2f02a"
      },
      "source": [
        "type(masas)"
      ],
      "execution_count": null,
      "outputs": [
        {
          "output_type": "execute_result",
          "data": {
            "text/plain": [
              "dict"
            ]
          },
          "metadata": {
            "tags": []
          },
          "execution_count": 59
        }
      ]
    },
    {
      "cell_type": "code",
      "metadata": {
        "colab": {
          "base_uri": "https://localhost:8080/"
        },
        "id": "6eofLeHgX0fS",
        "outputId": "f8fbbe51-e406-470e-c30e-df0ced09026c"
      },
      "source": [
        "len(masas)"
      ],
      "execution_count": null,
      "outputs": [
        {
          "output_type": "execute_result",
          "data": {
            "text/plain": [
              "9"
            ]
          },
          "metadata": {
            "tags": []
          },
          "execution_count": 60
        }
      ]
    },
    {
      "cell_type": "code",
      "metadata": {
        "colab": {
          "base_uri": "https://localhost:8080/"
        },
        "id": "69zX6su3X0fS",
        "outputId": "e01487d3-f3a8-4693-8ac0-71b2251f2e4e"
      },
      "source": [
        "# Llamar el primer elemento del diccionario\n",
        "masas['Mercurio']"
      ],
      "execution_count": null,
      "outputs": [
        {
          "output_type": "execute_result",
          "data": {
            "text/plain": [
              "0.06"
            ]
          },
          "metadata": {
            "tags": []
          },
          "execution_count": 61
        }
      ]
    },
    {
      "cell_type": "code",
      "metadata": {
        "colab": {
          "base_uri": "https://localhost:8080/"
        },
        "id": "GVfAm4C-X0fT",
        "outputId": "a33b0555-03ce-4490-b689-ec1082e6f60d"
      },
      "source": [
        "masas.keys()"
      ],
      "execution_count": null,
      "outputs": [
        {
          "output_type": "execute_result",
          "data": {
            "text/plain": [
              "dict_keys(['Mercurio', 'Venus', 'Tierra', 'Marte', 'Jupiter', 'Saturno', 'Urano', 'Neptuno', 'Pluto'])"
            ]
          },
          "metadata": {
            "tags": []
          },
          "execution_count": 62
        }
      ]
    },
    {
      "cell_type": "code",
      "metadata": {
        "colab": {
          "base_uri": "https://localhost:8080/"
        },
        "id": "uG8SX3kAX0fT",
        "outputId": "916c20f1-0ceb-4e6d-a4c8-1314512ed4d1"
      },
      "source": [
        "masas.values()"
      ],
      "execution_count": null,
      "outputs": [
        {
          "output_type": "execute_result",
          "data": {
            "text/plain": [
              "dict_values([0.06, 0.82, 1, 0.11, 317.8, 95.2, 14.6, 17.2, 0.0022])"
            ]
          },
          "metadata": {
            "tags": []
          },
          "execution_count": 63
        }
      ]
    },
    {
      "cell_type": "code",
      "metadata": {
        "colab": {
          "base_uri": "https://localhost:8080/"
        },
        "id": "nyCUXyUaX0fT",
        "outputId": "7cd99136-8e9c-4eb6-b0f2-5ad9f8dab50e"
      },
      "source": [
        "masas['Neptuno']"
      ],
      "execution_count": null,
      "outputs": [
        {
          "output_type": "execute_result",
          "data": {
            "text/plain": [
              "17.2"
            ]
          },
          "metadata": {
            "tags": []
          },
          "execution_count": 64
        }
      ]
    },
    {
      "cell_type": "code",
      "metadata": {
        "attributes": {
          "classes": [
            "sourceCode"
          ],
          "id": ""
        },
        "colab": {
          "base_uri": "https://localhost:8080/"
        },
        "id": "PAuBLvhzX0fU",
        "outputId": "f1208f81-5f8b-4a63-b48c-0c4ad2600d23"
      },
      "source": [
        "# Masas medidas con respecto a la Tierra\n",
        "# Es decir, un valor de 14.6 representaria una masa 14.6 veces superior a la de la Tierra\n",
        "masas = {'Mercurio': 0.06, 'Venus': 0.82, 'Tierra': 1, 'Marte': 0.11, 'Jupiter': 317.8, \n",
        "          'Saturno': 95.2, 'Urano': 14.6, 'Neptuno': 17.2, 'Pluto': 0.0022}\n",
        "\n",
        "def planetas_mas_grandes_que_Tierra(planetas):\n",
        "  \"\"\"\n",
        "  Planetas con una masa superior a la de la Tierra\n",
        "  \"\"\"\n",
        "  elementos = masas.items() #Creamos la variable elementos que almacena key y values\n",
        "  planetas_masa_superior = []\n",
        "    \n",
        "  # Código a completar\n",
        "  for miplaneta in planetas:\n",
        "    for planeta,masa in elementos:\n",
        "      if miplaneta.capitalize()==planeta and masa>1:\n",
        "        planetas_masa_superior.append(miplaneta.capitalize())\n",
        "  return planetas_masa_superior\n",
        "\n",
        "# Ejemplos de uso de la función anterior\n",
        "print(planetas_mas_grandes_que_Tierra(['Venus', 'Mercurio', 'Marte']))\n",
        "print(planetas_mas_grandes_que_Tierra(['Jupiter', 'Saturno', 'Pluto']))\n",
        "print(planetas_mas_grandes_que_Tierra(['urano', 'tierra', 'neptuno', 'marte', 'Venus']))\n",
        "print(planetas_mas_grandes_que_Tierra(['Tierra', 'MeRcUrIo', 'PLUTO', 'SATURNO']))\n",
        "\n",
        "# Podéis añadir más ejemplos si lo consideráis oportuno"
      ],
      "execution_count": null,
      "outputs": [
        {
          "output_type": "stream",
          "text": [
            "[]\n",
            "['Jupiter', 'Saturno']\n",
            "['Urano', 'Neptuno']\n",
            "['Saturno']\n"
          ],
          "name": "stdout"
        }
      ]
    },
    {
      "cell_type": "markdown",
      "metadata": {
        "id": "K_MyUGW_X0fU"
      },
      "source": [
        "### Ejercicio 3\n",
        "\n",
        "Completad las siguientes funciones y documentad el código si lo consideráis oportuno. Finalmente, escribid al menos un ejemplo de uso para cada función.\n"
      ]
    },
    {
      "cell_type": "code",
      "metadata": {
        "colab": {
          "base_uri": "https://localhost:8080/"
        },
        "id": "ub1xAQj6_Sfq",
        "outputId": "f8b4bf8e-08d6-4ada-ec92-bf108ad22d4c"
      },
      "source": [
        "# Completad las funciones matemáticas siguientes\n",
        "import math\n",
        "\n",
        "\"\"\"Función que calcula la altura en un movimiento de caída libre\n",
        "\n",
        "Suponemos que dejamos caer un objeto des de un edificio de altura desconocida.\n",
        "El parámetro duracion_caida nos indica el tiempo (en segundos) que tarda el objeto en llegar a \n",
        "la tierra. La función debería calcular la altura del edificio des del cual se ha \n",
        "lanzado el objeto.\n",
        "\n",
        "Podéis encontrar más información sobre el movimiento de caída libre en el siguiente \n",
        "enlace: https://www.fisicalab.com/apartado/caida-libre#contenidos.\n",
        "\"\"\"\n",
        "\n",
        "def calcular_altura_caida_libre(duracion_caida):\n",
        "    # Definimos las variables que intervendran en la equación\n",
        "    h=round(0.5*9.81*duracion_caida**2,2)\n",
        "    return(h) #duda, por qué el return no hace caso del round? si imprimo h antes del round si que lo redondea, pero cuando pasa por el round, no\n",
        "    \n",
        "\"\"\"Función que calcula las coordenadas cartesianas de un punto representado en coordenadas polares\n",
        "\n",
        "Dado un punto representado por sus coordenadas polares (radio y angulo), la función debería calcular \n",
        "las correspondientes coordenadas cartesianas y devolver una tupla con su valor.\n",
        "\n",
        "Podéis encontrar más información sobre el sistema de coordenadas polares y su conversión al sistema \n",
        "cartesiano en el siguiente enlace: https://es.wikipedia.org/wiki/Coordenadas_polares.\n",
        "\"\"\"\n",
        "\n",
        "def calcular_coordenadas_cartesianas(radio, angulo_en_grados):\n",
        "    # Convertimos el ángulo a radianes\n",
        "    angulo_radianes = math.radians(angulo_en_grados)\n",
        "    x = radio*math.sin(angulo_radianes)\n",
        "    y = radio*math.cos(angulo_radianes)\n",
        "        \n",
        "    return x,y\n",
        "\n",
        "# Escribid aquí al menos un ejemplo de uso utilizando las funciones anteriores. Por ejemplo:\n",
        "\n",
        "print(\"El objeto se ha dejado caer des de una altura de %f metros\" % calcular_altura_caida_libre(10))\n",
        "print(\"El objeto se ha dejado caer des de una altura de %f metros\" % calcular_altura_caida_libre(1.5))\n",
        "\n",
        "\n",
        "print(\"Las coordenadas en el sistema cartesiano del punto (13, 23) son (%f, %f).\" % calcular_coordenadas_cartesianas(13, 23))\n",
        "print(\"Las coordenadas en el sistema cartesiano del punto (5, 90) son (%f, %f).\" % calcular_coordenadas_cartesianas(5, 90))"
      ],
      "execution_count": null,
      "outputs": [
        {
          "output_type": "stream",
          "text": [
            "El objeto se ha dejado caer des de una altura de 490.500000 metros\n",
            "El objeto se ha dejado caer des de una altura de 11.040000 metros\n",
            "Las coordenadas en el sistema cartesiano del punto (13, 23) son (5.079505, 11.966563).\n",
            "Las coordenadas en el sistema cartesiano del punto (5, 90) son (5.000000, 0.000000).\n"
          ],
          "name": "stdout"
        }
      ]
    },
    {
      "cell_type": "markdown",
      "metadata": {
        "id": "8FpV1UyYX0fU"
      },
      "source": [
        "### Ejercicio 4\n",
        "\n",
        "Escribid una función que dado un número entero positivo, `N`, genere un fichero con el nombre `output.txt` que contendrá `N` líneas, donde cada línea deberá mostrar una número consecutivo de letras `A`.\n",
        "\n",
        "Por ejemplo, si `N = 4`, el fichero generado deberá contener el siguiente contenido:\n",
        "\n",
        "```\n",
        "A\n",
        "AA\n",
        "AAA\n",
        "AAAA\n",
        "```\n"
      ]
    },
    {
      "cell_type": "code",
      "metadata": {
        "attributes": {
          "classes": [
            "sourceCode"
          ],
          "id": ""
        },
        "id": "acJnAl9AX0fU"
      },
      "source": [
        "# Respuesta"
      ],
      "execution_count": null,
      "outputs": []
    },
    {
      "cell_type": "code",
      "metadata": {
        "colab": {
          "base_uri": "https://localhost:8080/"
        },
        "id": "ZhnHCLfa86Qg",
        "outputId": "2f354c89-01ab-4717-c410-9b2312e0bec4"
      },
      "source": [
        "from io import open\n",
        "N=int(input('Introduce un núnemo entero positivo: '))\n",
        "texto='A'\n",
        "f = open('output.txt', 'w')\n",
        "for i in range(1,N):\n",
        "  texto = texto+ '\\n'\n",
        "  for j in range(0,i+1):\n",
        "    texto = texto +'A'\n",
        "f.write(texto)\n",
        "f.close()\n",
        "\n",
        "f = open('output.txt', 'r')\n",
        "texto2=f.read()\n",
        "f.close()\n",
        "print(texto2)"
      ],
      "execution_count": null,
      "outputs": [
        {
          "output_type": "stream",
          "text": [
            "Introduce un núnemo entero positivo: 5\n",
            "A\n",
            "AA\n",
            "AAA\n",
            "AAAA\n",
            "AAAAA\n"
          ],
          "name": "stdout"
        }
      ]
    },
    {
      "cell_type": "code",
      "metadata": {
        "colab": {
          "base_uri": "https://localhost:8080/"
        },
        "id": "-rmsa_H19i4f",
        "outputId": "d80eab2a-6d0a-444d-8021-8f1e4606280e"
      },
      "source": [
        ""
      ],
      "execution_count": null,
      "outputs": [
        {
          "output_type": "stream",
          "text": [
            "-5\n"
          ],
          "name": "stdout"
        }
      ]
    },
    {
      "cell_type": "code",
      "metadata": {
        "id": "NO1NcFzqhR21"
      },
      "source": [
        ""
      ],
      "execution_count": null,
      "outputs": []
    },
    {
      "cell_type": "markdown",
      "metadata": {
        "id": "DrwtCewRX0fV"
      },
      "source": [
        "### Ejercicio 5 \n",
        "\n",
        "Dada una cadena de caracteres, `s`, de longitud `n` y un número entero positivo `k`, siendo `k` un divisor de `n`, podemos dividir la cadena `s` en `n / k` sub-cadenas de la misma longitud.\n",
        "\n",
        "Escribid una función que, dada una cadena `s` y un número entero `k`, devuelva las `n/k` sub-cadenas teniendo en cuenta las siguientes consideraciones:\n",
        "\n",
        "- El orden de los caracteres en las sub-cadenas debe ser el mismo que en la cadena original.\n",
        "- Todos los caracteres de las sub-cadenas deben aparecer una única vez. Es decir, si un caracter se repite dentro de una sub-cadena, sólo hemos de mostrar la primera ocurrencia.\n",
        "\n",
        "Por ejemplo, si tenemmos\n",
        "<code>\n",
        "s = AABCCAADA\n",
        "k = 3\n",
        "</code>\n",
        "\n",
        "el resultado a mostrar por pantalla sería:\n",
        "<code>\n",
        "AB\n",
        "CA\n",
        "AD\n",
        "</code>\n",
        "\n",
        "Tenemos que la longitud de la cadena es 9 y por lo tanto, podemos formar 3 sub-cadenas:\n",
        "\n",
        "`AAB -> AB` (el caracter A se repite dos veces)\n",
        "\n",
        "`CCA -> CA` (el caracter C se repite dos veces)\n",
        "\n",
        "`ADA -> AD` (el caracter A se repite dos veces)\n"
      ]
    },
    {
      "cell_type": "code",
      "metadata": {
        "colab": {
          "base_uri": "https://localhost:8080/"
        },
        "id": "V26zA0h_kz8V",
        "outputId": "26a255aa-77b7-47be-de0a-1fd4b4033c82"
      },
      "source": [
        "def dividir_cadena(s,k):\n",
        "  nk = len(s)/k\n",
        "  subcadena = [] #lista donde cada elemento es un caracter de la subcadena\n",
        "  s_nueva = [] #lista con cada una de las subcadenas\n",
        "  posicion = 1\n",
        "  for caracter in s:\n",
        "    if subcadena.count(caracter)<1: #chequea que el caracter no esté ya en el subgrupo\n",
        "      subcadena.append(caracter)  \n",
        "    if posicion%k == 0: #si el resto entre la posicion y k es 0, entonces finaliza el grupo y comprobaremos si hay letras repetidas en él\n",
        "      s_nueva.append(subcadena)\n",
        "      subcadena=[] #reseteamos la lista\n",
        "    posicion +=1\n",
        "  print(s_nueva)\n",
        "  \n",
        "dividir_cadena('AAEKDIGIDOEJENFOSO',3) \n",
        "\n"
      ],
      "execution_count": null,
      "outputs": [
        {
          "output_type": "stream",
          "text": [
            "[['A', 'E'], ['K', 'D', 'I'], ['G', 'I', 'D'], ['O', 'E', 'J'], ['E', 'N', 'F'], ['O', 'S']]\n"
          ],
          "name": "stdout"
        }
      ]
    },
    {
      "cell_type": "code",
      "metadata": {
        "id": "dYhc-lj4X0fV"
      },
      "source": [
        "# Respuesta"
      ],
      "execution_count": null,
      "outputs": []
    },
    {
      "cell_type": "markdown",
      "metadata": {
        "id": "8tXSFG62X0fW"
      },
      "source": [
        "### Ejercicio 6 (Opcional)\n",
        "\n",
        "Al final de la Edad Media, en Francia, el diplomático francés Blaise de Vigenère desarrollo un algoritmo para cifrar mensajes que nadie fue capaz de romper durante aproximadamente 250 años. El algoritmo se conoce con el nombre de [cifrado de Vigenère](https://es.wikipedia.org/wiki/Cifrado_de_Vigen%C3%A8re).\n",
        "\n",
        "El cifrado de Vigenère consiste en añadir a cada una de las letras de un texto un desplazamiento a partir de una clave secreta para conseguir una nueva letra diferente de la original. Veamos un ejemplo:\n",
        "\n",
        "Si asignamos el número 1 a la primera letra del abecedario, A, 2 a la siguiente, B, etc., imaginad que tenemos el siguiente mensaje:\n",
        "<code>\n",
        "ABC\n",
        "123\n",
        "</code>\n",
        "\n",
        "y la siguiente clave secreta:\n",
        "<code>\n",
        "DEF\n",
        "456\n",
        "</code>\n",
        "\n",
        "A cada letra del mensaje original aplicamos un desplazamiento en función de la misma posición dentro de la clave secreta. Por lo tanto, el mensaje cifrado quedaría de la siguiente forma:\n",
        "<code>\n",
        "   E       G       I\n",
        "(1 + 4) (2 + 5) (3 + 6)\n",
        "</code>\n",
        "\n",
        "Escribid una función que, dado un mensaje y una clave secreta, calcule y devuelva el mensaje cifrado.\n",
        "\n",
        "*Consideraciones.*\n",
        "\n",
        "- Utilizad como alfabeto de entrada **el alfabeto inglés en mayúsculas**.\n",
        "- El valor por defecto de la clave secreta será **DATASCI**."
      ]
    },
    {
      "cell_type": "code",
      "metadata": {
        "attributes": {
          "classes": [
            "sourceCode"
          ],
          "id": ""
        },
        "id": "P5zDgXS8X0fW",
        "colab": {
          "base_uri": "https://localhost:8080/"
        },
        "outputId": "f4544a49-b0b9-41b2-ddfc-765468095660"
      },
      "source": [
        "#Más consideraciones realizadas:\n",
        "#1-Si el mensaje es más largo que la clave, se volverán a repetir los caracteres de la clave\n",
        "#2-Si si algún número en clave_mensaje_cifrado es mayor que 26, se empezarán a asignar de nuevo las letras desde la A\n",
        "#3-A los espacios en blanco se les asigna el valor 0\n",
        "\n",
        "def cifrado_vigenere(mensaje, clave=\"DATASCI\"):\n",
        "  \"\"\"\n",
        "  Cifra el mensaje utilizando el cifrado de Vigenère\n",
        "  \"\"\"\n",
        "  mensaje_cifrado = ''\n",
        "  n = int((len(mensaje)- len(clave))/len(clave))+2\n",
        "  clave=clave*n\n",
        "  clave_mensaje = []\n",
        "  clave_clave = []\n",
        "  clave_mensaje_cifrado = []\n",
        "  abecedario = {' ' : 0, 'A' : 1, 'B' : 2, 'C' : 3, 'D' : 4, 'E' : 5, 'F' : 6, 'G' : 7, 'H' : 8, 'I' : 9, 'J' : 10, 'K' : 11, 'L' : 12, 'M' : 13, 'N' : 14, 'O' : 15, 'P' : 16, 'Q' : 17, 'R' : 18, 'S' : 19, 'T' : 20, 'U' : 21, 'V' : 22, 'W' : 23, 'X' : 24, 'Y' : 25, 'Z' : 26}\n",
        "  \n",
        "  # Código que hay que completar\n",
        "  \n",
        "  for m in mensaje:\n",
        "    #busca m en el diccionario y devuelve su valor\n",
        "    clave_mensaje.append(abecedario.get(m))\n",
        "  \n",
        "  for c in clave:\n",
        "    #busca m en el diccionario y devuelve su valor\n",
        "    clave_clave.append(abecedario.get(c))\n",
        "  print(clave_clave, clave_mensaje)\n",
        "  \n",
        "  #suma los valores de ambas listas\n",
        "  for i in range(len(mensaje)-1):\n",
        "    clave_mensaje_cifrado.append(clave_mensaje[i]+clave_clave[i])\n",
        "  print(clave_mensaje_cifrado)\n",
        "\n",
        "  #si algún número en clave_mensaje_cifrado es mayor que 26, le restará 26 (empezará a asignar de nuevo las letras desde A)\n",
        "  clave_mensaje_cifrado = [x-27 if x > 26 else x for x in clave_mensaje_cifrado]\n",
        "  \n",
        "  #hacemos una lista con las claves del abecedario para poder extraer después las posiciones que nos interesen\n",
        "  abecedario_keys = list(abecedario.keys())\n",
        "  \n",
        "  for c in clave_mensaje_cifrado:\n",
        "    mensaje_cifrado = mensaje_cifrado + abecedario_keys[c]\n",
        "\n",
        "  return mensaje_cifrado\n",
        "\n",
        "# Aquí podéis añadir más ejemplos:\n",
        "print(cifrado_vigenere(\"ATACAREMOS AL AMANECER\"))"
      ],
      "execution_count": null,
      "outputs": [
        {
          "output_type": "stream",
          "text": [
            "[4, 1, 20, 1, 19, 3, 9, 4, 1, 20, 1, 19, 3, 9, 4, 1, 20, 1, 19, 3, 9, 4, 1, 20, 1, 19, 3, 9] [1, 20, 1, 3, 1, 18, 5, 13, 15, 19, 0, 1, 12, 0, 1, 13, 1, 14, 5, 3, 5, 18]\n",
            "[5, 21, 21, 4, 20, 21, 14, 17, 16, 39, 1, 20, 15, 9, 5, 14, 21, 15, 24, 6, 14]\n",
            "EUUDTUNQPLATOIENUOXFN\n"
          ],
          "name": "stdout"
        }
      ]
    },
    {
      "cell_type": "code",
      "metadata": {
        "colab": {
          "base_uri": "https://localhost:8080/"
        },
        "id": "uQ7PQkaWMW6r",
        "outputId": "c62ae6a2-7cb9-4502-82b9-dd270c74ce0c"
      },
      "source": [
        "a='c'\n",
        "a=a+'b'\n",
        "print(a)"
      ],
      "execution_count": null,
      "outputs": [
        {
          "output_type": "stream",
          "text": [
            "cb\n"
          ],
          "name": "stdout"
        }
      ]
    },
    {
      "cell_type": "markdown",
      "metadata": {
        "id": "tDgstwz4X0fW"
      },
      "source": [
        "---\n",
        "\n",
        "## Soluciones ejercicios para practicar"
      ]
    },
    {
      "cell_type": "markdown",
      "metadata": {
        "id": "bFhYVIzMX0fW"
      },
      "source": [
        "### Ejercicio 1\n",
        "\n",
        "El siguiente ejercicio consiste en pasar un número en base 16 (hexadecimal, 0-9/A-F) a base 10 (decimal). Para hacerlo, debéis crear una **función** que dado un _string_ que representa un número en hexadecimal, por ejemplo, `AE3F`, devuelva el número \n",
        "natural correspondiente. En este caso, el resultado sería `44607`.\n",
        "\n",
        "**Respuesta**"
      ]
    },
    {
      "cell_type": "markdown",
      "metadata": {
        "id": "g5siuYJuX0fX"
      },
      "source": [
        "En Python disponemos de una función muy útil que nos permite pasar a un número decimal des de cualquier base (```int(x, base=y)```). Dado que el objetivo es jugar un poco con el lenguaje Python, vamos a usar dicha función sólo de forma parcial para calcular el número decimal correspondiente a cada carácter hexadecimal individualmente.\n",
        "\n",
        "La fórmula para convertir un número hexadecimal a un número decimal, tomando como ejemplo el número AE3F, es:\n",
        "\n",
        "```A * 16**3 + E * 16**2 + 3 * 16**1 + F * 16**0 = 10 * 16**3 + 14 * 16**2 + 3 * 16**1 + 15 * 16**0```"
      ]
    },
    {
      "cell_type": "code",
      "metadata": {
        "id": "3tJPUV0QX0fX",
        "outputId": "eaa31cfa-0b35-44fe-b2d8-c3635c8e488c"
      },
      "source": [
        "# Importamos el string '0123456789abcdefABCDEF' que nos puede ser muy útil para comprobar el formato \n",
        "from string import hexdigits\n",
        "\n",
        "def hex_to_dec(numero_hexadecimal):\n",
        "    # Primero, comprobamos que el número que se pasa por parámetro es hexadecimal\n",
        "    if all(c in hexdigits for c in numero_hexadecimal):\n",
        "        # Definimos la base para realizar las operaciones\n",
        "        base = 16\n",
        "        numero_decimal = 0\n",
        "        \n",
        "        # Invertimos el número hexadecimal para que nos sea más fácil trabajar con los índices\n",
        "        numero_hexadecimal = numero_hexadecimal[::-1]\n",
        "        \n",
        "        for i in range(len(numero_hexadecimal)):\n",
        "            # Para cada carácter hexadecimal aplicamos la formula c * base ** i,\n",
        "            # donde c es la representación decimal del carácter y \n",
        "            # sumamos el resultado al resultado obtenido en la iteración anterior\n",
        "            numero_decimal += int(numero_hexadecimal[i], 16) * base**i\n",
        "            \n",
        "        return numero_decimal\n",
        "    else:\n",
        "        print('El número introducido no es hexadecimal')\n",
        "\n",
        "print(hex_to_dec('AE3F'))\n",
        "print(hex_to_dec('FFF'))\n",
        "print(hex_to_dec('123'))"
      ],
      "execution_count": null,
      "outputs": [
        {
          "output_type": "stream",
          "text": [
            "44607\n",
            "4095\n",
            "291\n"
          ],
          "name": "stdout"
        }
      ]
    },
    {
      "cell_type": "markdown",
      "metadata": {
        "id": "JUrm9xWRX0fX"
      },
      "source": [
        "### Ejercicio 2\n",
        "\n",
        "Las excepciones son errores detectados en tiempo de ejecución. Pueden y deben ser manejadas por el programador para minimizar el riesgo de que un determinado programa falle de forma no controlada. Escribid, en lenguaje Python, cómo generar y capturar la siguiente excepción: **ZeroDivisionError**.\n",
        "\n",
        "**Respuesta**"
      ]
    },
    {
      "cell_type": "markdown",
      "metadata": {
        "id": "iXWxQnvKX0fY"
      },
      "source": [
        "En Pyhon podemos utilizar el bloque try ... except para capturar excepciones. Primero se intentará ejecutar el código dentro del bloque try y si hay una excepción se buscará una instrucción except que capture dicha excepción. En caso de encontrarla se ejecutará el código dentro del bloque except."
      ]
    },
    {
      "cell_type": "code",
      "metadata": {
        "id": "ExoDihtsX0fY",
        "outputId": "5f618cf0-769b-451d-bf59-2a9bea77cea7"
      },
      "source": [
        "try:\n",
        "    print( 5/0) # División por cero - genera ZeroDivisionError\n",
        "except ZeroDivisionError:\n",
        "    print(\"¡Cuidado! División por cero.\")"
      ],
      "execution_count": null,
      "outputs": [
        {
          "output_type": "stream",
          "text": [
            "¡Cuidado! División por cero.\n"
          ],
          "name": "stdout"
        }
      ]
    },
    {
      "cell_type": "markdown",
      "metadata": {
        "id": "Fi2AHthOX0fY"
      },
      "source": [
        "### Ejercicio 3\n",
        "\n",
        "Completad el código necesario para calcular el número de vocales y de consonantes respectivamente de un texto.\n",
        "\n",
        "**Respuesta**"
      ]
    },
    {
      "cell_type": "code",
      "metadata": {
        "id": "c4IXA_FuX0fY",
        "outputId": "38d3cd91-3b43-47d9-9b2e-eea9418d0dca"
      },
      "source": [
        "def contar_vocales_y_consonantes(texto):\n",
        "    # Cuenta las vocales contenidas en el string texto y también las consonantes.\n",
        "    num_vocales = 0\n",
        "    num_consonantes = 0\n",
        "    \n",
        "    # Definimos una lista con las vocales\n",
        "    vocales = ['a', 'e', 'i', 'o', 'u']\n",
        "    \n",
        "    for c in texto.lower(): # Podemos convertir el texto a minúsculas para simplificar los cálculos\n",
        "        if c in vocales:\n",
        "            num_vocales += 1\n",
        "        elif c > 'a' and c <= 'z':\n",
        "            num_consonantes += 1\n",
        "    \n",
        "    return num_vocales, num_consonantes\n",
        "\n",
        "texto = \"Orbiting Earth in the spaceship, I saw how beautiful our planet is. \\\n",
        "            People, let us preserve and increase this beauty, not destroy it!\"\n",
        "\n",
        "num_vocales, num_consonantes = contar_vocales_y_consonantes(texto)\n",
        "print (\"El número de vocales es de %d\" % num_vocales)\n",
        "print (\"El número de consonantes es de %d\" % num_consonantes)"
      ],
      "execution_count": null,
      "outputs": [
        {
          "output_type": "stream",
          "text": [
            "El número de vocales es de 44\n",
            "El número de consonantes es de 62\n"
          ],
          "name": "stdout"
        }
      ]
    },
    {
      "cell_type": "markdown",
      "metadata": {
        "id": "SEb9fbHnX0fZ"
      },
      "source": [
        "Si queremos considerar también las vocales acentuadas o caracteres especiales, podemos modificar el código anterior para tenerlo en cuenta:"
      ]
    },
    {
      "cell_type": "code",
      "metadata": {
        "id": "xxkKMdQHX0fZ",
        "outputId": "0b53a224-bd5e-4364-9c30-6864d10c9508"
      },
      "source": [
        "def contar_vocales_y_consonantes(texto):\n",
        "    # Cuenta las vocales contenidas en el string texto y también las consonantes.\n",
        "    num_vocales = 0\n",
        "    num_consonantes = 0\n",
        "    \n",
        "    # Convertimos el texto a Unicode\n",
        "    # En este caso sabemos seguro que la codificación de caracteres es UTF-8,  \n",
        "    # pero si nuestro código se puediera ejecutar fuera del Notebook podríamos \n",
        "    # incluir la codificación como otro parámetro de la función\n",
        "    texto = texto.decode('utf-8')\n",
        "    \n",
        "    # Definimos una lista con las vocales en unicode\n",
        "    vocales = [u'a', u'e', u'i', u'o', u'u', u'à', u'á', u'è', u'é', u'í', u'ï', u'ò', u'ó', u'ú', u'ü']\n",
        "    \n",
        "    for c in texto.lower(): # Podemos convertir el texto a minúsculas para simplificar los cálculos\n",
        "        if c in vocales:\n",
        "            num_vocales += 1\n",
        "        elif c > 'a' and c <= 'z' or c == u'ç' or c == u'ñ':\n",
        "            num_consonantes += 1\n",
        "    \n",
        "    return num_vocales, num_consonantes\n",
        "\n",
        "texto = \"Orbiting Earth in the spaceship, I saw how beautiful our planet is. \\\n",
        "            People, let us preserve and increase this beauty, not destroy it!\"\n",
        "\n",
        "num_vocales, num_consonantes = contar_vocales_y_consonantes(texto)\n",
        "print (\"El número de vocales es de %d\" % num_vocales)\n",
        "print (\"El número de consonantes es de %d\" % num_consonantes)\n",
        "\n",
        "texto = \"áéióúY\"\n",
        "num_vocales, num_consonantes = contar_vocales_y_consonantes(texto)\n",
        "print( \"El número de vocales es de %d\" % num_vocales)\n",
        "print (\"El número de consonantes es de %d\" % num_consonantes)"
      ],
      "execution_count": null,
      "outputs": [
        {
          "output_type": "stream",
          "text": [
            "El número de vocales es de 44\n",
            "El número de consonantes es de 62\n",
            "El número de vocales es de 5\n",
            "El número de consonantes es de 1\n"
          ],
          "name": "stdout"
        }
      ]
    }
  ]
}