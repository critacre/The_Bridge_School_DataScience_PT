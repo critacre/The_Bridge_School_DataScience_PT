{
  "nbformat": 4,
  "nbformat_minor": 0,
  "metadata": {
    "kernelspec": {
      "display_name": "Python 3",
      "language": "python",
      "name": "python3"
    },
    "language_info": {
      "codemirror_mode": {
        "name": "ipython",
        "version": 3
      },
      "file_extension": ".py",
      "mimetype": "text/x-python",
      "name": "python",
      "nbconvert_exporter": "python",
      "pygments_lexer": "ipython3",
      "version": "3.8.6"
    },
    "colab": {
      "name": "05.2_python_avanzado_Cris.ipynb",
      "provenance": [],
      "collapsed_sections": [
        "JaHorLi0g6Ho",
        "599ZuUaGg6Hr",
        "pC-iY-HVg6Hu",
        "9anlvAzLg6Hw",
        "heirhLCHg6Hx",
        "5CZ8lBmfg6Hy"
      ]
    }
  },
  "cells": [
    {
      "cell_type": "markdown",
      "metadata": {
        "id": "pik5HJjUg6Hj"
      },
      "source": [
        "Programación para *Data Science*\n",
        "============================\n",
        "\n",
        "Intro101 - 05.1: Conceptos avanzados de Python\n",
        "--------------------------------------\n",
        "\n",
        "En este Notebook encontraréis dos conjuntos de ejercicios: un primer conjunto de ejercicios para practicar y que no puntuan, pero que recomendamos intentar resolver y un segundo conjunto que evaluaremos como actividad.\n",
        "\n",
        "\n",
        "Además, veréis que todas las actividades tienen una etiqueta que indica los recursos necesarios para llevarla a cabo. Hay tres posibles etiquetas:\n",
        "\n",
        "* <span style=\"font-family: Courier New; background-color: #82b74b; color: #000000; padding: 3px; \">NM</span> **Sólo materiales**: las herramientas necesarias para realizar la actividad se pueden encontrar en los materiales de la asignatura. \n",
        "\n",
        "* <span style=\"font-family: Courier New; background-color: #ffcc5c; color: #000000; padding: 3px; \">EG</span> **Consulta externa guiada**: la actividad puede requerir hacer uso de herramientas que no se encuentran en los materiales de la asignatura, pero el enunciado contiene indicaciones de dónde o cómo encontrar la información adicional necesaria para resolver la actividad.\n",
        "\n",
        "* <span style=\"font-family: Courier New; background-color: #f2ae72; color: #000000; padding: 3px; \">EI</span> **Consulta externa independente**: la actividad puede requerir hacer uso de herramientas que no se encuentran en los materiales de la asignatura, y el enunciado puede no incluir la descripción de dónde o cómo encontrar esta información adicional. Será necesario que el estudiante busque esta información utilizando los recursos que se han explicado en la asignatura.\n",
        "\n",
        "Es importante notar que estas etiquetas no indican el nivel de dificultad del ejercicio, sino únicamente la necesidad de consulta de documentación externa para su resolución. Además, recordad que las **etiquetas son informativas**, pero podréis consultar referencias externas en cualquier momento (aunque no se indique explícitamente) o puede ser que podáis hacer una actividad sin consultar ningún tipo de documentación. Por ejemplo, para resolver una actividad que sólo requiera los materiales de la asignatura, puedéis consultar referencias externas si queréis, ya sea tanto para ayudaros en la resolución como para ampliar el conocimiento!\n"
      ]
    },
    {
      "cell_type": "markdown",
      "metadata": {
        "id": "TJ_oHO8Eg6Hn"
      },
      "source": [
        "---\n",
        "\n",
        "## Ejercicios y preguntas teóricas para la actividad\n",
        "\n",
        "A continuación, encontraréis los **ejercicios y preguntas teóricas que debéis completar en esta actividad** y que forman parte de la evaluación de esta unidad."
      ]
    },
    {
      "cell_type": "markdown",
      "metadata": {
        "id": "JaHorLi0g6Ho"
      },
      "source": [
        "### Ejercicio 1\n",
        "\n",
        "Un número primo es aquél que solo es divisible por él mismo y por 1.\n",
        "\n",
        "a) Escribe un código que compruebe si un número `x = 15` es solo divisible por 1 o por el mismo.  Escribe este código usando un iterador (un `for` o un `while`) que barra todos los valores desde `2` a `x-1`. Crea una variable `divisible`  que tenga por defecto valor `False` y asigne el valor `True` si a lo largo de la iteración encuentra un número natural divisible. Puedes usar el operador modulo `a % b` para saber si un numero `b` es divisible por `a`.\n",
        "\n",
        "<span style=\"font-family: Courier New; background-color: #82b74b; color: #000000; padding: 2px; \">NM</span>"
      ]
    },
    {
      "cell_type": "code",
      "metadata": {
        "id": "4uGr3cPTg6Ho"
      },
      "source": [
        "# Respuesta"
      ],
      "execution_count": null,
      "outputs": []
    },
    {
      "cell_type": "code",
      "metadata": {
        "colab": {
          "base_uri": "https://localhost:8080/"
        },
        "id": "Oox0xNfb26kL",
        "outputId": "38a4764e-2ea7-413e-8203-637e10ff0200"
      },
      "source": [
        "divisible = False\n",
        "x=int(input('Introduce un número para saber si es o no primo:'))\n",
        "for i in range (2,x):\n",
        "  if x%i == 0:\n",
        "    divisible = True\n",
        "    break\n",
        "print(divisible)"
      ],
      "execution_count": null,
      "outputs": [
        {
          "output_type": "stream",
          "text": [
            "Introduce un número para saber si es o no primo:17\n",
            "False\n"
          ],
          "name": "stdout"
        }
      ]
    },
    {
      "cell_type": "markdown",
      "metadata": {
        "id": "OwlB178Gg6Hp"
      },
      "source": [
        "\n",
        "b) Convierte tu código anterior en una función que compruebe si el número del argumento es primo o no, devolviendo True is es primo y False si no es primo. Comprueba tu función con los valores 492366587, 492366585, 48947 y 2,\n",
        "\n",
        "<span style=\"font-family: Courier New; background-color: #82b74b; color: #000000; padding: 2px; \">NM</span>"
      ]
    },
    {
      "cell_type": "code",
      "metadata": {
        "id": "yYMi2vpxg6Hp"
      },
      "source": [
        "# Respuesta"
      ],
      "execution_count": null,
      "outputs": []
    },
    {
      "cell_type": "code",
      "metadata": {
        "colab": {
          "base_uri": "https://localhost:8080/"
        },
        "id": "ih_hLxzD7ppl",
        "outputId": "368928a9-9a45-439d-c148-43795c2f36bd"
      },
      "source": [
        "def Comprobar_numero_primo(n):\n",
        "  primo = True\n",
        "  for i in range (2,n):\n",
        "    if n%i == 0:\n",
        "      primo = False\n",
        "      print('El número ',n ,'es divisible por ', i)\n",
        "      break\n",
        "  print('El número ', n, ' ¿es primo? ', primo)\n",
        "\n",
        "Comprobar_numero_primo(492366587)\n",
        "Comprobar_numero_primo(492366585)\n",
        "Comprobar_numero_primo(48947)\n",
        "Comprobar_numero_primo(2)"
      ],
      "execution_count": null,
      "outputs": [
        {
          "output_type": "stream",
          "text": [
            "El número  492366587  ¿es primo?  True\n",
            "El número  492366585 es divisible por  3\n",
            "El número  492366585  ¿es primo?  False\n",
            "El número  48947  ¿es primo?  True\n",
            "El número  2  ¿es primo?  True\n"
          ],
          "name": "stdout"
        }
      ]
    },
    {
      "cell_type": "markdown",
      "metadata": {
        "id": "cf3TL5Ahg6Hq"
      },
      "source": [
        "\n",
        "c) En el cálculo de la función anterior, una vez se ha encontrado un número que es divisible dentro del rango ya no tiene sentido comprobar el resto de números del rango. Por ejemplo si 10 ya es divisble entre 2, ya no hace falta probar de 3 en adelante pues ya sabemos que el número no es primo. \n",
        "\n",
        "Modifica la función anterior de la siguiente forma: \n",
        "- Una vez se encuentra el divisor, la iteración se interrumpe para no probar el resto de enteros. \n",
        "- La función devuelve\n",
        "    - **Si es primo**: True\n",
        "    - **Si no es primo**, el primer divisor mayor que 1.\n",
        "    \n",
        "Puedes hacer uso del comando *break* dentro de un bucle para interrumpir este, puedes consultar más información sobre break en la documentación de python [aquí](https://docs.python.org/2/tutorial/controlflow.html).\n",
        "\n",
        "Comprueba tu función con los valores 492366585, 492366587, 48947 y 2,\n",
        "\n",
        "<span style=\"font-family: Courier New; background-color: #82b74b; color: #000000; padding: 2px; \">NM</span>"
      ]
    },
    {
      "cell_type": "code",
      "metadata": {
        "id": "s9tGgBUCg6Hq"
      },
      "source": [
        "# Respuesta"
      ],
      "execution_count": null,
      "outputs": []
    },
    {
      "cell_type": "markdown",
      "metadata": {
        "id": "599ZuUaGg6Hr"
      },
      "source": [
        "### Ejercicio 2\n",
        "\n",
        "La Covid-19 es una enfermedad producida por la infección del virus SARS-CoV-2. La infección es transmisible de persona a persona y su contagiosidad depende de la cantidad del virus en las vías respiratorias. Si cada persona contagiada transmite la enfermedad a $\\beta$ contactos en promedio por periodo de tiempo $t$, es posible estimar la evolución del contagio con un modelo matemático sencillo.\n",
        "\n",
        "Para $t=1$día, las transmisiones en España se han estimado a partir de su histórico de las semanas de Febrero y Marzo del 2020 una $\\beta = 0.35$ transmissiones por día por infectado.\n",
        "\n",
        "Durante un periodo de tiempo (por ejempo un día $d$) la tasa de nuevos contagios se puede estimar como  una proporción al número de contagiados del periodo anterior $N$: \n",
        "\n",
        "$$ \\Delta N = N_{1} - N = \\beta \\cdot N$$ (1)\n",
        "\n",
        "Por tanto, podemos proyectar el número futuro de afectados como \n",
        "\n",
        "$$ N_{1} = N + \\beta \\cdot N = (1+\\beta) \\cdot N$$ (2) \n",
        "\n",
        "En dos días:\n",
        "\n",
        "$$ N_{2} = (1+\\beta) \\cdot N_{1} = (1+\\beta)^2 \\cdot N$$  (3)\n",
        "\n",
        "Y en general en D días tendremos \n",
        "\n",
        "$$N_{D} = (1+\\beta)^D \\cdot N$$  (4)\n",
        " \n",
        "Asumiendo este sencillo modelo: \n",
        "\n",
        "a) Implementa una función de dos parámetros (N: población infectada inicial, D: número de días), que devuelva el cálculo de afectados para D días siguiendo la ecuación (4). Suponiendo una población afectada de 4250 (población afectada en españa a día 13 de Marzo de 2020), usa la función para calcular la población estimada en 1, 2, 7 y 30 días. \n",
        "\n",
        "<span style=\"font-family: Courier New; background-color: #82b74b; color: #000000; padding: 2px; \">NM</span>"
      ]
    },
    {
      "cell_type": "code",
      "metadata": {
        "id": "NNAF6NQtg6Hs"
      },
      "source": [
        "# Respuesta"
      ],
      "execution_count": null,
      "outputs": []
    },
    {
      "cell_type": "code",
      "metadata": {
        "colab": {
          "base_uri": "https://localhost:8080/"
        },
        "id": "Hg8mg4_CD-mi",
        "outputId": "064c25d7-2838-4fdc-d2d2-5e1682a97cda"
      },
      "source": [
        "def Afectados_Covid(n,d):\n",
        "  afectados = round((1+0.35)**d*n)\n",
        "  print ('El número de afectados en', d, 'días es', afectados, 'afectados')\n",
        "\n",
        "Afectados_Covid(4250,1)\n",
        "Afectados_Covid(4250,2)\n",
        "Afectados_Covid(4250,7)\n",
        "Afectados_Covid(4250,30)"
      ],
      "execution_count": null,
      "outputs": [
        {
          "output_type": "stream",
          "text": [
            "El número de afectados en 1 días es 5738 afectados\n",
            "El número de afectados en 2 días es 7746 afectados\n",
            "El número de afectados en 7 días es 34732 afectados\n",
            "El número de afectados en 30 días es 34546335 afectados\n"
          ],
          "name": "stdout"
        }
      ]
    },
    {
      "cell_type": "markdown",
      "metadata": {
        "id": "iQTcJ48og6Hs"
      },
      "source": [
        "\n",
        "b) Sabiendo que los Servicios de Medicina Intensiva (SMI) disponen de 3363 camas para enfermos graves, y suponiendo que un 10% de los afectados por el covid-19 requerirán de SMI y una supervivencia del 2,5% (Exitus), escribe un código que calcule:\n",
        "- El día en curso (Día)\n",
        "- El total de afectados por el virus para cada día d (Afectados)\n",
        "- El total de ingresados en SMI por el virus para cada día d (Críticos)\n",
        "- El total de Exitus por el virus para cada día d (Exitus)\n",
        "- Si los servicios de SMI no pueden aceptar los ingresados para cada día $d$ (Estado: indicando Saturación/No Saturación)\n",
        "\n",
        "Imprime en pantalla la información de cada día durante una simulación de tres semanas, suponiendo que no hay recuperaciones, con una población afectada inicial 4250 y una $\\beta = 0.35$ constante. \n",
        "\n",
        "\n",
        "<span style=\"font-family: Courier New; background-color: #82b74b; color: #000000; padding: 2px; \">NM</span>"
      ]
    },
    {
      "cell_type": "code",
      "metadata": {
        "id": "5V-FyOKHg6Ht"
      },
      "source": [
        "# Respuesta\n"
      ],
      "execution_count": null,
      "outputs": []
    },
    {
      "cell_type": "code",
      "metadata": {
        "colab": {
          "base_uri": "https://localhost:8080/"
        },
        "id": "fPN_1N6ZOYlK",
        "outputId": "511fcb2b-7533-4652-f067-1c4005b4f94b"
      },
      "source": [
        "#El día en curso (dia)\n",
        "\n",
        "import datetime\n",
        "\n",
        "hoy = datetime.date.today()\n",
        "inicio_pandemia = datetime.date(2020,10,13)\n",
        "dia = hoy-inicio_pandemia\n",
        "dia= dia.days\n",
        "\n",
        "#El total de afectados por el virus para cada día\n",
        "n=4250\n",
        "afectados = round((1+0.35)**dia*n)\n",
        "print ('El número de afectados en día', dia, 'es', afectados, 'afectados')\n",
        "\n",
        "#El total de ingresados en SMI por el virus para cada día d (críticos)\n",
        "#Si los servicios de SMI no pueden aceptar los ingresados para cada día  d  (Estado: indicando Saturación/No Saturación)\n",
        "criticos = 0.10*afectados\n",
        "estado_saturacion = False\n",
        "if criticos > 3363:\n",
        "  estado_saturación = True\n",
        "  print('Hay más enfermos críticos que camas en SMI')\n",
        "\n",
        "#El total de Exitus por el virus para cada día d (exitus)\n",
        "exitus = 0.025*afectados\n",
        "\n"
      ],
      "execution_count": null,
      "outputs": [
        {
          "output_type": "stream",
          "text": [
            "El número de afectados en día 239 es 60001153602510126571134634629791744 afectados\n",
            "Hay más enfermos críticos que camas en SMI\n"
          ],
          "name": "stdout"
        }
      ]
    },
    {
      "cell_type": "code",
      "metadata": {
        "colab": {
          "base_uri": "https://localhost:8080/"
        },
        "id": "-ekxZ9BYpZRZ",
        "outputId": "53539afd-dec4-452e-eced-97ca5a297279"
      },
      "source": [
        "#Bonus\n",
        "#Imprime en pantalla la información de cada día hasta la fecha indicada, suponiendo que no hay recuperaciones, con una población afectada inicial 4250 y una  β=0.35  constante\n",
        "\n",
        "def calcular_dia():\n",
        "  import datetime\n",
        "  a=int(input('Introduce el año: '))\n",
        "  m=int(input('Introduce el mes: '))\n",
        "  d=int(input('Introduce el día: '))\n",
        "  fecha = datetime.date(a,m,d)\n",
        "  inicio_pandemia = datetime.date(2020,3,13)\n",
        "  dia = fecha-inicio_pandemia\n",
        "  dia= dia.days\n",
        "  return dia\n",
        "\n",
        "def calcular_afectados(dia):\n",
        "  n=4250\n",
        "  afectados = round((1+0.35)**dia*n)\n",
        "  return afectados\n",
        "\n",
        "def calcular_criticos(afectados):\n",
        "  criticos = 0.10*afectados\n",
        "  return criticos\n",
        "\n",
        "def calcular_exitus(afectados):\n",
        "  exitus = 0.025*afectados\n",
        "  return exitus\n",
        "\n",
        "def calcular_estado(criticos):\n",
        "  estado = 'No saturación'\n",
        "  if criticos > 3363:\n",
        "    estado = 'Saturación'\n",
        "  return estado\n",
        "\n",
        "dia=calcular_dia()\n",
        "d=0\n",
        "afectados=0\n",
        "criticos=0\n",
        "exitus=0\n",
        "estado='No saturacion'\n",
        "datos_dia = (d, afectados, criticos, exitus, estado)\n",
        "datos_total = [('dia', 'afectados', 'criticos', 'exitus', 'estado')]\n",
        "for d in range(0,dia+1):\n",
        "  afectados = calcular_afectados(d)\n",
        "  criticos = calcular_criticos(afectados)\n",
        "  exitus = calcular_exitus(afectados)\n",
        "  estado = calcular_estado(criticos)\n",
        "  datos_total.append((d, afectados, criticos, exitus, estado))\n",
        "print(datos_total)\n",
        "  \n"
      ],
      "execution_count": null,
      "outputs": [
        {
          "output_type": "stream",
          "text": [
            "Introduce el año: 2020\n",
            "Introduce el mes: 05\n",
            "Introduce el día: 1\n",
            "[('dia', 'afectados', 'criticos', 'exitus', 'estado'), (0, 4250, 425.0, 106.25, 'No saturación'), (1, 5738, 573.8000000000001, 143.45000000000002, 'No saturación'), (2, 7746, 774.6, 193.65, 'No saturación'), (3, 10457, 1045.7, 261.425, 'No saturación'), (4, 14116, 1411.6000000000001, 352.90000000000003, 'No saturación'), (5, 19057, 1905.7, 476.425, 'No saturación'), (6, 25727, 2572.7000000000003, 643.1750000000001, 'No saturación'), (7, 34732, 3473.2000000000003, 868.3000000000001, 'Saturación'), (8, 46888, 4688.8, 1172.2, 'Saturación'), (9, 63298, 6329.8, 1582.45, 'Saturación'), (10, 85453, 8545.300000000001, 2136.3250000000003, 'Saturación'), (11, 115361, 11536.1, 2884.025, 'Saturación'), (12, 155738, 15573.800000000001, 3893.4500000000003, 'Saturación'), (13, 210246, 21024.600000000002, 5256.150000000001, 'Saturación'), (14, 283832, 28383.2, 7095.8, 'Saturación'), (15, 383173, 38317.3, 9579.325, 'Saturación'), (16, 517284, 51728.4, 12932.1, 'Saturación'), (17, 698334, 69833.40000000001, 17458.350000000002, 'Saturación'), (18, 942750, 94275.0, 23568.75, 'Saturación'), (19, 1272713, 127271.3, 31817.825, 'Saturación'), (20, 1718163, 171816.30000000002, 42954.075000000004, 'Saturación'), (21, 2319520, 231952.0, 57988.0, 'Saturación'), (22, 3131352, 313135.2, 78283.8, 'Saturación'), (23, 4227325, 422732.5, 105683.125, 'Saturación'), (24, 5706888, 570688.8, 142672.2, 'Saturación'), (25, 7704299, 770429.9, 192607.475, 'Saturación'), (26, 10400804, 1040080.4, 260020.1, 'Saturación'), (27, 14041085, 1404108.5, 351027.125, 'Saturación'), (28, 18955465, 1895546.5, 473886.625, 'Saturación'), (29, 25589878, 2558987.8000000003, 639746.9500000001, 'Saturación'), (30, 34546335, 3454633.5, 863658.375, 'Saturación'), (31, 46637553, 4663755.3, 1165938.825, 'Saturación'), (32, 62960696, 6296069.600000001, 1574017.4000000001, 'Saturación'), (33, 84996940, 8499694.0, 2124923.5, 'Saturación'), (34, 114745869, 11474586.9, 2868646.725, 'Saturación'), (35, 154906923, 15490692.3, 3872673.075, 'Saturación'), (36, 209124346, 20912434.6, 5228108.65, 'Saturación'), (37, 282317867, 28231786.700000003, 7057946.675000001, 'Saturación'), (38, 381129121, 38112912.1, 9528228.025, 'Saturación'), (39, 514524313, 51452431.300000004, 12863107.825000001, 'Saturación'), (40, 694607822, 69460782.2, 17365195.55, 'Saturación'), (41, 937720560, 93772056.0, 23443014.0, 'Saturación'), (42, 1265922756, 126592275.60000001, 31648068.900000002, 'Saturación'), (43, 1708995721, 170899572.10000002, 42724893.025000006, 'Saturación'), (44, 2307144223, 230714422.3, 57678605.575, 'Saturación'), (45, 3114644702, 311464470.2, 77866117.55, 'Saturación'), (46, 4204770347, 420477034.70000005, 105119258.67500001, 'Saturación'), (47, 5676439969, 567643996.9, 141910999.225, 'Saturación'), (48, 7663193958, 766319395.8000001, 191579848.95000002, 'Saturación'), (49, 10345311843, 1034531184.3000001, 258632796.07500002, 'Saturación')]\n"
          ],
          "name": "stdout"
        }
      ]
    },
    {
      "cell_type": "code",
      "metadata": {
        "colab": {
          "base_uri": "https://localhost:8080/"
        },
        "id": "C26PQutG69F-",
        "outputId": "41391d45-aa2e-4c01-c9ae-44e35cce919d"
      },
      "source": [
        "#Imprime en pantalla la información de cada día durante una simulación de tres semanas, suponiendo que no hay recuperaciones, con una población afectada inicial 4250 y una  β=0.35  constante\n",
        "\n",
        "dia = 21\n",
        "n = 4250\n",
        "beta = 0.35\n",
        "\n",
        "def calcular_afectados(dia):\n",
        "  afectados = round((1+beta)**dia*n)\n",
        "  return afectados\n",
        "\n",
        "def calcular_criticos(afectados):\n",
        "  criticos = 0.10*afectados\n",
        "  return criticos\n",
        "\n",
        "def calcular_exitus(afectados):\n",
        "  exitus = 0.025*afectados\n",
        "  return exitus\n",
        "\n",
        "def calcular_estado(criticos):\n",
        "  estado = 'No saturación'\n",
        "  if criticos > 3363:\n",
        "    estado = 'Saturación'\n",
        "  return estado\n",
        "\n",
        "d=0\n",
        "afectados=0\n",
        "criticos=0\n",
        "exitus=0\n",
        "estado='No saturacion'\n",
        "datos_dia = (d, afectados, criticos, exitus, estado)\n",
        "datos_total = [('dia', 'afectados', 'criticos', 'exitus', 'estado')]\n",
        "for d in range(0,dia+1):\n",
        "  afectados = calcular_afectados(d)\n",
        "  criticos = calcular_criticos(afectados)\n",
        "  exitus = calcular_exitus(afectados)\n",
        "  estado = calcular_estado(criticos)\n",
        "  datos_total.append((d, afectados, criticos, exitus, estado))\n",
        "print(datos_total)"
      ],
      "execution_count": null,
      "outputs": [
        {
          "output_type": "stream",
          "text": [
            "[('dia', 'afectados', 'criticos', 'exitus', 'estado'), (0, 4250, 425.0, 106.25, 'No saturación'), (1, 5738, 573.8000000000001, 143.45000000000002, 'No saturación'), (2, 7746, 774.6, 193.65, 'No saturación'), (3, 10457, 1045.7, 261.425, 'No saturación'), (4, 14116, 1411.6000000000001, 352.90000000000003, 'No saturación'), (5, 19057, 1905.7, 476.425, 'No saturación'), (6, 25727, 2572.7000000000003, 643.1750000000001, 'No saturación'), (7, 34732, 3473.2000000000003, 868.3000000000001, 'Saturación'), (8, 46888, 4688.8, 1172.2, 'Saturación'), (9, 63298, 6329.8, 1582.45, 'Saturación'), (10, 85453, 8545.300000000001, 2136.3250000000003, 'Saturación'), (11, 115361, 11536.1, 2884.025, 'Saturación'), (12, 155738, 15573.800000000001, 3893.4500000000003, 'Saturación'), (13, 210246, 21024.600000000002, 5256.150000000001, 'Saturación'), (14, 283832, 28383.2, 7095.8, 'Saturación'), (15, 383173, 38317.3, 9579.325, 'Saturación'), (16, 517284, 51728.4, 12932.1, 'Saturación'), (17, 698334, 69833.40000000001, 17458.350000000002, 'Saturación'), (18, 942750, 94275.0, 23568.75, 'Saturación'), (19, 1272713, 127271.3, 31817.825, 'Saturación'), (20, 1718163, 171816.30000000002, 42954.075000000004, 'Saturación'), (21, 2319520, 231952.0, 57988.0, 'Saturación')]\n"
          ],
          "name": "stdout"
        }
      ]
    },
    {
      "cell_type": "markdown",
      "metadata": {
        "id": "Y7uqXFRtg6Ht"
      },
      "source": [
        "\n",
        "c) Convierte el código anterior en una función que genere un archivo de texto con nombre `output.txt`, siguiendo este formato: \n",
        "```\n",
        "Dia, Afectados, Críticos, Exitus, Estado\n",
        "0, 4250, 425,  106, No Saturación\n",
        "1, 5737, 573,  143, No Saturación\n",
        "2, 7745, 774,  193, No Saturación\n",
        "...\n",
        "```\n",
        "Con los parámetros de entrada $N$, $D$, $\\beta$, camas SMI.\n",
        "\n",
        "<span style=\"font-family: Courier New; background-color: #82b74b; color: #000000; padding: 2px; \">NM</span>"
      ]
    },
    {
      "cell_type": "code",
      "metadata": {
        "id": "kRXf1LBDg6Hu"
      },
      "source": [
        "# Respuesta\n"
      ],
      "execution_count": null,
      "outputs": []
    },
    {
      "cell_type": "code",
      "metadata": {
        "colab": {
          "base_uri": "https://localhost:8080/"
        },
        "id": "lH79_hUtZhM9",
        "outputId": "84888ed0-e0cc-4f07-9509-5ce0a48b454c"
      },
      "source": [
        "n=4000\n",
        "beta=0.35\n",
        "dia=21\n",
        "\n",
        "\n",
        "def calcular_afectados(n,dia,beta):\n",
        "  afectados = round((1+beta)**dia*n)\n",
        "  return afectados\n",
        "\n",
        "def calcular_criticos(afectados):\n",
        "  criticos = 0.10*afectados\n",
        "  return criticos\n",
        "\n",
        "def calcular_exitus(afectados):\n",
        "  exitus = 0.025*afectados\n",
        "  return exitus\n",
        "\n",
        "def calcular_estado(criticos):\n",
        "  estado = 'No saturación'\n",
        "  if criticos > 3363:\n",
        "    estado = 'Saturación'\n",
        "  return estado\n",
        "\n",
        "from io import open\n",
        "\n",
        "f = open('output.txt', 'w')\n",
        "texto = 'dia' + '\\t' + '\\t' + 'afectados' + '\\t' + '\\t' + 'criticos' + '\\t' + '\\t' + '\\t'  + 'exitus' +  '\\t' + '\\t' + '\\t' + '\\t' + 'estado' + '\\t' + '\\n' \n",
        "f.write(texto)\n",
        "\n",
        "for d in range(0,dia+1):\n",
        "  afectados = round(calcular_afectados(n,d,beta),2)\n",
        "  criticos = round(calcular_criticos(afectados),2)\n",
        "  exitus = round(calcular_exitus(afectados),2)\n",
        "  estado = calcular_estado(criticos)\n",
        "  texto = str(d) + '\\t' + '\\t' + str(afectados) + '\\t' + '\\t' + '\\t' + str(criticos) + '\\t' + '\\t' + '\\t' + '\\t' + str(exitus) +  '\\t' + '\\t' + '\\t' +'\\t'+ str(estado) +'\\n'\n",
        "  f.write(texto)\n",
        "f.close()\n",
        "  \n",
        "#hacemos un check para ver si está bien o no\n",
        "f = open('output.txt', 'r')\n",
        "texto2=f.read()\n",
        "f.close()\n",
        "print(texto2)\n"
      ],
      "execution_count": null,
      "outputs": [
        {
          "output_type": "stream",
          "text": [
            "dia\t\tafectados\t\tcriticos\t\t\texitus\t\t\t\testado\t\n",
            "0\t\t4000\t\t\t400.0\t\t\t\t100.0\t\t\t\tNo saturación\n",
            "1\t\t5400\t\t\t540.0\t\t\t\t135.0\t\t\t\tNo saturación\n",
            "2\t\t7290\t\t\t729.0\t\t\t\t182.25\t\t\t\tNo saturación\n",
            "3\t\t9842\t\t\t984.2\t\t\t\t246.05\t\t\t\tNo saturación\n",
            "4\t\t13286\t\t\t1328.6\t\t\t\t332.15\t\t\t\tNo saturación\n",
            "5\t\t17936\t\t\t1793.6\t\t\t\t448.4\t\t\t\tNo saturación\n",
            "6\t\t24214\t\t\t2421.4\t\t\t\t605.35\t\t\t\tNo saturación\n",
            "7\t\t32689\t\t\t3268.9\t\t\t\t817.23\t\t\t\tNo saturación\n",
            "8\t\t44130\t\t\t4413.0\t\t\t\t1103.25\t\t\t\tSaturación\n",
            "9\t\t59575\t\t\t5957.5\t\t\t\t1489.38\t\t\t\tSaturación\n",
            "10\t\t80426\t\t\t8042.6\t\t\t\t2010.65\t\t\t\tSaturación\n",
            "11\t\t108575\t\t\t10857.5\t\t\t\t2714.38\t\t\t\tSaturación\n",
            "12\t\t146577\t\t\t14657.7\t\t\t\t3664.43\t\t\t\tSaturación\n",
            "13\t\t197879\t\t\t19787.9\t\t\t\t4946.98\t\t\t\tSaturación\n",
            "14\t\t267136\t\t\t26713.6\t\t\t\t6678.4\t\t\t\tSaturación\n",
            "15\t\t360634\t\t\t36063.4\t\t\t\t9015.85\t\t\t\tSaturación\n",
            "16\t\t486856\t\t\t48685.6\t\t\t\t12171.4\t\t\t\tSaturación\n",
            "17\t\t657255\t\t\t65725.5\t\t\t\t16431.38\t\t\t\tSaturación\n",
            "18\t\t887295\t\t\t88729.5\t\t\t\t22182.38\t\t\t\tSaturación\n",
            "19\t\t1197848\t\t\t119784.8\t\t\t\t29946.2\t\t\t\tSaturación\n",
            "20\t\t1617094\t\t\t161709.4\t\t\t\t40427.35\t\t\t\tSaturación\n",
            "21\t\t2183077\t\t\t218307.7\t\t\t\t54576.93\t\t\t\tSaturación\n",
            "\n"
          ],
          "name": "stdout"
        }
      ]
    },
    {
      "cell_type": "code",
      "metadata": {
        "colab": {
          "base_uri": "https://localhost:8080/"
        },
        "id": "RcPZ5O3i1brL",
        "outputId": "e66c7e61-02fb-4b81-8f7d-069413c58480"
      },
      "source": [
        "texto = 'dia'+'\\t'+'afectados'+'\\t'+'criticos'+'\\t'+'exitus'+'\\t'+'estado'+'\\n' \n",
        "print(texto)"
      ],
      "execution_count": null,
      "outputs": [
        {
          "output_type": "stream",
          "text": [
            "dia\tafectados\tcriticos\texitus\testado\n",
            "\n"
          ],
          "name": "stdout"
        }
      ]
    },
    {
      "cell_type": "markdown",
      "metadata": {
        "id": "pC-iY-HVg6Hu"
      },
      "source": [
        "### Ejercicio 3\n",
        "\n",
        "Dado el siguiente diccionario:"
      ]
    },
    {
      "cell_type": "code",
      "metadata": {
        "id": "T1OwDZ1ug6Hu"
      },
      "source": [
        "d = {\"Alex\":344334443, \"Eva\":5533443, \"Cristina\":443355, \"Jonas\":33223324}"
      ],
      "execution_count": null,
      "outputs": []
    },
    {
      "cell_type": "markdown",
      "metadata": {
        "id": "cFvMdb_9g6Hv"
      },
      "source": [
        "Escribid una función que pregunte al usuario que introduzca el nombre de una persona y muestre por pantalla el nombre de la persona y su teléfono. \n",
        "\n",
        "Tened en cuenta que:\n",
        "\n",
        "- La función debe controlar que el valor introducido por el usuario es un nombre que existe en el diccionario. En caso contrario, mostrará un mensaje de error (\"El nombre introducido no corresponde a ninguna persona\") y devolverá el valor False.\n",
        "- Debéis tener en cuenta que el nombre de las personas que nos pasan por parámetro puede ser en minúsculas, mayúsculas o una combinación de ambas, y que debemos encontrar el número de teléfono aunque la capitalización de la cadena entrada por el usuario no sea exactamente la misma que hemos almacenado en el diccionario.\n",
        "- Suponed que  no hay acentos en los nombres.\n",
        "\n",
        "Nota 1: Para realizar la actividad, tendréis que capturar un texto que entrará el usuario. Consultad la [documentación oficial de la función input](https://docs.python.org/3/library/functions.html#input) para ver cómo hacerlo.\n",
        "\n",
        "Nota 2: También tendréis que pensar cómo tratar el hecho de que el usuario pueda utilizar mayúsculas y minúsculas en la escritura del nombre en el diccionario. ¡Os animamos a usar un buscador para intentar encontrar alguna alternativa para resolver este subproblema! ¡Recordad citar las referencias que hayáis usado para resolverlo!\n",
        "\n",
        "<span style=\"font-family: Courier New; background-color: #ffcc5c; color: #000000; padding: 3px; \">EG</span>"
      ]
    },
    {
      "cell_type": "code",
      "metadata": {
        "id": "9wkrgiPLg6Hv",
        "colab": {
          "base_uri": "https://localhost:8080/"
        },
        "outputId": "138e1592-c114-436a-dd79-d3f0b73662d4"
      },
      "source": [
        "d = {\"Alex\":344334443, \"Eva\":5533443, \"Cristina\":443355, \"Jonas\":33223324}\n",
        "\n",
        "# Respuesta\n",
        "\n",
        "def obtener_telefono():\n",
        "  nombre = input ('Escribe un nombre: ')\n",
        "  nombre=nombre.capitalize()\n",
        "  if d.get(nombre) == None:\n",
        "    print(\"El nombre introducido no corresponde a ninguna persona\")\n",
        "    return False\n",
        "  else:\n",
        "    print(nombre, ': ', d.get(nombre))\n",
        "    return True\n",
        "  \n",
        "\n",
        "obtener_telefono()"
      ],
      "execution_count": null,
      "outputs": [
        {
          "output_type": "stream",
          "text": [
            "Escribe un nombre: cristina\n",
            "Cristina :  443355\n"
          ],
          "name": "stdout"
        },
        {
          "output_type": "execute_result",
          "data": {
            "text/plain": [
              "True"
            ]
          },
          "metadata": {
            "tags": []
          },
          "execution_count": 14
        }
      ]
    },
    {
      "cell_type": "markdown",
      "metadata": {
        "id": "vO-RPK1ag6Hw"
      },
      "source": [
        "Referencias consultadas:\n",
        "\n",
        "*Incluir aquí las referencias*"
      ]
    },
    {
      "cell_type": "markdown",
      "metadata": {
        "id": "9anlvAzLg6Hw"
      },
      "source": [
        "###  Ejercicio 4\n",
        "\n",
        "Python dispone de un **idiom** muy útil conocido como `list comprehension`. Utilizando este **idiom**, proporcionad una expresión que devuelva las listas siguientes.\n",
        "\n",
        "Nota: Para realizar esta actividad necesitaréis investigar qué son las `list comprehension` y qué sintaxis utilizan. Para ello, se recomienda en primer lugar que utilicéis un buscador para encontrar información genérica sobre esta construcción. Después, os recomendamos que consultéis stackoverflow para ver algunos ejemplos de problemas que se pueden resolver con esta construcción.\n",
        "\n",
        "\n",
        "[stackoverflow](https://stackoverflow.com/) es un sitio de preguntas-y-respuestas muy popular entre programadores. Veréis que para la gran mayoría de las dudas que tengáis, habrá alguien que ya les habrá tenido (y consultado) anteriormente! Así pues, más allá de preguntar vosotros mismos las dudas allí (nosotros ya tenemos el foro del aula para ello!), consultar esta web os permitirá ver qué soluciones proponen otros programadores a estas dudas. A menudo habrá más de una solución a un mismo problema, y podréis valorar cuál es la más adecuada para vuestro problema.\n",
        "\n",
        "Para ver ejemplos de problemas que son adecuados para resolver con **list comprehensions**, os recomendamos leer las siguientes páginas:\n",
        "* https://stackoverflow.com/questions/12555443/squaring-all-elements-in-a-list\n",
        "* https://stackoverflow.com/questions/18551458/how-to-frame-two-for-loops-in-list-comprehension-python\n",
        "* https://stackoverflow.com/questions/24442091/list-comprehension-with-condition\n",
        "* https://stackoverflow.com/questions/41676212/i-want-to-return-only-the-odd-numbers-in-a-list\n",
        "* https://stackoverflow.com/questions/4260280/if-else-in-a-list-comprehension\n",
        "\n",
        "<span style=\"font-family: Courier New; background-color: #ffcc5c; color: #000000; padding: 3px; \">EG</span>\n"
      ]
    },
    {
      "cell_type": "markdown",
      "metadata": {
        "id": "VAeXpvKqg6Hw"
      },
      "source": [
        "a) Una lista con los valores $4 x^2$ donde $x$ es cada uno de los números de la lista `list_1`:"
      ]
    },
    {
      "cell_type": "code",
      "metadata": {
        "id": "M5vR6K9zg6Hw",
        "colab": {
          "base_uri": "https://localhost:8080/"
        },
        "outputId": "d25102fa-f129-4439-9758-a30fe9571859"
      },
      "source": [
        "list_1 = [1, 2, 3, 4, 5, 6, 7, 8, 9]\n",
        "\n",
        "# Respuesta\n",
        "\n",
        "list_2 = [4*x**2 for x in list_1]\n",
        "print (list_2)"
      ],
      "execution_count": null,
      "outputs": [
        {
          "output_type": "stream",
          "text": [
            "[4, 16, 36, 64, 100, 144, 196, 256, 324]\n"
          ],
          "name": "stdout"
        }
      ]
    },
    {
      "cell_type": "markdown",
      "metadata": {
        "id": "mFAlP_EFg6Hx"
      },
      "source": [
        "b) Una lista con los valores $x/(x+1)$ donde $x$ es cada uno de los números de la lista `list_1`:"
      ]
    },
    {
      "cell_type": "code",
      "metadata": {
        "id": "sVA7KFXQg6Hx",
        "colab": {
          "base_uri": "https://localhost:8080/"
        },
        "outputId": "d67e282f-4cee-4f6f-f55f-f2513f838ca9"
      },
      "source": [
        "list_1 = [1, 2, 3, 4, 5, 6, 7, 8, 9]\n",
        "\n",
        "# Respuesta\n",
        "\n",
        "list_2 = [round(x/(x+1),2) for x in list_1]\n",
        "print(list_2)"
      ],
      "execution_count": null,
      "outputs": [
        {
          "output_type": "stream",
          "text": [
            "[0.5, 0.67, 0.75, 0.8, 0.83, 0.86, 0.88, 0.89, 0.9]\n"
          ],
          "name": "stdout"
        }
      ]
    },
    {
      "cell_type": "markdown",
      "metadata": {
        "id": "L_UqZG5sg6Hx"
      },
      "source": [
        "c) Una lista con los valores $4x^2/(4x^2-1)$ donde $x$ es cada uno de los números de la lista `list_1`:"
      ]
    },
    {
      "cell_type": "code",
      "metadata": {
        "id": "XlpYd7ukg6Hx",
        "colab": {
          "base_uri": "https://localhost:8080/"
        },
        "outputId": "bfef94d5-4a50-48b2-ab88-fe1d6848b0ec"
      },
      "source": [
        "list_1 = [1, 2, 3, 4, 5, 6, 7, 8, 9]\n",
        "\n",
        "# Respuesta\n",
        "\n",
        "list_2 = [round(4*x**2/(4*x**2-1),2) for x in list_1]\n",
        "print(list_2)\n"
      ],
      "execution_count": null,
      "outputs": [
        {
          "output_type": "stream",
          "text": [
            "[1.33, 1.07, 1.03, 1.02, 1.01, 1.01, 1.01, 1.0, 1.0]\n"
          ],
          "name": "stdout"
        }
      ]
    },
    {
      "cell_type": "markdown",
      "metadata": {
        "id": "heirhLCHg6Hx"
      },
      "source": [
        "### Ejercicio 5\n",
        "\n",
        "Las funciones `lambda` son formas de expresar y definir funciones pequeñas sin necesidad de usar el constructor `def funcion():`.\n",
        "\n",
        "Lee sobre las funciones lambda, por ejemplo [aquí](https://www.w3schools.com/python/python_lambda.asp) o [aquí](https://realpython.com/python-lambda/)\n",
        "\n",
        "Escribe una función $f$ con argumento $n$, $f(n)$, que **devuelva una función** lambda, que esta a su vez devuelva $n$ copias de una cadena de caracteres en su argumento: \n",
        "\n",
        "<span style=\"font-family: Courier New; background-color: #f2ae72; color: #000000; padding: 3px; \">EI</span>"
      ]
    },
    {
      "cell_type": "code",
      "metadata": {
        "jupyter": {
          "source_hidden": true
        },
        "id": "4AGfHSEbg6Hy",
        "colab": {
          "base_uri": "https://localhost:8080/"
        },
        "outputId": "e810da5e-022c-4288-8c09-49d710d3e1d5"
      },
      "source": [
        "# Respuesta\n",
        "\n",
        "def f(n): \n",
        "    # Definir de la función usando una método lambda\n",
        "    texto = 'hola'\n",
        "    respuesta = texto\n",
        "    for i in range(1,n):\n",
        "        respuesta = respuesta + ' ' + texto\n",
        "    return(respuesta)\n",
        "\n",
        "r = f(5)\n",
        "print(r)\n",
        "#r(\"hola\")  # Donde deberíamos ver 5 copias del literal \"Hola \""
      ],
      "execution_count": null,
      "outputs": [
        {
          "output_type": "stream",
          "text": [
            "hola hola hola hola hola\n"
          ],
          "name": "stdout"
        }
      ]
    },
    {
      "cell_type": "code",
      "metadata": {
        "colab": {
          "base_uri": "https://localhost:8080/"
        },
        "id": "nOGwWuXQ8ltz",
        "outputId": "a92e5d14-f93f-4a7f-d74d-9e4d64f25dc2"
      },
      "source": [
        "def f(n):\n",
        "    # Definir la función usando una método lambda\n",
        "    respuesta = lambda texto: texto*n\n",
        "    return(respuesta)\n",
        "\n",
        "r = f(5)\n",
        "print(r('hola'))"
      ],
      "execution_count": null,
      "outputs": [
        {
          "output_type": "stream",
          "text": [
            "holaholaholaholahola\n"
          ],
          "name": "stdout"
        }
      ]
    },
    {
      "cell_type": "code",
      "metadata": {
        "colab": {
          "base_uri": "https://localhost:8080/"
        },
        "id": "yhlmKyoFqYSj",
        "outputId": "8ab5056b-6c23-410e-8b36-ce760e07eccf"
      },
      "source": [
        "suma = lambda a,b: a+b\n",
        "print(suma(5,6))\n"
      ],
      "execution_count": null,
      "outputs": [
        {
          "output_type": "stream",
          "text": [
            "11\n"
          ],
          "name": "stdout"
        }
      ]
    },
    {
      "cell_type": "markdown",
      "metadata": {
        "id": "5CZ8lBmfg6Hy"
      },
      "source": [
        "### Ejercicio Opcional\n",
        "\n",
        "Existe una expresión atribuida a John Wallis (1616) para la estimación del valor de $\\pi$, consistente en: \n",
        "\n",
        "$$\n",
        "\\frac{\\pi}{2} = \\prod_{n=1}^{N} (\\frac{4n^2}{4n^2 - 1})\n",
        "$$\n",
        "si $N$ es suficientemente grande  $N \\to \\infty$. \n",
        "\n",
        "Escribe una función que, dado una aproximación N, calcule una estimación de $\\pi$ siguiendo la fórmula de Wallis. \n",
        "\n",
        "\n",
        "\n",
        "**Consideraciones:**\n",
        "\n",
        "- Investigad las funciones map, reduce\n",
        "- También podéis usar una list comprehension\n",
        "- Las funciones lambda os pueden ser útiles\n",
        "\n",
        "<span style=\"font-family: Courier New; background-color: #f2ae72; color: #000000; padding: 3px; \">EI</span>"
      ]
    },
    {
      "cell_type": "code",
      "metadata": {
        "attributes": {
          "classes": [
            "sourceCode"
          ],
          "id": ""
        },
        "id": "V_rAHIIsg6Hy"
      },
      "source": [
        "# Respuesta"
      ],
      "execution_count": null,
      "outputs": []
    },
    {
      "cell_type": "code",
      "metadata": {
        "colab": {
          "base_uri": "https://localhost:8080/"
        },
        "id": "7XuLCsCfVfNP",
        "outputId": "c0616c89-dd76-4754-c4a6-3777b1090830"
      },
      "source": [
        "def calcular_pi(n):\n",
        "  pi = 2 #punto de partida al despejar pi en la ecuación de John Wallis\n",
        "  for n in range(1,n+1):\n",
        "    pi = pi*4*n**2/(4*n**2-1)\n",
        "  return pi\n",
        "\n",
        "print(calcular_pi(500000))\n"
      ],
      "execution_count": 9,
      "outputs": [
        {
          "output_type": "stream",
          "text": [
            "3.1415910827956552\n"
          ],
          "name": "stdout"
        }
      ]
    }
  ]
}